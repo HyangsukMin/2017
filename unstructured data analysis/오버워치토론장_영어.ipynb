{
 "cells": [
  {
   "cell_type": "markdown",
   "metadata": {},
   "source": [
    "오버워치 토론장 \n",
    "1. 미리보기가 있지만 게시글 내부로 들어가면 수많은 댓글이 있음.\n",
    "2. 댓글 내부에는 인용이라는 기능이 있어서 인용 부분을 없애주어야함.\n",
    "3. 댓글을 달경우 게시글이 끌어올려짐.\n",
    "4. 게시글 내부에 페이지가 존재하는데, 그 페이지는 게시글마다 다름.\n",
    "5. 홈페이지 업데이트 속도가 굉장히 느림.\n",
    "--> 모든 게시글의 링크를 모은 뒤, 혹시모를 중복제거.\n",
    "--> 그 후 다음 버튼을 없어질 때까지 눌러줌.\n",
    "--> 인용부분 제거."
   ]
  },
  {
   "cell_type": "code",
   "execution_count": 2,
   "metadata": {
    "collapsed": true
   },
   "outputs": [],
   "source": [
    "import requests\n",
    "import lxml.html"
   ]
  },
  {
   "cell_type": "code",
   "execution_count": 66,
   "metadata": {
    "collapsed": true
   },
   "outputs": [],
   "source": [
    "page=1\n",
    "url='https://us.battle.net/forums/en/overwatch/22813879/?page={}'.format(page)"
   ]
  },
  {
   "cell_type": "code",
   "execution_count": 67,
   "metadata": {
    "collapsed": true
   },
   "outputs": [],
   "source": [
    "res=requests.get(url)"
   ]
  },
  {
   "cell_type": "code",
   "execution_count": 68,
   "metadata": {
    "collapsed": true
   },
   "outputs": [],
   "source": [
    "root=lxml.html.fromstring(res.text)"
   ]
  },
  {
   "cell_type": "code",
   "execution_count": 69,
   "metadata": {
    "collapsed": true
   },
   "outputs": [],
   "source": [
    "link=root.cssselect('.ForumTopic')"
   ]
  },
  {
   "cell_type": "code",
   "execution_count": 74,
   "metadata": {},
   "outputs": [
    {
     "data": {
      "text/plain": [
       "'https://us.battle.net/forums/en/overwatch/topic/20759189782'"
      ]
     },
     "execution_count": 74,
     "metadata": {},
     "output_type": "execute_result"
    }
   ],
   "source": [
    "'https://us.battle.net'+root.cssselect('#forum-topics > div.Forum-ForumTopicList > a:nth-child(2)')[0].attrib['href']"
   ]
  },
  {
   "cell_type": "code",
   "execution_count": 70,
   "metadata": {
    "collapsed": true
   },
   "outputs": [],
   "source": [
    "res2=requests.get('https://us.battle.net'+root.cssselect('#forum-topics > div.Forum-ForumTopicList > a:nth-child(2)')[0].attrib['href'])"
   ]
  },
  {
   "cell_type": "code",
   "execution_count": 71,
   "metadata": {
    "collapsed": true
   },
   "outputs": [],
   "source": [
    "root2=lxml.html.fromstring(res2.text)"
   ]
  },
  {
   "cell_type": "code",
   "execution_count": 75,
   "metadata": {},
   "outputs": [
    {
     "data": {
      "text/plain": [
       "<Element div at 0x229c9593cc8>"
      ]
     },
     "execution_count": 75,
     "metadata": {},
     "output_type": "execute_result"
    }
   ],
   "source": [
    "cmt=root2.cssselect('div.TopicPost-bodyContent')[3];cmt"
   ]
  },
  {
   "cell_type": "code",
   "execution_count": 77,
   "metadata": {},
   "outputs": [
    {
     "data": {
      "text/plain": [
       "\"I've got an idea about how they could rework scatter arrow.There's a button on the keyboard near the enter key (above the arrow keys) that says 'delete' on it. I think if Blizzard were to push it, Scatter Arrow would instantly become balanced and fairNow, I rarely play hanzo, the class style is known as a “anti Inflator/escapist” the Scatter was primarily built for stopping any sort of low health or incoming in tight spots. Which is the only real reason I want to play hanzo, because shooting a bow is fun and so is getting those tighter corners.But since Some people (youtubers) expose this, everyone follows.\""
      ]
     },
     "execution_count": 77,
     "metadata": {},
     "output_type": "execute_result"
    }
   ],
   "source": [
    "cmt.text_content()"
   ]
  },
  {
   "cell_type": "code",
   "execution_count": 92,
   "metadata": {
    "collapsed": true
   },
   "outputs": [],
   "source": [
    "for script in cmt.cssselect('blockquote'):\n",
    "    cmt.remove(script)"
   ]
  },
  {
   "cell_type": "code",
   "execution_count": 97,
   "metadata": {},
   "outputs": [
    {
     "data": {
      "text/plain": [
       "<Element blockquote at 0x229c74721d8>"
      ]
     },
     "execution_count": 97,
     "metadata": {},
     "output_type": "execute_result"
    }
   ],
   "source": [
    "script"
   ]
  },
  {
   "cell_type": "code",
   "execution_count": 88,
   "metadata": {},
   "outputs": [
    {
     "ename": "TypeError",
     "evalue": "remove() takes no keyword arguments",
     "output_type": "error",
     "traceback": [
      "\u001b[1;31m---------------------------------------------------------------------------\u001b[0m",
      "\u001b[1;31mTypeError\u001b[0m                                 Traceback (most recent call last)",
      "\u001b[1;32m<ipython-input-88-51f69ab66304>\u001b[0m in \u001b[0;36m<module>\u001b[1;34m()\u001b[0m\n\u001b[1;32m----> 1\u001b[1;33m \u001b[0mcmt\u001b[0m\u001b[1;33m.\u001b[0m\u001b[0mremove\u001b[0m\u001b[1;33m(\u001b[0m\u001b[0ma\u001b[0m\u001b[1;33m=\u001b[0m\u001b[0mcmt\u001b[0m\u001b[1;33m.\u001b[0m\u001b[0mcssselect\u001b[0m\u001b[1;33m(\u001b[0m\u001b[1;34m'blockquote'\u001b[0m\u001b[1;33m)\u001b[0m\u001b[1;33m)\u001b[0m\u001b[1;33m\u001b[0m\u001b[0m\n\u001b[0m",
      "\u001b[1;31mTypeError\u001b[0m: remove() takes no keyword arguments"
     ]
    }
   ],
   "source": [
    "cmt.remove()"
   ]
  },
  {
   "cell_type": "code",
   "execution_count": 85,
   "metadata": {},
   "outputs": [
    {
     "data": {
      "text/plain": [
       "[<Element blockquote at 0x229c74721d8>]"
      ]
     },
     "execution_count": 85,
     "metadata": {},
     "output_type": "execute_result"
    }
   ],
   "source": [
    "cmt.cssselect('blockquote')"
   ]
  },
  {
   "cell_type": "code",
   "execution_count": 90,
   "metadata": {},
   "outputs": [
    {
     "data": {
      "text/plain": [
       "[<Element blockquote at 0x229c74721d8>]"
      ]
     },
     "execution_count": 90,
     "metadata": {},
     "output_type": "execute_result"
    }
   ],
   "source": [
    "a=cmt.cssselect('blockquote');a"
   ]
  },
  {
   "cell_type": "code",
   "execution_count": 100,
   "metadata": {
    "collapsed": true,
    "scrolled": true
   },
   "outputs": [],
   "source": [
    "if cmt.cssselect('blockquote')!=[]:\n",
    "    cmt.remove(cmt.cssselect('blockquote')[0])"
   ]
  },
  {
   "cell_type": "code",
   "execution_count": 101,
   "metadata": {},
   "outputs": [
    {
     "data": {
      "text/plain": [
       "'Now, I rarely play hanzo, the class style is known as a “anti Inflator/escapist” the Scatter was primarily built for stopping any sort of low health or incoming in tight spots. Which is the only real reason I want to play hanzo, because shooting a bow is fun and so is getting those tighter corners.But since Some people (youtubers) expose this, everyone follows.'"
      ]
     },
     "execution_count": 101,
     "metadata": {},
     "output_type": "execute_result"
    }
   ],
   "source": [
    "cmt.text_content()"
   ]
  },
  {
   "cell_type": "code",
   "execution_count": 148,
   "metadata": {
    "collapsed": true
   },
   "outputs": [],
   "source": [
    "link=[]\n",
    "for page in range(1,10):\n",
    "    url='https://us.battle.net/forums/en/overwatch/22813879/?page={}'.format(page)\n",
    "    res=requests.get(url)\n",
    "    root=lxml.html.fromstring(res.text)\n",
    "    for elm in root.cssselect('.ForumTopic'):\n",
    "        link.append('https://us.battle.net'+elm.attrib['href'])\n"
   ]
  },
  {
   "cell_type": "code",
   "execution_count": 153,
   "metadata": {},
   "outputs": [
    {
     "data": {
      "text/plain": [
       "448"
      ]
     },
     "execution_count": 153,
     "metadata": {},
     "output_type": "execute_result"
    }
   ],
   "source": [
    "len(link)"
   ]
  },
  {
   "cell_type": "markdown",
   "metadata": {},
   "source": [
    "1. 먼저 위에서 게시글에 대한 링크를 모은다.\n",
    "2. 게시물 한 개씩 접근한다.\n",
    "3. 접근해서 페이지에 있는 댓글부분을 모아준다.\n",
    "4. 각 댓글에 대해서 댓글 내용을 뽑아내기 이전에, 인용부분을 제거하고 뽑아서 저장한다."
   ]
  },
  {
   "cell_type": "code",
   "execution_count": 129,
   "metadata": {},
   "outputs": [
    {
     "data": {
      "text/plain": [
       "['https://us.battle.net/forums/en/overwatch/topic/20759219984']"
      ]
     },
     "execution_count": 129,
     "metadata": {},
     "output_type": "execute_result"
    }
   ],
   "source": [
    "link[6:7]"
   ]
  },
  {
   "cell_type": "code",
   "execution_count": 128,
   "metadata": {
    "collapsed": true
   },
   "outputs": [],
   "source": [
    "comments=[]\n",
    "for url in link[4:] :\n",
    "    res2=requests.get(url)\n",
    "    root2=lxml.html.fromstring(res2.text)\n",
    "    cmt=root2.cssselect('div.TopicPost-bodyContent')\n",
    "    for elm in cmt:\n",
    "        if elm.cssselect('.quote-public')!=[]:\n",
    "            elm.remove(elm.cssselect('.quote-public')[0])\n",
    "        if elm.cssselect('blockquote')!=[]:\n",
    "            elm.remove(elm.cssselect('blockquote')[0])\n",
    "        comments.append(elm.text_content())"
   ]
  },
  {
   "cell_type": "markdown",
   "metadata": {},
   "source": [
    "각 게시글 내부에서 페이지를 넘기면서 댓글을 긁어 모으는 루프 만들기\n",
    "끝을 모르기 때문에 while 사용하기."
   ]
  },
  {
   "cell_type": "code",
   "execution_count": 265,
   "metadata": {},
   "outputs": [
    {
     "data": {
      "text/plain": [
       "'https://us.battle.net/forums/en/overwatch/topic/20758447090'"
      ]
     },
     "execution_count": 265,
     "metadata": {},
     "output_type": "execute_result"
    }
   ],
   "source": [
    "link[40]"
   ]
  },
  {
   "cell_type": "code",
   "execution_count": 352,
   "metadata": {
    "collapsed": true
   },
   "outputs": [],
   "source": [
    "res3=requests.get('https://us.battle.net/forums/en/overwatch/topic/20758447090?page=23')\n",
    "root3=lxml.html.fromstring(res3.text)\n",
    "comments=[]\n",
    "cmt=root3.cssselect('.TopicPost-bodyContent')"
   ]
  },
  {
   "cell_type": "code",
   "execution_count": 356,
   "metadata": {
    "collapsed": true
   },
   "outputs": [],
   "source": [
    "comments2=[]\n",
    "for elm in cmt:\n",
    "    if elm.cssselect('.quote-public')!=[]:\n",
    "        elm.remove(elm.cssselect('.quote-public')[0])\n",
    "    if elm.cssselect('blockquote')!=[]:\n",
    "        elm.remove(elm.cssselect('blockquote')[0])\n",
    "    comments2.append(elm.text_content())"
   ]
  },
  {
   "cell_type": "code",
   "execution_count": 357,
   "metadata": {
    "scrolled": true
   },
   "outputs": [
    {
     "data": {
      "text/plain": [
       "['Bumping this thread to keep it alive. Also doing so as a new patch went live without anything in the OP for us.',\n",
       " '',\n",
       " '',\n",
       " \"I thought cost was a per patch basis? Couldn't the console qol changes be included with another update that has hero changes or more content?\",\n",
       " \"If I remember correctly, sony and microsofr both charge Blizz like 40k dollars for every update no matter the size. Thats why the bug fixes and everything comes 'later' all together im big updates.But I wouldnt mind paying another extra 20bucks for all this ideas we have. If only they would DO IT.Its been 1 year and a half and console is still dead silenced. Im gettinf angry, at least a 'we are working on it' but noooo, nothing, NADA.\",\n",
       " \"By choose the region do you mean the servers? Because I'm all for that. Not sure why (as a European) I can't join the NA servers if I want\",\n",
       " '',\n",
       " '',\n",
       " '',\n",
       " 'Oh sorry ^^;',\n",
       " \"[Bookmarked] I'm bumping this everyday. Its crazy for this not to have been seen.\",\n",
       " 'ability to recommend a hero, for example while i\\'m on the hero select screen, i can press X/square (i think, i don\\'t know the playstation controls :s) to pop up a message saying something along the lines of \"[player] would like [hero]\".',\n",
       " 'SEPERATE BALANCING YES. \"pointing a big finger at Pharah\"',\n",
       " '',\n",
       " 'Even just addressing some of these would be amazing. Bringing in some console-specific balance would be much appreciated - the game controls differently, and characters with different aiming styles/mechanics are either stronger or weaker than their PC counterparts purely for it.',\n",
       " 'Bump that good stuff!',\n",
       " 'HIDE CHAT!!!!!!!!!!!!!!!!!!!!!!!!!!!!!!!!!!!!!!!!!!!We cant even use chat yet are forced to see the chat bar on the left of the screen.Against AI they all like \"GG\" and we cant even use chat!!!First thing I do when I play OW on PC?  I have F1 bound to hide chat and smash that baby priority #1!!!!',\n",
       " 'Bump',\n",
       " 'That would be nice, for when you get people spamming thanks when they die or lose when they picked the 5th dps...']"
      ]
     },
     "execution_count": 357,
     "metadata": {},
     "output_type": "execute_result"
    }
   ],
   "source": [
    "comments2"
   ]
  },
  {
   "cell_type": "code",
   "execution_count": null,
   "metadata": {
    "collapsed": true
   },
   "outputs": [],
   "source": [
    "comments=[]\n",
    "for url in link[4:] :\n",
    "    res2=requests.get(url)\n",
    "    root2=lxml.html.fromstring(res2.text)\n",
    "    cmt=root2.cssselect('div.TopicPost-bodyContent')\n",
    "    for elm in cmt:\n",
    "        comments.append(elm.xpath('text()')[0])"
   ]
  },
  {
   "cell_type": "code",
   "execution_count": 354,
   "metadata": {
    "scrolled": true
   },
   "outputs": [
    {
     "data": {
      "text/plain": [
       "['Bumping this thread to keep it alive. Also doing so as a new patch went live without anything in the OP for us.',\n",
       " \" It isn't impossible at all, but it will probably not be good, or worth it, they should focus on the actual game first.\",\n",
       " ' I forgot that it costs more on console, more reasons to think Blizzard hates console, and only put it there for money.',\n",
       " \"I thought cost was a per patch basis? Couldn't the console qol changes be included with another update that has hero changes or more content?\",\n",
       " \"If I remember correctly, sony and microsofr both charge Blizz like 40k dollars for every update no matter the size. Thats why the bug fixes and everything comes 'later' all together im big updates.\",\n",
       " \"By choose the region do you mean the servers? Because I'm all for that. Not sure why (as a European) I can't join the NA servers if I want\",\n",
       " ' We were talking about the cost of buying overwatch, not how much it costs Blizzard.',\n",
       " \" Yes, that's what it means.\",\n",
       " \" They are already very late on giving us what we paid for, but I still want my money's worth EVENTUALLY.\",\n",
       " 'Oh sorry ^^;',\n",
       " \"[Bookmarked] I'm bumping this everyday. Its crazy for this not to have been seen.\",\n",
       " 'ability to recommend a hero, for example while i\\'m on the hero select screen, i can press X/square (i think, i don\\'t know the playstation controls :s) to pop up a message saying something along the lines of \"[player] would like [hero]\".',\n",
       " 'SEPERATE BALANCING YES. \"pointing a big finger at Pharah\"',\n",
       " \" You think this hasn't been seen? Lol, they've had to see it plenty of times, they are just ignoring it, because it's console.\",\n",
       " 'Even just addressing some of these would be amazing. Bringing in some console-specific balance would be much appreciated - the game controls differently, and characters with different aiming styles/mechanics are either stronger or weaker than their PC counterparts purely for it.',\n",
       " 'Bump that good stuff!',\n",
       " 'HIDE CHAT!!!!!!!!!!!!!!!!!!!!!!!!!!!!!!!!!!!!!!!!!!!',\n",
       " 'Bump',\n",
       " 'That would be nice, for when you get people spamming thanks when they die or lose when they picked the 5th dps...']"
      ]
     },
     "execution_count": 354,
     "metadata": {},
     "output_type": "execute_result"
    }
   ],
   "source": [
    "comments"
   ]
  },
  {
   "cell_type": "code",
   "execution_count": 4,
   "metadata": {},
   "outputs": [
    {
     "name": "stdout",
     "output_type": "stream",
     "text": [
      "Ok, thread is capped, here is the link to \"Simple things that aren't on console, but should be. #2\" \n",
      "?page=2\n"
     ]
    },
    {
     "ename": "IndexError",
     "evalue": "list index out of range",
     "output_type": "error",
     "traceback": [
      "\u001b[1;31m---------------------------------------------------------------------------\u001b[0m",
      "\u001b[1;31mIndexError\u001b[0m                                Traceback (most recent call last)",
      "\u001b[1;32m<ipython-input-4-f3c48385c9c4>\u001b[0m in \u001b[0;36m<module>\u001b[1;34m()\u001b[0m\n\u001b[0;32m     14\u001b[0m         \u001b[0mcmt\u001b[0m\u001b[1;33m=\u001b[0m\u001b[0mroot3\u001b[0m\u001b[1;33m.\u001b[0m\u001b[0mcssselect\u001b[0m\u001b[1;33m(\u001b[0m\u001b[1;34m'div.TopicPost-bodyContent'\u001b[0m\u001b[1;33m)\u001b[0m\u001b[1;33m\u001b[0m\u001b[0m\n\u001b[0;32m     15\u001b[0m         \u001b[1;32mfor\u001b[0m \u001b[0melm\u001b[0m \u001b[1;32min\u001b[0m \u001b[0mcmt\u001b[0m\u001b[1;33m:\u001b[0m\u001b[1;33m\u001b[0m\u001b[0m\n\u001b[1;32m---> 16\u001b[1;33m             \u001b[0mcomments\u001b[0m\u001b[1;33m.\u001b[0m\u001b[0mappend\u001b[0m\u001b[1;33m(\u001b[0m\u001b[0melm\u001b[0m\u001b[1;33m.\u001b[0m\u001b[0mxpath\u001b[0m\u001b[1;33m(\u001b[0m\u001b[1;34m'text()'\u001b[0m\u001b[1;33m)\u001b[0m\u001b[1;33m[\u001b[0m\u001b[1;36m0\u001b[0m\u001b[1;33m]\u001b[0m\u001b[1;33m)\u001b[0m\u001b[1;33m\u001b[0m\u001b[0m\n\u001b[0m\u001b[0;32m     17\u001b[0m     \u001b[1;32mexcept\u001b[0m \u001b[0mKeyError\u001b[0m\u001b[1;33m:\u001b[0m\u001b[1;33m\u001b[0m\u001b[0m\n\u001b[0;32m     18\u001b[0m         \u001b[0mprint\u001b[0m\u001b[1;33m(\u001b[0m\u001b[1;34m'탈출'\u001b[0m\u001b[1;33m)\u001b[0m\u001b[1;33m\u001b[0m\u001b[0m\n",
      "\u001b[1;31mIndexError\u001b[0m: list index out of range"
     ]
    }
   ],
   "source": [
    "res3=requests.get('https://us.battle.net/forums/en/overwatch/topic/20758447090?page=1')\n",
    "root3=lxml.html.fromstring(res3.text)\n",
    "comments=[]\n",
    "cmt=root3.cssselect('div.TopicPost-bodyContent')\n",
    "for elm in cmt:\n",
    "    comments.append(elm.xpath('text()')[0])\n",
    "print(comments[0])\n",
    "while True:\n",
    "    try:\n",
    "        res4=requests.get('https://us.battle.net/forums/en/overwatch/topic/20758447090'+\n",
    "                          root3.cssselect('div.Topic-pagination--header > a.Pagination-button.Pagination-button--next')[0].attrib['href'])\n",
    "        print(root3.cssselect('div.Topic-pagination--header > a.Pagination-button.Pagination-button--next')[0].attrib['href'])\n",
    "        root3=lxml.html.fromstring(res4.text)\n",
    "        cmt=root3.cssselect('div.TopicPost-bodyContent')\n",
    "        for elm in cmt:\n",
    "            comments.append(elm.xpath('text()')[0])\n",
    "    except KeyError:\n",
    "        print('탈출')\n",
    "        break"
   ]
  },
  {
   "cell_type": "code",
   "execution_count": 20,
   "metadata": {},
   "outputs": [
    {
     "name": "stdout",
     "output_type": "stream",
     "text": [
      "['Ok, thread is capped, here is the link to \"Simple things that aren\\'t on console, but should be. #2\" ', 'Feel free to add to the list, I will edit in good suggestions. ', 'These suggestions are meant to be like things that PC already has and are simple to put in, or something like making the console version work better with the controller.', \"If you want this post to succeed, do anything you can to get Blizzard's attention and get them to respond. \", '-Bind controls to multiple buttons', '-Bind things like \"group up\" and \"i need healing\" to a button', '-The ability to say attack/defend the objective', '-A working linear ramp dead zone (XIM4MnK)', '-Bind a control to activate from pressing multiple buttons at a time (caracc)', '-FOV slider (BaronVonGoon)', '-Push to talk option (Lance)', '-Target callouts to a teammate like ult charge and group up (Lance)', '-In-game text chat (LilyStryfe)', '-Seperate hero balancing from PC (YamiHuss)', '-Hide menu/HUD option (HunterGambit)', '-Need permission to join group (LilyStryfe)', '-Sliders for things like dead zones and magnetism (Flash)', '-Custom bindable text chat messages (Wheels)', '-Multiple pages of the command wheel, and more commands. (smackdown316)', '-Group privacy settings like public or friends or invite only (Nazgrol)', '-Show what mode your friends are playing in the friends list (earlizd1)', '-\"Come in voice chat\" in the communication wheel (JamieJGJ)', '-Something to fix M+KB, like queuing separate (JamieJGJ)', '-The ability to change the spoken language (Purple)', '-Share cosmetics between linked PC and console accounts (Danre)', '-Ability to lower resolution for higher FPS (Galvantez)', '-Button for crouch-uncrouch (Silawatsi)/ Crouch not being restricted to toggle (Parkside001)', '-Be able to increase and decrease your sensitivity more (heyyVirus)', '-Usable PS4 touchscreen swipe functions (Silawatsi)', '-Option to separate friends list for Overwatch (KaitoKei)', '-Be able to use the PC PTR, if we link our blizzard account (MercyForAll)', '-Select region server before entering game (Eternity)', '-Hide chat (BT160507)', '-Our own section on the forums (Syirine)', '-Love and attention from Blizzard', \"We are missing so much stuff, yet it costs more money to buy on console, I am very pissed off at Blizzard. Right now, too many signs point to Blizzard, neglecting console on purpose, and only having OW on console for cash. Blizzard should be better than this, but they do nothing to show improvement in that. This is how I feel about you Blizzard, I have lost all of my patience, I'm not ok with the neglect anymore, start working on console.\", '304 likes, 26 pages, 2 and a half months, the thread is capped, and there is no response, why are you ignoring us, Blizzard?']\n"
     ]
    }
   ],
   "source": [
    "res3=requests.get('https://us.battle.net/forums/en/overwatch/topic/20758447090?page=1')\n",
    "root3=lxml.html.fromstring(res3.text)\n",
    "comments=[]\n",
    "cmt=root3.cssselect('div.TopicPost-bodyContent')\n",
    "for elm in cmt:\n",
    "    try:\n",
    "        comments.append(elm.xpath('text()'))\n",
    "    except IndexError:\n",
    "        continue\n",
    "print(comments[0])"
   ]
  },
  {
   "cell_type": "code",
   "execution_count": 27,
   "metadata": {},
   "outputs": [
    {
     "data": {
      "text/plain": [
       "'Ok, thread is capped, here is the link to \"Simple things that aren\\'t on console, but should be. #2\" Feel free to add to the list, I will edit in good suggestions. These suggestions are meant to be like things that PC already has and are simple to put in, or something like making the console version work better with the controller.If you want this post to succeed, do anything you can to get Blizzard\\'s attention and get them to respond. -Bind controls to multiple buttons-Bind things like \"group up\" and \"i need healing\" to a button-The ability to say attack/defend the objective-A working linear ramp dead zone (XIM4MnK)-Bind a control to activate from pressing multiple buttons at a time (caracc)-FOV slider (BaronVonGoon)-Push to talk option (Lance)-Target callouts to a teammate like ult charge and group up (Lance)-In-game text chat (LilyStryfe)-Seperate hero balancing from PC (YamiHuss)-Hide menu/HUD option (HunterGambit)-Need permission to join group (LilyStryfe)-Sliders for things like dead zones and magnetism (Flash)-Custom bindable text chat messages (Wheels)-Multiple pages of the command wheel, and more commands. (smackdown316)-Group privacy settings like public or friends or invite only (Nazgrol)-Show what mode your friends are playing in the friends list (earlizd1)-\"Come in voice chat\" in the communication wheel (JamieJGJ)-Something to fix M+KB, like queuing separate (JamieJGJ)-The ability to change the spoken language (Purple)-Share cosmetics between linked PC and console accounts (Danre)-Ability to lower resolution for higher FPS (Galvantez)-Button for crouch-uncrouch (Silawatsi)/ Crouch not being restricted to toggle (Parkside001)-Be able to increase and decrease your sensitivity more (heyyVirus)-Usable PS4 touchscreen swipe functions (Silawatsi)-Option to separate friends list for Overwatch (KaitoKei)-Be able to use the PC PTR, if we link our blizzard account (MercyForAll)-Select region server before entering game (Eternity)-Hide chat (BT160507)-Our own section on the forums (Syirine)-Love and attention from BlizzardWe are missing so much stuff, yet it costs more money to buy on console, I am very pissed off at Blizzard. Right now, too many signs point to Blizzard, neglecting console on purpose, and only having OW on console for cash. Blizzard should be better than this, but they do nothing to show improvement in that. This is how I feel about you Blizzard, I have lost all of my patience, I\\'m not ok with the neglect anymore, start working on console.304 likes, 26 pages, 2 and a half months, the thread is capped, and there is no response, why are you ignoring us, Blizzard?'"
      ]
     },
     "execution_count": 27,
     "metadata": {},
     "output_type": "execute_result"
    }
   ],
   "source": [
    "''.join(comments[0])"
   ]
  },
  {
   "cell_type": "code",
   "execution_count": 17,
   "metadata": {
    "collapsed": true
   },
   "outputs": [],
   "source": [
    "import numpy"
   ]
  },
  {
   "cell_type": "code",
   "execution_count": 18,
   "metadata": {
    "collapsed": true
   },
   "outputs": [],
   "source": [
    "comments = numpy.squeeze(numpy.asarray(comments))"
   ]
  },
  {
   "cell_type": "code",
   "execution_count": 22,
   "metadata": {},
   "outputs": [
    {
     "data": {
      "text/plain": [
       "'Ok, thread is capped, here is the link to \"Simple things that aren\\'t on console, but should be. #2\" '"
      ]
     },
     "execution_count": 22,
     "metadata": {},
     "output_type": "execute_result"
    }
   ],
   "source": [
    "comments"
   ]
  },
  {
   "cell_type": "code",
   "execution_count": 29,
   "metadata": {},
   "outputs": [
    {
     "name": "stdout",
     "output_type": "stream",
     "text": [
      "['Ok, thread is capped, here is the link to \"Simple things that aren\\'t on console, but should be. #2\" ', 'Feel free to add to the list, I will edit in good suggestions. ', 'These suggestions are meant to be like things that PC already has and are simple to put in, or something like making the console version work better with the controller.', \"If you want this post to succeed, do anything you can to get Blizzard's attention and get them to respond. \", '-Bind controls to multiple buttons', '-Bind things like \"group up\" and \"i need healing\" to a button', '-The ability to say attack/defend the objective', '-A working linear ramp dead zone (XIM4MnK)', '-Bind a control to activate from pressing multiple buttons at a time (caracc)', '-FOV slider (BaronVonGoon)', '-Push to talk option (Lance)', '-Target callouts to a teammate like ult charge and group up (Lance)', '-In-game text chat (LilyStryfe)', '-Seperate hero balancing from PC (YamiHuss)', '-Hide menu/HUD option (HunterGambit)', '-Need permission to join group (LilyStryfe)', '-Sliders for things like dead zones and magnetism (Flash)', '-Custom bindable text chat messages (Wheels)', '-Multiple pages of the command wheel, and more commands. (smackdown316)', '-Group privacy settings like public or friends or invite only (Nazgrol)', '-Show what mode your friends are playing in the friends list (earlizd1)', '-\"Come in voice chat\" in the communication wheel (JamieJGJ)', '-Something to fix M+KB, like queuing separate (JamieJGJ)', '-The ability to change the spoken language (Purple)', '-Share cosmetics between linked PC and console accounts (Danre)', '-Ability to lower resolution for higher FPS (Galvantez)', '-Button for crouch-uncrouch (Silawatsi)/ Crouch not being restricted to toggle (Parkside001)', '-Be able to increase and decrease your sensitivity more (heyyVirus)', '-Usable PS4 touchscreen swipe functions (Silawatsi)', '-Option to separate friends list for Overwatch (KaitoKei)', '-Be able to use the PC PTR, if we link our blizzard account (MercyForAll)', '-Select region server before entering game (Eternity)', '-Hide chat (BT160507)', '-Our own section on the forums (Syirine)', '-Love and attention from Blizzard', \"We are missing so much stuff, yet it costs more money to buy on console, I am very pissed off at Blizzard. Right now, too many signs point to Blizzard, neglecting console on purpose, and only having OW on console for cash. Blizzard should be better than this, but they do nothing to show improvement in that. This is how I feel about you Blizzard, I have lost all of my patience, I'm not ok with the neglect anymore, start working on console.\", '304 likes, 26 pages, 2 and a half months, the thread is capped, and there is no response, why are you ignoring us, Blizzard?']\n",
      "?page=2\n",
      "?page=3\n",
      "?page=4\n",
      "?page=5\n",
      "?page=6\n",
      "?page=7\n",
      "?page=8\n",
      "?page=9\n",
      "?page=10\n",
      "?page=11\n",
      "?page=12\n",
      "?page=13\n",
      "?page=14\n",
      "?page=15\n",
      "?page=16\n",
      "?page=17\n",
      "?page=18\n",
      "?page=19\n",
      "?page=20\n",
      "?page=21\n",
      "?page=22\n",
      "?page=23\n",
      "?page=24\n",
      "?page=25\n",
      "?page=26\n",
      "탈출\n"
     ]
    }
   ],
   "source": [
    "res3=requests.get('https://us.battle.net/forums/en/overwatch/topic/20758447090?page=1')\n",
    "root3=lxml.html.fromstring(res3.text)\n",
    "comments=[]\n",
    "cmt=root3.cssselect('div.TopicPost-bodyContent')\n",
    "for elm in cmt:\n",
    "    try:\n",
    "        comments.append(elm.xpath('text()'))\n",
    "    except IndexError:\n",
    "        continue\n",
    "print(comments[0])\n",
    "while True:\n",
    "    try:\n",
    "        res4=requests.get('https://us.battle.net/forums/en/overwatch/topic/20758447090'+\n",
    "                          root3.cssselect('div.Topic-pagination--header > a.Pagination-button.Pagination-button--next')[0].attrib['href'])\n",
    "        print(root3.cssselect('div.Topic-pagination--header > a.Pagination-button.Pagination-button--next')[0].attrib['href'])\n",
    "        root3=lxml.html.fromstring(res4.text)\n",
    "        cmt=root3.cssselect('div.TopicPost-bodyContent')\n",
    "        for elm in cmt:\n",
    "            try:\n",
    "                comments.append(elm.xpath('text()'))\n",
    "            except IndexError:\n",
    "                continue\n",
    "    except KeyError:\n",
    "        print('탈출')\n",
    "        break"
   ]
  },
  {
   "cell_type": "code",
   "execution_count": 6,
   "metadata": {},
   "outputs": [
    {
     "data": {
      "text/plain": [
       "['Ok, thread is capped, here is the link to \"Simple things that aren\\'t on console, but should be. #2\" ',\n",
       " 'A working linear ramp dead zone.',\n",
       " \"I'm going to say something that sounds dumb on paper here so bear with me:  If Kerbal Space Program can get all of it's controls working off an Xbox One controller, so can Overwatch.  \",\n",
       " \" I don't think it sounds dumb, sounds like a good idea. Edit: forgot to add, added it a day later.\",\n",
       " ' Added',\n",
       " 'FOV slider. Blizz QA testers have you tried playing Tracer on console? ',\n",
       " ' Added',\n",
       " 'Bump',\n",
       " '• Targeting ultimate charges to other teammates',\n",
       " 'Upvoted',\n",
       " 'A push to talk button. To talk only when necessary and not hear other players constant background noises.',\n",
       " 'In-game text chat. Really helps when people refuse to join team voice chat for some reason.',\n",
       " 'A better aiming system in general :/',\n",
       " ' I do agree, but this list is meant to be for things for the console version, those should be on both PC and console. (Not talking about Push to talk) Push to talk was added',\n",
       " 'I just really want something done about tracer, Pharah,  and mercy',\n",
       " ' Added',\n",
       " ' Both added',\n",
       " ' Yeah, me too.',\n",
       " 'console related balance decisions',\n",
       " 'A ping counter for every participant in the match, the ability to LEAVE team voice chat after joining it (People can spam the Team Comms with cellphone music and nothing can be done about it on PS4).',\n",
       " 'Bumping it up!',\n",
       " ' Will add first part. You can leave voice chat after you join, just go to social, then groups, and you can leave from there.',\n",
       " 'Holy hell, ',\n",
       " \" No problem, I didn't figure out till like level 60, how to get IN to voice chat. But we have very little extra buttons, I don't think a whole button just to leave voice chat would be very helpful. In spawn would be easy, making the same button you join with, the one you leave with.\",\n",
       " 'PTR Access, the ability to use Keyboard and Mouse, better overall community support... Honestly, just buy a PC.',\n",
       " 'Hide menu option when checking out skins, highlight intros, anything from hero gallery.',\n",
       " ' Added',\n",
       " \"I don't know if it's possible, but I have seen people asking for text chat using a phone app... you know, you type on your phone and it goes to the screen\",\n",
       " \"Also, that feature where people need to ask your permission first before joining your group. It's extremely annoying.\",\n",
       " \"Can't you mute the person??\",\n",
       " \"I'm a console player and I'm starting to become a Mercy main.\",\n",
       " \" That seems a little too complicated, and doesn't seem worth it, I don't think that will happen.\",\n",
       " \" Maybe I don't have the money to buy a good PC for a single game.\",\n",
       " 'Really hoping Blizzard will see this eventually, and fix this stuff.',\n",
       " \"A speaker icon beside a teammate's name in the 'social' menu if they can hear teamchat. \",\n",
       " 'yes',\n",
       " 'they need to see this',\n",
       " ' Added',\n",
       " \"I've always wanted an fov slider, linear ramp fixed, and separate hero balancing. Not to mention sliders for things like dead zones, aim tracking strength, and magnetism. Overwatch sort of has that but not really.\",\n",
       " ' Added',\n",
       " \" So like specifying the communication saying to a single person, I think that's on PC. I will add it.\",\n",
       " 'Need commands like Help! and Retreat! so I guess being able to add more to the communication wheel and YES absolutely in-game chat. It could link right up to the phone app for fast typing. If they are worried that it will cause players to type during times when they should be shooting, even just allowing it during the spawn room would be nice.',\n",
       " ' Added it',\n",
       " \"the pc master race crowd isn't happy lol\",\n",
       " ' Lol, everything is being downvoted.',\n",
       " 'ptr ',\n",
       " \" From what I have heard, PTR on console is very complicated, which is why I didn't put it on the list, this list is for more simple things. It would be nice, but it's hard to do.\",\n",
       " 'bump',\n",
       " 'THIS',\n",
       " \"I find it funny that people feel the need to go though the thread are dislike posts simply because it's console related\",\n",
       " 'Push to talk button',\n",
       " '180 quick turn button or mechanic (so I can pharah boost)',\n",
       " \" Lol, that's not what I meant but I will add it. I meant do something like put jump to both A and Left stick, for things like wall riding as Lucio. Edit: forgot caracc said the idea a long time ago, gonna put him there.\",\n",
       " 'i agree on the text chat i think it is very needed on console',\n",
       " \"I'm a console player myself, but how would Blizzard go about adding in text chat, without a keyboard messages would take much longer to type out\",\n",
       " ' Will add soon.',\n",
       " ' it could be quick message in spawn asking someone else to switch, or as Wheels just mentioned, Custom bindable pre-typed chat messages could help the text chat problem of being slow.',\n",
       " 'Actually, consoles, PS4 and xbox one both support keyboards. So a text chat isnt \"out of place\" .',\n",
       " ' Yeah, it could work.',\n",
       " 'We need to stop people making 5-10 smurf account.',\n",
       " ' But how?',\n",
       " \"I know it isn't simple and will never happen but if I could have any OW related thing I want I would want console to have access to the PTR ;-;\",\n",
       " 'On pc and Xbox 1 your friends list shows you what your friends are playing but ps4 doesnt.',\n",
       " ' Your name concerns me.',\n",
       " 'There is a way to check who is in team chat. You go to your team on social and click on them. If you have the option to mute their voice, theyre in game chat. As far as binding, the only thing you can use is the left joystick. I use it for sprays and voice lines.',\n",
       " ' I took away the hero info button a long time ago, and the next weapon button for every character except mercy and torbjorn, I have 3 extra buttons.',\n",
       " 'Blizz you need to acknowledge these problems.',\n",
       " 'I think we should be able to have multiple pages of command wheels, and add in our own lines. Also, allow text chat as has already been stated, but maybe make it mandatory that you use the phone app. Typing in-game may be way too slow.',\n",
       " 'Avatars and dynamic themes',\n",
       " 'These threads continue to fall on deaf ears and i dont see it changing anytime soon. Prove me wrong blizz.',\n",
       " 'Would be great to get any comment on the topic from Blizz.',\n",
       " 'Bump',\n",
       " '^',\n",
       " \"aim assist for torb's turret .\",\n",
       " 'i dont think any of the devs have ever played on consoles',\n",
       " 'the ability to bind different phrases from a larger pool of commands to the quickchat wheel, so that I can get rid of random things like, \"understood\", and replace them with \"push now\", or \"go right/left\" or anything useful to offset the fact that on pc if you don\\'t join tc, your teamates can still contact you, but on console, no way whatsoever.',\n",
       " \" Added first part. I don't see the reason behind making it required to only be from the phone app, some messages are short, and also what app? And also in the list is pre-typed chat messages.\",\n",
       " ' Added',\n",
       " 'Understood! I just want any chat ability lol',\n",
       " 'Highly rated, but Blizzard will probably never even look at it at all.',\n",
       " 'Nice',\n",
       " 'Group privacy settings. Public or friends or invite only. Permission for group members to invite. Receive group invites from anyone or friends. Custom game member can invite on or off.',\n",
       " ' Added',\n",
       " 'Bump',\n",
       " 'A chat system can very easily be implemented by making a companion app of some style',\n",
       " 'Aim assist to work on friendly players when playing Ana',\n",
       " 'Have our own esports like COD does',\n",
       " 'Bump, console is ignored too much.',\n",
       " 'I would love to see a \"Sorry!\" command. There have been dozens of incidents where ive accidently clicked my ult, didnt get any kills with the ult, nano-boosted a Lucio, or just couldnt heal fast enough (because im the only healer) and my team starts flaming me and accusing me of throwing',\n",
       " 'console also needs the info of what kind of game the people on your friends list are in.',\n",
       " 'First of all *bump*...',\n",
       " \" I would too, but that's not what the post is for, this post is for fixing console specifically, stuff that never had a reason to not be there on console or stuff that console needs but PC wouldn't really use, not stuff that needs to be added to overwatch in general.\",\n",
       " ' Added',\n",
       " \"I don't remember is this is on PC, but if not add it for both. \",\n",
       " \"Please Blizzard, do something about this stuff soon. It's not ok to leave the console version without this stuff, without reason.\",\n",
       " 'I have recently added a post on Reddit about this too.',\n",
       " \"This isn't that simple, but different balancing for console players, specifically for Ana and Pharah. \",\n",
       " \" It's already on the list, and they have done it before a long time ago, they can do it again.\",\n",
       " 'A toggle lock for characters like mercy, zen and Ana? Like pressing left or right on the D pad to toggle between beam, orb or nano targets to help with switching in clutch moments?',\n",
       " \" In the controls, on mercy, you can select toggle beam connection. I don't know what you mean about the orb and nano though.\",\n",
       " 'Jeff is too busy doing this,',\n",
       " 'I just want an FOV and deadzone slider.',\n",
       " 'Being able to say \"Come in voice chat\" as a command in the communication wheel and things like \"we need a Offense/Defense/Tank/Support\"(like when you are able to say \"we need a healer\" when their are no healers but now you can say it anytime you want even if someone is already a healer but you need a second healer)',\n",
       " \" Added first part, but I think other stuff already on the list would fix the 2nd part, I don't want to flood the list with stuff that already has a solution.\",\n",
       " \"Hopefully we get a response eventually, hopefully they aren't just ignoring console.\",\n",
       " 'I like to have a im sorry button, sometimes i do stupid things and i know i did so i like to say sorry ;)',\n",
       " 'Are they going to respond yet? They need to pay attention to us eventually.',\n",
       " \" I don't think they will respond soon, but they should.\",\n",
       " ' I hope it happens sometime this year.',\n",
       " \"I know it's tiny, but I'd like to add how, since on ps4 the square button allows you to leave as group, it also allows you to leave the group and game by pressing square.  My friends always accidentally leave the group thinking they are group leader- simply because the square button, for some reason, acts as the x button when you are not group leader.\",\n",
       " ' I got confused, what am I supposed to add?',\n",
       " \"I'm getting impatient, this stuff should have been at the launch of the game, or at least near the launch, it's been about 1 year and 3 months since launch for these simple things.\",\n",
       " 'I agree with most of this, but \"separate hero balancing from PC\" needs to be waaaaaaaaaaaaaaaaaaay more specific.',\n",
       " ' If I got specific, I would need another list.',\n",
       " \"Go ahead, I'd love to see more specific suggestions. As someone who plays on both PC and console, I am more interested than most people would be in the subject.\",\n",
       " 'Making M+K players reportable when the report system comes out (unfair advantage) or queuing them separately from the controller users.',\n",
       " \" I don't have time for that, and I am lazy, some time I will do it, if the balance gets even worse, or just never gets better. Also, since you play on both, you probably know what is a problem on both PC and console, or just PC, or just console.\",\n",
       " \" M+KB is definitely cheating, they really need to do something about it, I'm gonna add that.\",\n",
       " \"Will they ever pay attention to console? I don't think they care about us at all, they don't show anything that says that they really do.\",\n",
       " \"Click on their name in social. If you can mute them they're in voice channel\",\n",
       " 'Common sense solution should be common sense. Its been over a year since release and console-specific complaints and suggestions are routinely ignored. Sounds par the course for Overwatch.',\n",
       " \"All this would be implemented already if they really took the time but we re getting instead an unecessary new aim option, and after more than a year of waiting, a report system. While it's very welcome, it should have never took so long.\",\n",
       " \" It's been too long since launch for these things to be added, I wouldn't believe them if they said that they weren't ignoring console.\",\n",
       " ' They have to be purposely ignoring us now, a couple months is bad, but like 15 is most definitely on purpose.',\n",
       " \" Like half of these things are on PC, but aren't on console, most of those things have been there since launch. Being this slow doesn't show any sort of love or attention, it shows that the only reason it's on console, is for more money.\",\n",
       " \" It is common sense, but Blizzard doesn't seem to care about console, they only care about PC.\",\n",
       " \"All I want is text chat. I bought the little keyboard that connects to the controller just so I wouldn't have to use the on screen one but here's only like one game out there that lets me use it to communicate with my team.\",\n",
       " \"This post deserves a daily bump, and blizzard doesn't deserve its console community tbh. We Pay We play we show some love and all we get in return is being ignored, using most their time and money on pc and esport, and then dare say they care about console. Nothing is further from the truth. \",\n",
       " \" They don't care about console 1 bit. \",\n",
       " 'We reached 100 likes, and have no response, I am not ok with being ignored anymore.',\n",
       " ' sorry man. All we can do is wait to be honest. Unless we start an uproar or something',\n",
       " 'Never forget that targetable commands (and many commands in general) are missing from console for no reason. ',\n",
       " \"console specific balancing with this i don't mean huge changes but just minor tweaks cause there are some heroes who feel way out of hand on console and some that feel way to hard to use effectively like ana.\",\n",
       " \"It really triggers me that we don't habe a field of view slider yet\",\n",
       " \" Like at least half of the list is stuff on PC, that isn't on console, without any reason.\",\n",
       " ' It triggers me that Blizzard let this list have so many things on it, and has only payed attention to a single thing on the list. These things were needed from launch, it should have never taken this long.',\n",
       " \"Honestly, you can't ignore something for this long, if it wasn't on purpose. I'm losing respect for Blizzard, every month that console is treated the way that it is right now, it needs to be fixed NOW.\",\n",
       " \"Console balance, let's see. Revert Pharah back to her release version. Genji can only jump once. Tracer can only blink 2 times. Please, make it happen because we suck. \",\n",
       " \" I don't know what Pharah was like at launch, but the Genji and Tracer things, do not seem like good ideas, they may need fixing, but that doesn't seem like the right way to fix them.\",\n",
       " ' Sarcasm my man, sarcasm.',\n",
       " \" It's hard to tell what is sarcasm over the internet, I'm very sure that people could think of much worse, and it not being sarcasm.\",\n",
       " 'I wish Blizzard acted like console overwatch existed.',\n",
       " \"I wonder if Blizzard even thought of console controls for the new Mercy changes. Is left trigger still gonna make me fall slower? If it doesn't, I will be VERY mad at Blizzard if they make me use the A button to fall slower, it would make Mercy more frustrating to play.\",\n",
       " \" Seeing how Blizzard treats console already, I wouldn't be surprised at all. I would be more disappointed though, cause I totally needed to be even more disappointed in Blizzard, that's the the kind of community you want for your game, a disappointed one.\",\n",
       " 'Blizzard should have been here by the time this hit 50 upvotes.',\n",
       " \"I don't mean to be against console players or anything ( I will probs still be downvoted anyway but here goes. ).\",\n",
       " 'The ability to change the spoken language',\n",
       " ' Oh yeah, will add.',\n",
       " \" Yeah I know, the list is not perfect, will make fixes probably tomorrow. Responses are in the quote, if you didn't notice them.\",\n",
       " \" It will probably take like 200, I bet Blizzard has been seeing this post, but are ignoring it because it's for console.\",\n",
       " 'An attack/defend the objective voiceline. This is on PC and there is no reason why it cant be added to console.',\n",
       " 'The ability to disable the hud so we can take better screenshots',\n",
       " 'They take their time replying to this post, but they respond in 3 minutes on Twitter. Seems like they have their priorities straight.',\n",
       " ' I am not sure that they know what they are talking about.',\n",
       " \"The attack/defend voice lines are something we could really do with. Especially since it's already on PC. Just make it so you have to look at the objective and then push the left stick.\",\n",
       " 'Go Buy PC',\n",
       " 'Comments like this are so ignorant.',\n",
       " 'BLIZZARD WHY YOU NO LOVE XBOX (im on pc btw)',\n",
       " 'You assume I have like $600 to spend so I can restart overwatch, lose all cosmetic stuff. So I can have the small things that should have been on console 16 months ago.',\n",
       " 'Size Sliders for inner and outer dead zones for right and left joysticks;',\n",
       " \" I don't know much about dead zones and stuff, but isn't the the first thing just called a deadzone slider, I think I saw someone say deadzone slider like a couple pages back, if it's not a deadzone slider, then please tell me. I am going to add the 2nd thing.\",\n",
       " \"If you aren't going to fix the problems, at least tell us why you are ignoring us.\",\n",
       " 'You can also add higher turn speed for heroes like genji or tracer that needs instant 180. Or even pharah 180 boost. Or even for rein. Or any hero for that matter.',\n",
       " 'What is a console? Bwahahahahaha',\n",
       " 'Pharahmercy disabled.',\n",
       " ' Oh, I thought I already had that on there, pretty sure someone said it on like page 3 or 4, gonna find him, and put it on the list.',\n",
       " ' I feel the same way',\n",
       " 'The ability to lower the resolution for higher FPS.',\n",
       " ' Added',\n",
       " ' Something that you can play an ignored version of overwatch on.',\n",
       " 'Mouse aim.',\n",
       " 'The report system has probably already been added, if not than it will be here next patch.',\n",
       " 'Do you actually think Blizzard will give us any attention especially in the form as they do that to PC player?',\n",
       " 'A way to take away hud in options',\n",
       " 'They could give us the properly working dual zone back.',\n",
       " \" No, I don't, but I am trying.\",\n",
       " ' Never mind I see it has been added, we can take it off the list now.',\n",
       " 'Now we finally have a report system, thank god, found a toxic dude on my team in my 4th placement match.',\n",
       " \"I know Blizzard had to have read this at least once. There was a separate, and much more recent, post with less pages and about 100 likes that got a response. A crappy response, but a response none the less. Though now I'm beginning to think that they probably won't do much for console seeing as we can't even buy the standalone $40 version, and have to buy the $60 version for items most of us will never use.\",\n",
       " ' They probably read this, and thought it was too much work to put what is already in the game, onto the console version.',\n",
       " 'You want to know the kicker? Read a thread called \"basketball nerfed.\" 2 days ago, 88 likes, 4 pages, jeff response. Blizzard doesn\\'t care about console players confirmed.',\n",
       " \" That's a post I made on page 7, great to know Jeff is STILL acting like that.\",\n",
       " 'THE ABILITY TO SEE, ON THE SCREEN, WHAT YOUR PING IS!!!!! ARGHHHHHH!!',\n",
       " ' They added it in the summer games, look at the settings.',\n",
       " \"Blizzard has a week till this post turns a month old, if they don't respond by then, they have basically embarrassed themselves. That would be a clear message that they don't care about console, and are ignoring us, this is a list of simple things that should have been here around launch, and it's been about 16 months since launch.\",\n",
       " 'Cant seem to get any support going for this, but it still seems like a very useful addition for everyone on console:',\n",
       " 'How about some ',\n",
       " 'Blizzard plz console needs love',\n",
       " 'So many of these things are drop dead simple, but would increase the gameplay experience by leaps and bounds.',\n",
       " 'Not even a blue after all these lmao. Great feeling.',\n",
       " 'I want to add something to the list: Separate console updates like the torb turret nerf',\n",
       " ' ',\n",
       " \" Yeah, that's the main point of it, and Blizzard should be a little embarrassed that they haven't added these yet, or even responded.\",\n",
       " 'Microphones',\n",
       " \"Text chat needs to be at the beginning of this list. I don't GAF whether people have keyboards to type on already or not. That guy that keeps running in and dying and isn't in chat at all should be getting blasted on text chat. As in it should be FIRST.\",\n",
       " ' Separate hero balancing from PC, is there, I think that is what you mean.',\n",
       " 'Bump.',\n",
       " ' I agree that we should get a response about this, but some things I can see why they don\\'t add to consoles like privacy settings because well... they are already built into consoles and you can change them via settings. But other things like specifying \"group up\" to certain individuals when looking at them makes me scratch my head, and it\\'s like that very one thing I\\'ve always wondering after seeing it in the PC version, why isn\\'t it on consoles.',\n",
       " ' I am pretty sure it goes in order of what was said first.',\n",
       " ' Yeah, it feels great knowing how much Blizzard cares about us.',\n",
       " 'So no console love yet? ',\n",
       " ' You can send a single person a message, but that takes way too long, and we should have text chat.',\n",
       " \"This is extremely disappointing Blizzard, there is absolutely no way, that you aren't ignoring this on purpose.\",\n",
       " 'Please just stop ignoring console.',\n",
       " \"You know, it's a shame. For a game that doesn't charge you for expansions, and actually gives you video updates periodically, I'd expect better support for all platforms. Fixing the basketball that won't launch is not as important as the nearly unplayable controller turning that makes widow and Ana not viable to use and hated the most on console. Other developers like call of duty and destiny have this down to a science, where even snipers are viable on console. It's not that new players have to git gud, it's that console optimization is still weird after more than a year of release.\",\n",
       " \" I would expect Blizzard to act like this game is on console, it's like they don't even remember ever putting it on console, so they ignore it and act like it isn't there.\",\n",
       " 'Just remembered: on PC you can tap a key to quickly crouch-uncrouch.  ',\n",
       " 'I would like to add to this,',\n",
       " \" Those would be great, but I am pretty sure it's not on PC either.\",\n",
       " 'yes, please',\n",
       " \"Console PTR, If we are going to have a different changes than aren't on pc because it's going to take some testing before it hits live. Because it might be unfair because it would seem like pc would always be blanched but after changes to console it might be unfair because no one really has chances to test them. But it might not happen because Bilz doesnt directly have control over on console. What they might have to do is make it a different gamemode on console where they changes are only on that mode.\",\n",
       " \" Yeah, I have thought about that too, I don't think all changes could happen on it though, that would probably be too hard.\",\n",
       " 'Is Blizzard trying to disappoint their console players?',\n",
       " \"Do SOMETHING Blizzard, please, it shouldn't have taken this long to get a response.\",\n",
       " 'This post will get 200 upvotes before getting attention of Blizzard.',\n",
       " \"Blizzard did say they would balance the games separately. We have terrible balance issues and heroes who just don't work properly. I would just like some confirmation from them that they hear us and are trying to improve the experience.\",\n",
       " \" They did almost nothing to balance console version, they nerfed Torb and Sym turret damage a small bit, and that's it.\",\n",
       " \"If anyone in this thread wants to move from console to PC version of OW there is a thread I'll link for you to let them know.\",\n",
       " 'Remap I need healing for the come to me for healing command please.',\n",
       " ' Added',\n",
       " ' That should be on all Overwatch, not just console.',\n",
       " 'Agree 100%',\n",
       " \" They should do that, but they probably won't.\",\n",
       " \"I'm a console player and \",\n",
       " ' Yes, that\\'s the whole point, the first word of the title is \"simple\".',\n",
       " 'Can i post this link to a megathread?',\n",
       " ' Sure',\n",
       " \"Just gonna put this here as evidence that it's possible to implement other voice languages into the game.\",\n",
       " 'Please Blizzard, pay attention already.',\n",
       " 'Blizz give us console players some loveeeeee',\n",
       " \" We know it's 100% doable, it works on PC overwatch.\",\n",
       " \" That probably won't happen.\",\n",
       " \"I wish Jeff knew which posts are priorities, and which aren't. \",\n",
       " \"Some of these things on the list, have literally nothing to do with PC or Console, Just that PC has it.  It's so stupid that Blizzard didn't have these in from launch, it should have taken them 2 months at most.\",\n",
       " 'Bind multiple controls to a button is not allowed by design - that is one of their definitions of an illegal macro - one button push, one in-game input is the rule',\n",
       " \" Ok, I didn't know that.\",\n",
       " ' I have no doubts about that.',\n",
       " \" Once anything involves console, Blizzard can't give it love.\",\n",
       " \"You're slowing down game progressio silly console players. Blizzard only listens to the PC master race.\",\n",
       " 'bump',\n",
       " '10 likes till disappointment.',\n",
       " \" That's kinda true, and disappointing.\",\n",
       " ' I could be speeding it up for console, also I know that they only listen to PC, silly.',\n",
       " \"Once this hits 200 likes, there is no denying that they ignored us on purpose, they want us to know that they are unappreciative of console players, they just don't want us to have as good of an experience as PC players, for no clear reason.\",\n",
       " 'This is just depressing. I bought this game on console because Blizzard said it would be balanced separately. If I had known they were going to ignore the console community I would never got the game. The incredible lack of respect for console players from the Dev team is shocking.',\n",
       " \" They lied, they balanced turret damage slightly, and stopped, they have acted almost like console overwatch doesn't exist, for at least a year now.\",\n",
       " ' You would think that a game company as big as Blizzard, would know how to treat their community, NOPE they actively ignore us, without reason.',\n",
       " \"This is stupid, Blizzard won't add things that PC has, to console, that are so simple, after this much. Blizzard is making me feel like I am supposed to be disappointed by them.\",\n",
       " \"My biggest problem is that linear ramp still isn't fixed. Staggering really, do they actually think they've done a good job?\",\n",
       " 'bump, we should be able to do 180s quick.',\n",
       " ' We should be able to do everything on the list.',\n",
       " '[/quote]',\n",
       " \" That would be great, but I don't think it's on PC either.\",\n",
       " \"1 more like for 200, and it's the 17th page. Blizzard is disappointing a lot of people, by not doing anything for this long.\",\n",
       " 'This is super depressing, JUST RESPOND.',\n",
       " 'The max sensitivity needs to be increased, its super slow compared to other Console Shooters',\n",
       " ' Added',\n",
       " \"This suggestion is already on the list, so I'm just seconding it, but \",\n",
       " 'D.Va HOTS deadly skin',\n",
       " \"Blizzard has seen this post so many times, but hasn't responded because they don't seem to want to do anything nice for console. They won't even respond with a reason why they wouldn't do the stuff on the list, they want to act like they don't see it. If you want this post to succeed, do anything you can to put this post in Blizzard's face, and make them respond.\",\n",
       " \"The touch screen (in the middle of the controller) has swipe functions that aren't used.\",\n",
       " \"Well they definitely won't respond now with all this negativity talk you got going on. Haven't you seen most of blue responses? They mostly respond to the most ridiculous butt kissing thread.\",\n",
       " ' Added',\n",
       " 'The 180 quick turn thing is a bit unfair, but then again on PC they turn around very quickly with the mouse, so why not xD',\n",
       " 'This probably entails \"come to me for healing,\" right? Because being able to say that would be a godsend ;_;',\n",
       " \" Yeah, I have been removing it and putting it back on the list, I don't think it would be good either.\",\n",
       " \" Yeah, it's simple, Blizzard has already done it , and would help a lot.\",\n",
       " \"This post shouldn't have existed, most of this stuff should have been on console, before I got overwatch, before another character was put in the game.\",\n",
       " \"Just allow K+M for everyone but give them their own queue. FFonline has M+K by default. Just allow it and when you switch to M+K setting make it it's own queue.\",\n",
       " \" It's already on there. \",\n",
       " \"Blizzard, it really can't be that hard to add these to the game, most have been there on PC since launch. We know you have seen this, and ignored it, which isn't acceptable, fix it.\",\n",
       " \"The list has slowed down so much, and we don't have a Blizzard response. Please Blizzard, respond soon.\",\n",
       " '\"Come to me for healing\"',\n",
       " 'I have nothing to add to this list, just wanted to say that this list is amazing',\n",
       " \"There is already solutions on the list, that could fix that problem. I don't want to make this list super long, I want to have many problems solved, in a short list of fixes, instead of a long list. But, thank you for the suggestion.\",\n",
       " \"True, but that's what I've been waiting on.\",\n",
       " \" Even if I put it on the list, we would have to wait on Blizzard for months after they respond, but we don't even have a response, that will probably take like another month.\",\n",
       " \"Well at least the center hanging lamp in the attacker's spawn room above the main exit doors on Hollywood will stick to the ceiling on both PC and console if you shoot it enough times to have it swing and collide with the roof.\",\n",
       " ' If you have any things to add later, please add them.',\n",
       " 'Ability to change around the visual settings',\n",
       " 'no response? thats cool',\n",
       " \" It's great, who doesn't love being neglected?\",\n",
       " \"This post should have a response before the next event, which is the same time that this post turns 2 months old. Blizzard should listen to their players, and fix their game, that should be a PRIORITY, but it clearly doesn't work that way for console. I just want things, that are already here, why would you purposefully make your game worse?\",\n",
       " 'Completely unplayable!',\n",
       " \" Blizzard won't nerf lamp, ded game.\",\n",
       " 'I am really sad though, especially how they pulled the \" we can\\'t give you features the game already has, without taking time from other stuff.\"',\n",
       " \"The PTR on console wouldn't work. They would need to get everything past sony and Microsoft, which would take a while, by which time they can just put it on the live servers. Plus, the PTR would need to make an update for the game every time the PTR updates, which completely beats the purpose of the PTR.\",\n",
       " \"For PTR, We console players could use the PTR on PC for free. We already have the game, so what's the problem?  We already have Blizz accounts, we can link the to Console Overwatch and be able to play on our computers.  Also,  I would like the attack/defend the objective commands as well as fixing the come here for healing when playing as Mercy.\",\n",
       " \"Can we have the add friend function only for Overwatch and not for PSN? I'd really prefer not to have random people I met in comp seeing what I play and keep things on my PSN private even though I won't mind joining them in comp again.\",\n",
       " ' Good idea, added.',\n",
       " ' That could work, added.',\n",
       " 'not trying to be annoying here but i have an xbox elite controller and can remap it but i dot feel it is a good idea to rebind buttons as it will mess with other controls unlike pc where there is many more keys',\n",
       " \" It shouldn't mess with the controls, as long as you are using the buttons that don't have controls on them. With a normal controller, LS is free so you have 1 button, you can remove the hero info button if you know the heroes which is 2 buttons, if the hero doesn't use the next weapon button like torb and mercy you can have 3, and Reinhardt has no quick melee so Rein can have 4, you just need to find the buttons that some characters don't use.\",\n",
       " 'Keep it up guys. We can back off now. We deserve some respect from Blizz!',\n",
       " \"Blizzard has no reason to ignore us like this, this is unacceptable. They don't treat us like part of the community, they treat us like we aren't important at all, they don't want our feedback, they don't want to hear what we have to say.\",\n",
       " 'It pretty much feels like it.',\n",
       " \" What's even sadder is that posts like these\",\n",
       " \"I'm really hoping. I've got 1000+ hrs and buy loot boxes during events. I really love the game, I just want some QOL changes for console.\",\n",
       " ' We are giving them money too, but they are removing things from the console version, that they already have, they make no sense.',\n",
       " 'This will get to to 250 likes before a response, I guarantee it.',\n",
       " \"I can't say for sure if it's possible to implement on console (likely because of console natures), but what about the ability to select a region before entering the game (before signing in, so to say)?\",\n",
       " \"You're doing God's work here.\",\n",
       " 'Yeah, I know many people on console would love the changes listed.',\n",
       " 'I see you, XIM4 user',\n",
       " \" Jeff, at this point, for this post, you should be more scared of not responding, or responding too late. It's been time to respond, for a long time, don't let this post get 2 months old, with no response. Just say something.\",\n",
       " \" Who wouldn't love the changes?\",\n",
       " 'If this reaches 300 likes before a response, all of the things on the list, should be ready by the time it does reach 300. By that time, it would be undeniable that Blizzard was neglecting console on purpose. We will only get more disappointed, the longer it takes, do something.',\n",
       " 'I want to see a blue post too. But thays not kind of a good demand of you xD',\n",
       " 'Stopped playing Overwatch this season, finally got fed of the aim controls.',\n",
       " \"It's actually ridiculous that Blizz has yet to acknowledge this thread.\",\n",
       " \" Yeah, but it's gotten to the point where I have lost my patience, they haven't done anything to convince me that console isn't being ignored, it doesn't need to be big, it just needs to make it seem like they know that there is still people on console who play overwatch.\",\n",
       " ' Seeing this post come this far, without a response, is very disappointing.',\n",
       " \"a simple notification on someone's profile that they are using a mouse/kb so everyone know's they are cheating and hopeless without it.\",\n",
       " \"This shouldn't ever happen, isn't listening to your community, or at least acknowledging their existence, an important part to making the game better?\",\n",
       " \"Those glowing fan and graphics cards lights you see on gaming PC's... They'd be cool!\",\n",
       " 'I remember commenting on this post more than a month ago. Yet still no blue comment? Seems we really are nothing but a quick cash grab.',\n",
       " ' It really does seem like they just did it for money. I think someone said the region thing, a couple of days ago, forgot to add it.',\n",
       " ' Added now.',\n",
       " \"The game could be a lot better, if stuff that's in the game, was in the game, a lot of this stuff is literally already done, Blizzard, just put it in the console version.\",\n",
       " 'They need a console development team that actively works on the console side of things.',\n",
       " \" It seems like changes to console, aren't even a thought, after thought is the most we could hope for.\",\n",
       " \"That'd be neat, I feel like everyone would just go to the Asia servers and place in comp for the Insta top500 spot though\",\n",
       " \"Don't forget about us during the event please!\",\n",
       " \" I'm probably gonna leave, and come back after a few days, to get this post noticed, there's probably lots of posts about the event.\",\n",
       " '2 months without a response, is disappointing.',\n",
       " 'Bump/agree',\n",
       " 'Time for me to bump this thread. #TheseKindsOfThreadsNeverDie',\n",
       " \"There's not an excuse to ignore this, respond before we get even more frustrated. The longer it takes, the worse it gets, and Blizzard hasn't figured that out yet. The reason I am making angry posts about Blizzard, is because they are taking way too long to respond.\",\n",
       " 'Just let the matchmaker sort it out - xim user with worse aim is equiv to controller user with better aim - who cares what is under the hood since net effectiveness is all that matters? The better controller users want to measure themselves against the whole community anyway - more folks should be like Snake Eyes from the Street Fighter community who uses a controller in tournaments where arcade sticks are the norm',\n",
       " \" I am ok with people using KB+M all the time, but once they start playing in Competitive with KB+M, it's not ok in the slightest. A diamond-master level player doesn't deserve top 500, because their equipment is top 500 level, that's not what a competitive mode should ever be. It's kinda cheating, pay to win, at least 1 of those, if people play comp with KB+M, they deserve a competitive ban, it's not ok.\",\n",
       " \"I paid for the game, just like the PC players, we deserve equal treatment, I'm tired of Blizzard's neglect.\",\n",
       " 'Hide the hud',\n",
       " \"The ability to remove the HUD. I have zero clue why this isn't an option on console.\",\n",
       " \"They haven't given us any reason to believe they care about console issues.\",\n",
       " 'Hide menu option was already on the list, I have made it more clear by putting menu/HUD, instead of just menu.',\n",
       " ' \"half baked\" \"couple months\" \"forget what a controller is\" I can\\'t tell if you are insulting or complimenting Blizzard. It might be less than half baked, and it would probably take longer than a couple of months, to remember that they Overwatch isn\\'t exclusive to PC. It\\'s kind of hard to tell, but did they ever know what a controller is?',\n",
       " \"It's not hard Blizzard, it can't be, you had lots of these things by launch for PC, we know it can easily be done, so just do it.\",\n",
       " 'They just dont care',\n",
       " 'Time for me to add another thing for the list: An esports scene.',\n",
       " ' It was clear like 10 pages ago.',\n",
       " \" Having esports sounds good, but I understand why it wouldn't work. Console OW isn't like esports competitive, there aren't a bunch of big competitive console OW teams. Console OW isn't as big as PC OW is. But most importantly, Blizzard needs to get their crap together on console, before trying to make it esports competitive.\",\n",
       " \"To say it's completely impossible however is a lie (I know you didn't say it's impossible but I figured I would mention it anyways). After all, there are games that have esports scenes around on both platforms. Smite is a perfect example of this kind of case.\",\n",
       " \"It still amazes me that Blizzard dares to ask console players to pay more for a version of the game that has half the options and extra's. We pay more then the PC players yet Blizzard gives us less. \",\n",
       " 'Bumping this thread to keep it alive. Also doing so as a new patch went live without anything in the OP for us.',\n",
       " \" It isn't impossible at all, but it will probably not be good, or worth it, they should focus on the actual game first.\",\n",
       " ' I forgot that it costs more on console, more reasons to think Blizzard hates console, and only put it there for money.',\n",
       " \"I thought cost was a per patch basis? Couldn't the console qol changes be included with another update that has hero changes or more content?\",\n",
       " \"If I remember correctly, sony and microsofr both charge Blizz like 40k dollars for every update no matter the size. Thats why the bug fixes and everything comes 'later' all together im big updates.\",\n",
       " \"By choose the region do you mean the servers? Because I'm all for that. Not sure why (as a European) I can't join the NA servers if I want\",\n",
       " ' We were talking about the cost of buying overwatch, not how much it costs Blizzard.',\n",
       " \" Yes, that's what it means.\",\n",
       " \" They are already very late on giving us what we paid for, but I still want my money's worth EVENTUALLY.\",\n",
       " 'Oh sorry ^^;',\n",
       " \"[Bookmarked] I'm bumping this everyday. Its crazy for this not to have been seen.\",\n",
       " 'ability to recommend a hero, for example while i\\'m on the hero select screen, i can press X/square (i think, i don\\'t know the playstation controls :s) to pop up a message saying something along the lines of \"[player] would like [hero]\".',\n",
       " 'SEPERATE BALANCING YES. \"pointing a big finger at Pharah\"',\n",
       " \" You think this hasn't been seen? Lol, they've had to see it plenty of times, they are just ignoring it, because it's console.\",\n",
       " 'Even just addressing some of these would be amazing. Bringing in some console-specific balance would be much appreciated - the game controls differently, and characters with different aiming styles/mechanics are either stronger or weaker than their PC counterparts purely for it.',\n",
       " 'Bump that good stuff!',\n",
       " 'HIDE CHAT!!!!!!!!!!!!!!!!!!!!!!!!!!!!!!!!!!!!!!!!!!!',\n",
       " 'Bump',\n",
       " 'That would be nice, for when you get people spamming thanks when they die or lose when they picked the 5th dps...',\n",
       " 'Bump! ^~^',\n",
       " \"It's hard to believe console is so different from pc until you see a massive list right in front of your face...\",\n",
       " 'Bump',\n",
       " 'Holy !@#$ we need fov so bad',\n",
       " 'Yup',\n",
       " \"It's actually not\",\n",
       " 'I love this post.',\n",
       " \"Amazing, people are actually bumping this? If only these Developers had the balls to us what they will add and what they won't. I know someone at Blizzard got to be tired of seeing this because I know, I am.\",\n",
       " \"I play on PC and have no intention to go back to console whatsoever. The console edition doesn't affect me at all and because of that I normally couldn't care less, HOWEVER I can't help but feel annoyed and pissed off at Blizzard for screwing over the console players.\",\n",
       " 'Bump',\n",
       " 'If we could have multiple communication wheels that we can enter our own commands into it would help so much!',\n",
       " 'Yeah!',\n",
       " 'Bump',\n",
       " ' Adding',\n",
       " \" They won't even acknowledge us. I'm gonna add console forums to the list.\",\n",
       " 'Bumpity bump',\n",
       " 'Blizzard have hedged their bets on Esports right out the gate. ',\n",
       " ' Text chat could happen, but it won\\'t, cause Blizzard won\\'t put that much \"work\" into console. They can\\'t say that they listen to their community, if 2/3 of the platforms are completely neglected.',\n",
       " 'Over 300 likes and over 400 comments later......Still no blue post :(',\n",
       " ' Not yet, but in a week probably.',\n",
       " \"That's the spirit!\",\n",
       " \" I didn't mean the blue post lol, I meant 300 likes, but it could actually reach that by tomorrow. I wish we would have a blue post in a week, but that doesn't seem realistic, I made my post about console.\",\n",
       " \"What's the post limit? Isn't it like 500? If it is, we don't have much space for posting, and I will have to make a 2nd post. That would be extremely disappointing, having a maxed post without a blue reply.\",\n",
       " \"This is the only megathread for console concerns, I'll make a post for it to be uncapped if so, it's got alot of people making good suggestions and giving ideas, that's something that should be promoted here.\",\n",
       " 'This thread is the closest we’ve got to a console forum lol.',\n",
       " \"True! Anyway, it's cool to meet other people who play on console too.\",\n",
       " \"I'm going to second the FOV slider. Everytime I play on console it feels like I'm viewing the world through friggin toilet paper rolls.\",\n",
       " 'Bump',\n",
       " \"That'd be interesting to have.\",\n",
       " 'Bumpity bump',\n",
       " 'How about an actual ban on keyboard & mouse users on console, since its cheating according to the in game reporting system.',\n",
       " \"I'm all for that, but as for buying another copy, I doubt they can do that, it's on microsoft at that point because they allow it with their other games.\",\n",
       " 'Overwatch never auto-updates on PS4. All my other games update but never Overwatch.',\n",
       " 'I know some people want that but I honestly think that will not be a great idea. ',\n",
       " 'Region Change ',\n",
       " \" KB+M should be banned, it is cheating, but only in competitive, I can understand that people like KB+M, they should use it outside of competitive. Smurfing shouldn't be handled that way, not each account on a console is the same person, it needs fixing, but that would cause other problems.\",\n",
       " \" Not every situation is like that. It could be before the game starts, while you're dead, while you're waiting for your team, or other situations where you aren't in or getting to combat. It's still better than having to message someone, typing a few words to your whole team would take 7 seconds, how much work to be able to send a message of a few words to only one person, would be like 30 seconds.\",\n",
       " 'In before the end.',\n",
       " \" That's not EU, that's just console.\",\n",
       " 'I think that will be the last post that this post will get, I will be making another post, it will probably be named \"Simple things that aren\\'t on console, but should be #2.\" So continue discussion on that post. ',\n",
       " \"I understand were you're coming from but not every thing that is going on PC is going to cross over to console smoothly. I was speaking about my experience on console. I can just see a lot of issues with adding an option that would pull up a keyboard to type to people being clunky on PS4 as reporting is already clunky.\"]"
      ]
     },
     "execution_count": 6,
     "metadata": {},
     "output_type": "execute_result"
    }
   ],
   "source": [
    "comments"
   ]
  },
  {
   "cell_type": "markdown",
   "metadata": {},
   "source": [
    "이제 각 게시글의 모든 내용을 긁었으니 이것을 모든 게시글에 적용해보고자 한다."
   ]
  },
  {
   "cell_type": "code",
   "execution_count": 4,
   "metadata": {},
   "outputs": [],
   "source": [
    "import requests\n",
    "import lxml.html"
   ]
  },
  {
   "cell_type": "code",
   "execution_count": 7,
   "metadata": {
    "scrolled": true
   },
   "outputs": [
    {
     "name": "stdout",
     "output_type": "stream",
     "text": [
      "100\n",
      "https://kr.battle.net/forums/ko/overwatch/topic/4563386631\n",
      "['저희는 게임 내 부정 행위를 항상 심각한 문제로 여기고 있으며, 이는 오버워치에도 동일하게 적용됩니다. 블리자드는 공정한 플레이를 강조하는 “Play nice, Play fair.”를 회사의 핵심 가치 중 하나로 여기며 게임 제작 과정 그리고 출시 이후 게임을 지원해 나가는 과정에서 이를 항상 마음 속에 새기고 있습니다. ', '이러한 원칙이 오버워치에서 의미하는 바는, 플레이어가 핵, 봇, 또는 부당한 이득을 취하도록 해주는 외부 소프트웨어 등을 사용하거나 부정 행위를 한 것이 확인될 경우, 해당 플레이어의 계정은 영구 정지된다는 것입니다. 부정 행위는 모든 블리자드 게임의 근간인 공정한 플레이 정신을 저해하며 다른 플레이어들의 재미와 즐거움에도 악영향을 끼칩니다. 부정 행위나 허용되지 않은 프로그램 사용자에 대한 계정 제재가 진행된 내용을 공개적으로 발표하지는 않겠지만, 저희는 오버워치에서 일어나는 부정 행위를 지속적으로 확인하고, 게임의 무결성을 보존하기 위해 필요한 조치를 계속해서 취할 것입니다. ', '블리자드가 지금까지 가져온 기조를 다시 강조하는 것이지만, 이는 매우 중요한 가치이며 이렇게 여러분께 최고의 게임 플레이 경험을 제공하겠다고 다짐하며 저희 스스로 다시 한번 각오를 다지는 것이기도 합니다. 저희에게는 멋진 게임을 만드는 것뿐만 아니라 게임과 게임 커뮤니티를 수년간 꾸준히 지원하는 것 역시 중요합니다. 5월 24일 오버워치 정식 출시는 시작일 뿐이며, 저희는 앞으로도 새로운 게임 콘텐츠를 개발하는 것과 더불어 모든 플레이어에게 공정한 게임 환경을 제공하기 위해 최선을 다할 것입니다. ', '그리고 이를 위해서는 여러분의 도움이 필요합니다!', '만약 어떤 플레이어가 부정 행위를 했다고 생각되거나 오버워치의 핵, 봇, 또는 허용되지 않은 외부 소프트웨어와 관련된 정보를 알고 계시다면 이메일(', ') 또는 ', '을 통해 세부 내용을 제보해 주시기 바랍니다. 보내주신 이메일 또는 제보 내역에 답변을 따로 해드리지는 않지만, 엔지니어와 애널리스트들로 구성된 팀이 여러분의 제보를 적극적으로 검토합니다. 실제로 베타 테스트 기간 동안의 제보를 바탕으로 저희는 게임을 개선하고 부정 행위를 한 플레이어들에 대한 조치를 취할 수 있었습니다. ', '아울러, 저희는 베타 기간 동안 많은 분들께서 제안해 주신대로 게임 클라이언트에서 바로 부정행위가 의심되는 플레이어들을 신고할 수 있는 기능을 추가했습니다. 이 기능은 플레이어의 이름을 오른쪽 클릭하여 “신고”를 누르면 나타나는 신고 사유 메뉴에서 “부정 행위”를 선택하여 이용할 수 있습니다. ', '부정 행위가 의심되는 플레이어를 마주하는 것은 매우 불만스러운 경험이 될 수 있지만, 오버워치 같은 게임에서는 다음과 같은 경우들을 고려해주시기 바랍니다. ', '오버워치 게임 내의 카메라 시스템은 실시간 게임플레이만큼 정확한 영상 정보를 제공하지는 않습니다. (처치 영상, 최고의 플레이, 하이라이트는 정확도가 떨어질 수 있으며, 관전자 카메라도 그보다는 덜하지만 정확도가 낮을 수 있습니다.) 이런 경우 재생된 영상 속의 플레이어 조준점이 실제 게임 플레이 때보다 더 뚜렷해 보이거나 덜 부드러워 보일 수 있습니다. ', '위에서 언급한 경우 외에도 재생 영상에 영향을 주는 게임 내 카메라 시스템 버그가 있을 수가 있습니다. 실제로 클로즈 베타 테스트 기간 동안 자리야가 입자 방벽이나 방벽 씌우기를 시전할 때마다 처치 영상과 관전자 카메라 각도가 갑자기 전환되는 버그가 있었습니다. 현재로써는 카메라 시스템과 관련된 문제가 없지만, 아직 미처 발견하지 못한 버그가 있을 수 있다는 점에 대한 고려도 필요합니다. ', '마지막으로, 1인칭 슈터 게임에는 정말 뛰어난 실력을 지닌 사람들이 있습니다. 연습과 수년간의 경험으로 단련된 이 플레이어들의 움직임과 반응 속도는 이러한 수준의 플레이를 접하지 못한 플레이어들에게는 비정상적으로 혹은 물리적으로 불가능해 보일 때가 있습니다. ', '처치 영상, 최고의 플레이, 하이라이트, 그리고 플레이어가 캡처한 영상은 매우 유용한 증거가 될 수 있지만, 저희는 부정 행위 여부를 검증하는 과정에서 영상만을 근거로 하지는 않습니다. 그러므로 저희는 여러분께서 멋지고 공정하게 플레이를 당부 드리는 동시에, 의심이 가는 플레이어를 공개적으로 제보하는 대신 위에서 안내해드린 신고 기능을 이용해 주시길 부탁 드립니다. ', '부정 행위에 대한 경계 그리고 여러분의 열정과 적극적인 참여가 오버워치를 최고의 게임으로 만들어 가는 과정에 큰 도움이 되고 있습니다. 도움을 주시는 플레이어 여러분께 진심으로 감사 드립니다.']\n",
      "IndexError\n",
      "https://kr.battle.net/forums/ko/overwatch/topic/4566426723\n",
      "['신고하기로 인한 제재가 아닌 팀으로 만나지 않기 제재도 고려해야한다고 생각함', '우발적 신고, 혹은 트롤링으로 인한 신고는 그렇게 많은 제재가 되지않는거 같음', '팀으로 만나 피해를 보지 않기위해 팀으로 만나지 않기를 함에도 불구하고 최대 인원은 2명이며, 기한 또한 일주일임', '아니 애초에 2명이 최대 인원이면 신고하기보다 더 효율적인 트롤링 신고법이라고 생각함', '많은 사람이 그 사람을 팀으로 만나지 않기를 한다면 그 사람이 매우 많은 트롤링을 했다는 것이고 최대 인원이 2명인 이상 정확하고, 빠르게 속출 될 것이라고 예상함', '그러니 결론은 팀으로 만나지 않기를 통해 많은 횟수가 누적된 플레이어를 제재하는 것도 나쁘지 않다고 생각함']\n",
      "IndexError\n",
      "https://kr.battle.net/forums/ko/overwatch/topic/4566426709\n",
      "['으음 역시 겐지유저 ', 'ㅉ']\n",
      "IndexError\n",
      "https://kr.battle.net/forums/ko/overwatch/topic/4566396731\n",
      "['만년 다이아가', '한조 원챔하고 마스터왔어요!', '꿀잼 개꿀잼!', '한조 하세용']\n",
      "IndexError\n",
      "https://kr.battle.net/forums/ko/overwatch/topic/4564492912\n",
      "['1대1 문의 한번 넣어봐요.']\n",
      "IndexError\n",
      "https://kr.battle.net/forums/ko/overwatch/topic/4566426712\n",
      "['아마 블리자드가 버그를 인지하고 있다면 다음이나 다다음 패치때는 수정되겠죠. 미국 토론장에도 그 버그로 글이 계속 올라오고 있으니까요.']\n",
      "IndexError\n",
      "https://kr.battle.net/forums/ko/overwatch/topic/4566416622\n",
      "['이번엔 제가 1대1 문의 넣어버려서 빨리 지웠나보군요;']\n",
      "IndexError\n",
      "https://kr.battle.net/forums/ko/overwatch/topic/4566426720\n",
      "['트위치 드롭스 누적6시간 보상때문에 드롭스가 활성화되어있는 오버워치 방송을 누적 거의20시간이상 본거같은데 아직도 지급이안됐습니다. 블리자드계정으로 넘어와서 산계된다고 알고있기에 여기에 남겨보는데 확인좀 해주셨으면 합니다ㅡ 4시간보상까진 정상적으로 들어왔습니다.']\n",
      "IndexError\n",
      "https://kr.battle.net/forums/ko/overwatch/topic/4566396720\n",
      "['그거 있는게 좋습니다. ', '없애시려면 설정에 그래픽에 성능수치끄세요']\n",
      "IndexError\n",
      "https://kr.battle.net/forums/ko/overwatch/topic/4566396725\n",
      "['그애들 인성인데 어찌겠어요 원래 한국사람들이랑 게임 하는거는 그런 감수를 느끼면서 해야됌']\n",
      "IndexError\n",
      "https://kr.battle.net/forums/ko/overwatch/topic/4566416701\n",
      "['닥터 준 유트브 영상보니까 70판패작해도 고작 정지1일이 말이돼냐 병신들아 정말 !@#$들 뇌가 없어  옵치 스트리머도 얼마 없어 정신차려 일좀 쳐해']\n",
      "IndexError\n",
      "https://kr.battle.net/forums/ko/overwatch/topic/4566396730\n",
      "['지금 자동으로 정지시키는 로봇인가 먼가를 도입했다는데 ', '그거 이 후로 정지 엄청 시키는거 눈에 잘보이지 ?', '그냥 맘에 안들면 무조건 신고먼저해라 ', '어차피 로봇이 자동정지 때리는거니깐', '블리자드코리아 직원 100명도 안되는데  ', '하루마다 400명씩 정지시키는게 말이되냐 ?']\n",
      "IndexError\n",
      "https://kr.battle.net/forums/ko/overwatch/topic/4566396729\n",
      "['야이 !@ 진짜 내가 욕은 안하고 게임하려고하는데', '대기중에 팅긴걸로 경쟁점수 50점 까고 10분 일시정지는 니미 #$', '@#@#@# 빡치게 하네 진짜']\n",
      "IndexError\n",
      "https://kr.battle.net/forums/ko/overwatch/topic/4566396728\n",
      "['허위신고는 조사해본후에 누적에서 제외시켜주던가 해라 ', '한국새끼들처럼 악용잘하는 새끼들도 없으니깐']\n",
      "IndexError\n",
      "https://kr.battle.net/forums/ko/overwatch/topic/4564387450\n",
      "['솔져는 40~45가 평균  , 치명타는 6퍼정도가 평균', '맥크리 45~55 가 평균, 치명타 8~10퍼 평균', '값 입니다']\n",
      "IndexError\n",
      "https://kr.battle.net/forums/ko/overwatch/topic/4566396682\n",
      "['박스확률이 일정해도 깔수록 중복걸릴 경우의수는 점점올라갈수밖에없음..']\n",
      "IndexError\n",
      "https://kr.battle.net/forums/ko/overwatch/topic/4566406686\n",
      "['기본 스탯 - 기존 200체력에 50방어력을 250체력으로 바꿉니다. 또는 150체력에 50방어력으로 바꿉니다.', '격려 - 도리깨 투척으로 발동되지 않습니다.', '방벽 방패 - 방벽의 크기가 증가하고 체력이 400으로 감소합니다.', '방패 밀쳐내기 - 즉발형이 아닌 차지형으로 바뀌고, 충전 시간은 둠피스트와 유사한 정도를 가지며 충전에 비례해서 이동거리,데미지,기절시간이 정해집니다.', '(또는 즉발형이지만 기절을 없애고 밀치기만 합니다.)', '수리 팩 - 즉시 150만큼 채우는 것이 아닌, 1.5초동안 150을 빠르게 채우는 형식으로 바뀝니다.', '집결 - 방어구 지급량이 초당 30에서 초당 15로 바뀝니다.', '지속시간동안 격려 발동 시 치유 범위가 10m 증가합니다.', '기존의 딜러보다 딜러답고 탱커도 가뿐히 이기는 힐러같지 않은 모습을 없애는 것 위주로 써봤습니다. 제발 브리기테 사기캐 두번 너프해주세요...']\n",
      "IndexError\n",
      "https://kr.battle.net/forums/ko/overwatch/topic/4566406681\n",
      "['절대안해줍니다 이런사람들 대부분이 황금무기샀다가 쓰다보니 별로인데 거짓말하면서 바꿔달라하는거에요']\n",
      "IndexError\n",
      "https://kr.battle.net/forums/ko/overwatch/topic/4566416696\n",
      "['빠대 돌리는데 7연수비 뜨네요.', '블리자드식 매칭 잘봤습니다.', '계속 수비라서 수비 준비중에 계속 나가는데도', '탈주라고 경험치 패널티도 주시고,', '감사합니다.', '게임 번창하지는 마시고 현상유지나 잘하시길^^7', 'p.s', '6연 떴다가 7연 뜨길래 게시글 한번 수정했는데', '이번엔 8연으로 수비 띄워주시네요?', '사스가 블리자드 클라스', 'p.s', '응 12연 수비 띄우고 13번만에 공격^^']\n",
      "IndexError\n",
      "https://kr.battle.net/forums/ko/overwatch/topic/4566406683\n",
      "['경쟁전 버그 제보', '게임을 이겼는데 진걸로 뜨네요 확인 부탁드려요 ..']\n",
      "IndexError\n",
      "https://kr.battle.net/forums/ko/overwatch/topic/4566426705\n",
      "['추가로 솔저도 자주 나오겠지만, 맥크리는 무조건 나올 듯 합니다.', '특히 맥크리한테 섬광탄 던진 다음 바로 난사당한 유저들도 워낙 하도 많아서요.']\n",
      "IndexError\n",
      "https://kr.battle.net/forums/ko/overwatch/topic/4566426708\n",
      "['경쟁도중 탈주하고 시간내에 미접속시 정당한 제재 부탁드립니다.', '예로 3일 정지나 7일정지 같은']\n",
      "IndexError\n",
      "https://kr.battle.net/forums/ko/overwatch/topic/4566426703\n",
      "['눈송이 겨울 이벤트 당첨됬는데 언제 오나요? 4월16일에 배송해준다고 했는데 당첨 된지 2달이 넘어가는데 설구실내화 빨리 오면 좋겠네요ㅎㅎ']\n",
      "IndexError\n",
      "https://kr.battle.net/forums/ko/overwatch/topic/4566426699\n",
      "['오버워치 경쟁전 시작하면 화면이 꺼져요.']\n",
      "IndexError\n",
      "https://kr.battle.net/forums/ko/overwatch/topic/4566396710\n",
      "['진짜 하면 할수록 짜증만나고 재미는 하나도 없닼ㅋ 캐릭은 다양한데 할 캐릭들은 정해져 있고 경쟁전은 실력순이 아니라 버스 잘탄 순이고 ㅋㅋ 목처 1.후반 점수도 안되는 딜러가 어떻게 다이아를 유지하고 있는지 ㅋㅋ 이것만봐도 경쟁전 시스템은 개 병1신인거 인증 하는거지 게다가 부계나 대리는 잡지도 않고 ㅋㅋ 밑에서 양학 당하는 사람들은 뭔 재미로함? 죽는 재미로 하나 개트롤짓 한두판 해도 이후 정삭적으로 게임해도 신고는 개같이 안먹히고~ 그렇게 한두판이 어떤 사람한텐 10판이 될수 있는걸 모르나 1분이라고 트롤하면 정지 때려야지 방관하는 우리 오버워치~ 할때마다 재미는 커녕 짜증밖에 안난다']\n",
      "IndexError\n",
      "https://kr.battle.net/forums/ko/overwatch/topic/4566406677\n",
      "['픽고착화 너무 심하다ㄹㅇ', '대충 4100~4500구간 40판정도 플레이 해봤는데 ', '라인,자리야,브리기테,한조,메르시,젠야타조합이 70%인데', '이럴거면 그냥 다른영웅 다없애고 위에 6명만 남겨놓지그러냐', '팀합과 개인피지컬,조합이 중요한게임에서 영웅의 밸런스로인해 팀합,개인피지컬이 씹히는건 좀 아니지않냐? 이럴거면 fps를 뒤에 왜 달아놨냐ㅋㅋㅋ정작 fps요소 가지고있는 영웅인 트레,맥크리,위도우메이커,솔저는 싹다 고인인데ㅋㅋㅋㅋㅋ아 위도우는 좀 나오니까 빼야지 트레이서는 총알이 거리에따라서 퍼지는영웅이라 근거리전투를 해야한다는건데 근데 근거리 접근하면 백이면백 브리기테한테 우평쉬프트콤보맞으면 역행쓸틈없이 한방인데 이건좀 문제있지않냐 물론 실력으로 피하면 좋겠지만 방벽밀치기 판정이 너무나 \"적당\"해서 피하기도 어려울뿐더러 쿨타임은 5초나되니 브리기테입장에서는 그냥 한번 못맞추면 방벽들고 5초뻐기면 되는데 이건좀 문제있지않냐 에이밍딜러는 지원가를 좀더 잘 흔들거나 자르려고 에임연습을 씨빨 몇시간을 하는지 아냐 니네가 !@같은새끼들아 씨;발년들이 욕을 안할래도 안할수가없어요 병신새끼들아 #$ 사설방만들어가고 훈련장에서 몇시간씩 에임연습하면뭐해 %^년들아 에임정확성 -도필요없는 지원가한새끼한테 원콤나는데 씨:발년들아 너네 니네입으로 신규영웅 출시하기전에 몇십 몇백판씩해보면서 밸런스조절한다며 *!@들아 #$ 실골플딱새끼들 몇십명이서        해보면 뭐하냐고ㅋㅋㅋㅋㅋ밸런스팀에 프로게이머 한명만 넣어놔봐라 이꼴안나지 병신들아 정없으면 나 채용해라 내가 가줄라니까ㅋㅋㅋ제프 씹병신새끼는 예전부터 한조 존나빨더니 결국엔 한조 상향시켜버렸고 야%^ 존나너무한게 한조는 풀차징하고 좌우움직이는속도가 위도우랑 비교할수없이 빠르잖아 위도우는 풀차징하고 움직임이 느린대가로 히트스캔인거고 근데 씨~발 한조투사체속도를 100으로 상향하고 판정이 히트스캔보다 1.5배가 좋은데 이건 좀 아니지않냐? 게다가 전방 2단점프로 기동성 더 좋아지고 폭풍화살로 투사체100에다가 데미지80짜리 화살이 6연발 차징속도도없이 난사되는데 같은 저격수인데 총괄프로듀서가 빠는영웅이랑 안빠는영웅의대우가 이리 심한차이였냐? 진짜 가면 갈수록 가관이구나 너네는 계속 그렇게 -고집부려봐라 병신들아 예전처럼 유저 늘어나나 너네는 이제 끝이야 병신들아 유저한명 더떠난다~']\n",
      "IndexError\n",
      "https://kr.battle.net/forums/ko/overwatch/topic/4566416678\n",
      "['전 일본계정이라 친구계정으로 구매해서 제 계정쪽으로 선물보내야하는데', '저번주 토요일날 친추를 해놔서...', '왜있는지는 모르는 불편한기능임']\n",
      "IndexError\n",
      "https://kr.battle.net/forums/ko/overwatch/topic/4566416679\n",
      "['왜 솔져로 달리고 있는데 둠피 e스킬 맞았다고 달리는게 풀리고 뒤로 가죠? 개 망겜이여서 그런가요?']\n",
      "IndexError\n",
      "https://kr.battle.net/forums/ko/overwatch/topic/4565777823\n"
     ]
    },
    {
     "name": "stdout",
     "output_type": "stream",
     "text": [
      "['엥 그럼 저 젠야타 14시간에 헤드 12%인데 핵이게요?']\n",
      "IndexError\n",
      "https://kr.battle.net/forums/ko/overwatch/topic/4566406672\n",
      "['안녕하십니까? 저는 오버워치 플레이중 버그를 겪은 저의 후기를 알려 주려고 문의를 남겼습니다.저는 오버워치 플레이도중 친구들과 함께 그룹에 나가진 어이없는 버그가 걸렸습니다.친구도 없어져서 다시 추가해도 사라지고 그룹에 초대받거나 들어가도 나가지기 일쑤였습니다.이 버그를 빨리 고쳐서 친구들과 재밌는 게임을 하고 싶습니다.문의 주세요']\n",
      "IndexError\n",
      "https://kr.battle.net/forums/ko/overwatch/topic/4566396693\n",
      "['20!@# 5월 16일 12시 8분']\n",
      "IndexError\n",
      "https://kr.battle.net/forums/ko/overwatch/topic/4566396687\n",
      "['생각해보니 그것도 좋을 것 같네요. 페이크로 던지는 척하면서 적 기술도 뺄 수 있고.']\n",
      "IndexError\n",
      "https://kr.battle.net/forums/ko/overwatch/topic/4566396688\n",
      "['블리자드가 지금의 라이엇처럼 정신만 차린다면야..;;']\n",
      "IndexError\n",
      "https://kr.battle.net/forums/ko/overwatch/topic/4566416669\n",
      "['일 존나게못하는데', '2시즌 3시즌 핵 방치 지금도 간간히 핵보임', '유저 비매너 방치', '닷지버그 한동안 방치', '밸런스 개말아먹음', '개엿같은 상자깡 이벤트', '오버워치 리그 후빨중', '대리 지금도 방치(오버워치 리그 - 사도, OGE)', '친목질 냄새도 나기 시작', '상대팀엔 거의 대리유저 우리팀은 힐딱이가 뜬금없이 딜러잡아서 말아먹거나 3딜 4딜나와서 게임터짐', '서비스종료 ㄱㄱ']\n",
      "IndexError\n",
      "https://kr.battle.net/forums/ko/overwatch/topic/4566426682\n",
      "['왜냐하면, 블쟈놈들한테 대리는 자기네들 게임에 대한 사랑의 상징♡이고, 동성애 모욕은 천인공노할 인권에 대한 모욕이기 때문...(블리자드에 pc충이 많다는 소문도 있고)']\n",
      "IndexError\n",
      "https://kr.battle.net/forums/ko/overwatch/topic/4565437223\n",
      "['딴 건 몰라도, 오버워치 기록 보관소는 매달 한 주씩 정해서 열렸으면 좋겠음...', ' 스토리에 관련된 건데 1년에 1번보단 자주 해줘야 된다고 생각합니다.']\n",
      "IndexError\n",
      "https://kr.battle.net/forums/ko/overwatch/topic/4566406653\n",
      "['개꿀이노, 난 제일 낮은 계정이 지금 쓰고 있는 WRAXU 계정 밖에 없는데, 강추한다. 이 의견 ㄹㅇ']\n",
      "IndexError\n",
      "https://kr.battle.net/forums/ko/overwatch/topic/4566396685\n",
      "['하지마, 그럼']\n",
      "IndexError\n",
      "https://kr.battle.net/forums/ko/overwatch/topic/4565909114\n",
      "['속으론 뭔가 대단하다고 생각할테지만 현실은 재롱잔치']\n",
      "IndexError\n",
      "https://kr.battle.net/forums/ko/overwatch/topic/4566406625\n",
      "['어쨋든 그런 대처로는 고의 탈주자가 크게 줄긴 하겠지만, 자의든 타의든 탈주 행위가 발생하지 않을 수는 없습니다. 근본적으로 탈주 문제를 해결 하려면, 한명이 부득이하게 탈주할지라도 그 구멍을 빠르게 메울 수 있는 시스템이 필요하다 생각합니다.']\n",
      "IndexError\n",
      "https://kr.battle.net/forums/ko/overwatch/topic/4566396684\n"
     ]
    },
    {
     "ename": "KeyboardInterrupt",
     "evalue": "",
     "output_type": "error",
     "traceback": [
      "\u001b[1;31m---------------------------------------------------------------------------\u001b[0m",
      "\u001b[1;31mTypeError\u001b[0m                                 Traceback (most recent call last)",
      "\u001b[1;32m~\\Anaconda3\\lib\\site-packages\\urllib3\\connectionpool.py\u001b[0m in \u001b[0;36m_make_request\u001b[1;34m(self, conn, method, url, timeout, chunked, **httplib_request_kw)\u001b[0m\n\u001b[0;32m    379\u001b[0m             \u001b[1;32mtry\u001b[0m\u001b[1;33m:\u001b[0m  \u001b[1;31m# Python 2.7, use buffering of HTTP responses\u001b[0m\u001b[1;33m\u001b[0m\u001b[0m\n\u001b[1;32m--> 380\u001b[1;33m                 \u001b[0mhttplib_response\u001b[0m \u001b[1;33m=\u001b[0m \u001b[0mconn\u001b[0m\u001b[1;33m.\u001b[0m\u001b[0mgetresponse\u001b[0m\u001b[1;33m(\u001b[0m\u001b[0mbuffering\u001b[0m\u001b[1;33m=\u001b[0m\u001b[1;32mTrue\u001b[0m\u001b[1;33m)\u001b[0m\u001b[1;33m\u001b[0m\u001b[0m\n\u001b[0m\u001b[0;32m    381\u001b[0m             \u001b[1;32mexcept\u001b[0m \u001b[0mTypeError\u001b[0m\u001b[1;33m:\u001b[0m  \u001b[1;31m# Python 2.6 and older, Python 3\u001b[0m\u001b[1;33m\u001b[0m\u001b[0m\n",
      "\u001b[1;31mTypeError\u001b[0m: getresponse() got an unexpected keyword argument 'buffering'",
      "\nDuring handling of the above exception, another exception occurred:\n",
      "\u001b[1;31mKeyboardInterrupt\u001b[0m                         Traceback (most recent call last)",
      "\u001b[1;32m<ipython-input-7-0c72b537c47f>\u001b[0m in \u001b[0;36m<module>\u001b[1;34m()\u001b[0m\n\u001b[0;32m     10\u001b[0m \u001b[1;32mfor\u001b[0m \u001b[0murl\u001b[0m \u001b[1;32min\u001b[0m \u001b[0mlink\u001b[0m\u001b[1;33m[\u001b[0m\u001b[1;36m8\u001b[0m\u001b[1;33m:\u001b[0m\u001b[1;33m]\u001b[0m\u001b[1;33m:\u001b[0m\u001b[1;33m\u001b[0m\u001b[0m\n\u001b[0;32m     11\u001b[0m     \u001b[0mprint\u001b[0m\u001b[1;33m(\u001b[0m\u001b[0murl\u001b[0m\u001b[1;33m)\u001b[0m\u001b[1;33m\u001b[0m\u001b[0m\n\u001b[1;32m---> 12\u001b[1;33m     \u001b[0mres2\u001b[0m\u001b[1;33m=\u001b[0m\u001b[0mrequests\u001b[0m\u001b[1;33m.\u001b[0m\u001b[0mget\u001b[0m\u001b[1;33m(\u001b[0m\u001b[0murl\u001b[0m\u001b[1;33m)\u001b[0m\u001b[1;33m\u001b[0m\u001b[0m\n\u001b[0m\u001b[0;32m     13\u001b[0m     \u001b[0mroot2\u001b[0m\u001b[1;33m=\u001b[0m\u001b[0mlxml\u001b[0m\u001b[1;33m.\u001b[0m\u001b[0mhtml\u001b[0m\u001b[1;33m.\u001b[0m\u001b[0mfromstring\u001b[0m\u001b[1;33m(\u001b[0m\u001b[0mres2\u001b[0m\u001b[1;33m.\u001b[0m\u001b[0mtext\u001b[0m\u001b[1;33m)\u001b[0m\u001b[1;33m\u001b[0m\u001b[0m\n\u001b[0;32m     14\u001b[0m     \u001b[0mcmt\u001b[0m\u001b[1;33m=\u001b[0m\u001b[0mroot2\u001b[0m\u001b[1;33m.\u001b[0m\u001b[0mcssselect\u001b[0m\u001b[1;33m(\u001b[0m\u001b[1;34m'div.TopicPost-bodyContent'\u001b[0m\u001b[1;33m)\u001b[0m\u001b[1;33m\u001b[0m\u001b[0m\n",
      "\u001b[1;32m~\\Anaconda3\\lib\\site-packages\\requests\\api.py\u001b[0m in \u001b[0;36mget\u001b[1;34m(url, params, **kwargs)\u001b[0m\n\u001b[0;32m     70\u001b[0m \u001b[1;33m\u001b[0m\u001b[0m\n\u001b[0;32m     71\u001b[0m     \u001b[0mkwargs\u001b[0m\u001b[1;33m.\u001b[0m\u001b[0msetdefault\u001b[0m\u001b[1;33m(\u001b[0m\u001b[1;34m'allow_redirects'\u001b[0m\u001b[1;33m,\u001b[0m \u001b[1;32mTrue\u001b[0m\u001b[1;33m)\u001b[0m\u001b[1;33m\u001b[0m\u001b[0m\n\u001b[1;32m---> 72\u001b[1;33m     \u001b[1;32mreturn\u001b[0m \u001b[0mrequest\u001b[0m\u001b[1;33m(\u001b[0m\u001b[1;34m'get'\u001b[0m\u001b[1;33m,\u001b[0m \u001b[0murl\u001b[0m\u001b[1;33m,\u001b[0m \u001b[0mparams\u001b[0m\u001b[1;33m=\u001b[0m\u001b[0mparams\u001b[0m\u001b[1;33m,\u001b[0m \u001b[1;33m**\u001b[0m\u001b[0mkwargs\u001b[0m\u001b[1;33m)\u001b[0m\u001b[1;33m\u001b[0m\u001b[0m\n\u001b[0m\u001b[0;32m     73\u001b[0m \u001b[1;33m\u001b[0m\u001b[0m\n\u001b[0;32m     74\u001b[0m \u001b[1;33m\u001b[0m\u001b[0m\n",
      "\u001b[1;32m~\\Anaconda3\\lib\\site-packages\\requests\\api.py\u001b[0m in \u001b[0;36mrequest\u001b[1;34m(method, url, **kwargs)\u001b[0m\n\u001b[0;32m     56\u001b[0m     \u001b[1;31m# cases, and look like a memory leak in others.\u001b[0m\u001b[1;33m\u001b[0m\u001b[1;33m\u001b[0m\u001b[0m\n\u001b[0;32m     57\u001b[0m     \u001b[1;32mwith\u001b[0m \u001b[0msessions\u001b[0m\u001b[1;33m.\u001b[0m\u001b[0mSession\u001b[0m\u001b[1;33m(\u001b[0m\u001b[1;33m)\u001b[0m \u001b[1;32mas\u001b[0m \u001b[0msession\u001b[0m\u001b[1;33m:\u001b[0m\u001b[1;33m\u001b[0m\u001b[0m\n\u001b[1;32m---> 58\u001b[1;33m         \u001b[1;32mreturn\u001b[0m \u001b[0msession\u001b[0m\u001b[1;33m.\u001b[0m\u001b[0mrequest\u001b[0m\u001b[1;33m(\u001b[0m\u001b[0mmethod\u001b[0m\u001b[1;33m=\u001b[0m\u001b[0mmethod\u001b[0m\u001b[1;33m,\u001b[0m \u001b[0murl\u001b[0m\u001b[1;33m=\u001b[0m\u001b[0murl\u001b[0m\u001b[1;33m,\u001b[0m \u001b[1;33m**\u001b[0m\u001b[0mkwargs\u001b[0m\u001b[1;33m)\u001b[0m\u001b[1;33m\u001b[0m\u001b[0m\n\u001b[0m\u001b[0;32m     59\u001b[0m \u001b[1;33m\u001b[0m\u001b[0m\n\u001b[0;32m     60\u001b[0m \u001b[1;33m\u001b[0m\u001b[0m\n",
      "\u001b[1;32m~\\Anaconda3\\lib\\site-packages\\requests\\sessions.py\u001b[0m in \u001b[0;36mrequest\u001b[1;34m(self, method, url, params, data, headers, cookies, files, auth, timeout, allow_redirects, proxies, hooks, stream, verify, cert, json)\u001b[0m\n\u001b[0;32m    506\u001b[0m         }\n\u001b[0;32m    507\u001b[0m         \u001b[0msend_kwargs\u001b[0m\u001b[1;33m.\u001b[0m\u001b[0mupdate\u001b[0m\u001b[1;33m(\u001b[0m\u001b[0msettings\u001b[0m\u001b[1;33m)\u001b[0m\u001b[1;33m\u001b[0m\u001b[0m\n\u001b[1;32m--> 508\u001b[1;33m         \u001b[0mresp\u001b[0m \u001b[1;33m=\u001b[0m \u001b[0mself\u001b[0m\u001b[1;33m.\u001b[0m\u001b[0msend\u001b[0m\u001b[1;33m(\u001b[0m\u001b[0mprep\u001b[0m\u001b[1;33m,\u001b[0m \u001b[1;33m**\u001b[0m\u001b[0msend_kwargs\u001b[0m\u001b[1;33m)\u001b[0m\u001b[1;33m\u001b[0m\u001b[0m\n\u001b[0m\u001b[0;32m    509\u001b[0m \u001b[1;33m\u001b[0m\u001b[0m\n\u001b[0;32m    510\u001b[0m         \u001b[1;32mreturn\u001b[0m \u001b[0mresp\u001b[0m\u001b[1;33m\u001b[0m\u001b[0m\n",
      "\u001b[1;32m~\\Anaconda3\\lib\\site-packages\\requests\\sessions.py\u001b[0m in \u001b[0;36msend\u001b[1;34m(self, request, **kwargs)\u001b[0m\n\u001b[0;32m    616\u001b[0m \u001b[1;33m\u001b[0m\u001b[0m\n\u001b[0;32m    617\u001b[0m         \u001b[1;31m# Send the request\u001b[0m\u001b[1;33m\u001b[0m\u001b[1;33m\u001b[0m\u001b[0m\n\u001b[1;32m--> 618\u001b[1;33m         \u001b[0mr\u001b[0m \u001b[1;33m=\u001b[0m \u001b[0madapter\u001b[0m\u001b[1;33m.\u001b[0m\u001b[0msend\u001b[0m\u001b[1;33m(\u001b[0m\u001b[0mrequest\u001b[0m\u001b[1;33m,\u001b[0m \u001b[1;33m**\u001b[0m\u001b[0mkwargs\u001b[0m\u001b[1;33m)\u001b[0m\u001b[1;33m\u001b[0m\u001b[0m\n\u001b[0m\u001b[0;32m    619\u001b[0m \u001b[1;33m\u001b[0m\u001b[0m\n\u001b[0;32m    620\u001b[0m         \u001b[1;31m# Total elapsed time of the request (approximately)\u001b[0m\u001b[1;33m\u001b[0m\u001b[1;33m\u001b[0m\u001b[0m\n",
      "\u001b[1;32m~\\Anaconda3\\lib\\site-packages\\requests\\adapters.py\u001b[0m in \u001b[0;36msend\u001b[1;34m(self, request, stream, timeout, verify, cert, proxies)\u001b[0m\n\u001b[0;32m    438\u001b[0m                     \u001b[0mdecode_content\u001b[0m\u001b[1;33m=\u001b[0m\u001b[1;32mFalse\u001b[0m\u001b[1;33m,\u001b[0m\u001b[1;33m\u001b[0m\u001b[0m\n\u001b[0;32m    439\u001b[0m                     \u001b[0mretries\u001b[0m\u001b[1;33m=\u001b[0m\u001b[0mself\u001b[0m\u001b[1;33m.\u001b[0m\u001b[0mmax_retries\u001b[0m\u001b[1;33m,\u001b[0m\u001b[1;33m\u001b[0m\u001b[0m\n\u001b[1;32m--> 440\u001b[1;33m                     \u001b[0mtimeout\u001b[0m\u001b[1;33m=\u001b[0m\u001b[0mtimeout\u001b[0m\u001b[1;33m\u001b[0m\u001b[0m\n\u001b[0m\u001b[0;32m    441\u001b[0m                 )\n\u001b[0;32m    442\u001b[0m \u001b[1;33m\u001b[0m\u001b[0m\n",
      "\u001b[1;32m~\\Anaconda3\\lib\\site-packages\\urllib3\\connectionpool.py\u001b[0m in \u001b[0;36murlopen\u001b[1;34m(self, method, url, body, headers, retries, redirect, assert_same_host, timeout, pool_timeout, release_conn, chunked, body_pos, **response_kw)\u001b[0m\n\u001b[0;32m    599\u001b[0m                                                   \u001b[0mtimeout\u001b[0m\u001b[1;33m=\u001b[0m\u001b[0mtimeout_obj\u001b[0m\u001b[1;33m,\u001b[0m\u001b[1;33m\u001b[0m\u001b[0m\n\u001b[0;32m    600\u001b[0m                                                   \u001b[0mbody\u001b[0m\u001b[1;33m=\u001b[0m\u001b[0mbody\u001b[0m\u001b[1;33m,\u001b[0m \u001b[0mheaders\u001b[0m\u001b[1;33m=\u001b[0m\u001b[0mheaders\u001b[0m\u001b[1;33m,\u001b[0m\u001b[1;33m\u001b[0m\u001b[0m\n\u001b[1;32m--> 601\u001b[1;33m                                                   chunked=chunked)\n\u001b[0m\u001b[0;32m    602\u001b[0m \u001b[1;33m\u001b[0m\u001b[0m\n\u001b[0;32m    603\u001b[0m             \u001b[1;31m# If we're going to release the connection in ``finally:``, then\u001b[0m\u001b[1;33m\u001b[0m\u001b[1;33m\u001b[0m\u001b[0m\n",
      "\u001b[1;32m~\\Anaconda3\\lib\\site-packages\\urllib3\\connectionpool.py\u001b[0m in \u001b[0;36m_make_request\u001b[1;34m(self, conn, method, url, timeout, chunked, **httplib_request_kw)\u001b[0m\n\u001b[0;32m    381\u001b[0m             \u001b[1;32mexcept\u001b[0m \u001b[0mTypeError\u001b[0m\u001b[1;33m:\u001b[0m  \u001b[1;31m# Python 2.6 and older, Python 3\u001b[0m\u001b[1;33m\u001b[0m\u001b[0m\n\u001b[0;32m    382\u001b[0m                 \u001b[1;32mtry\u001b[0m\u001b[1;33m:\u001b[0m\u001b[1;33m\u001b[0m\u001b[0m\n\u001b[1;32m--> 383\u001b[1;33m                     \u001b[0mhttplib_response\u001b[0m \u001b[1;33m=\u001b[0m \u001b[0mconn\u001b[0m\u001b[1;33m.\u001b[0m\u001b[0mgetresponse\u001b[0m\u001b[1;33m(\u001b[0m\u001b[1;33m)\u001b[0m\u001b[1;33m\u001b[0m\u001b[0m\n\u001b[0m\u001b[0;32m    384\u001b[0m                 \u001b[1;32mexcept\u001b[0m \u001b[0mException\u001b[0m \u001b[1;32mas\u001b[0m \u001b[0me\u001b[0m\u001b[1;33m:\u001b[0m\u001b[1;33m\u001b[0m\u001b[0m\n\u001b[0;32m    385\u001b[0m                     \u001b[1;31m# Remove the TypeError from the exception chain in Python 3;\u001b[0m\u001b[1;33m\u001b[0m\u001b[1;33m\u001b[0m\u001b[0m\n",
      "\u001b[1;32m~\\Anaconda3\\lib\\http\\client.py\u001b[0m in \u001b[0;36mgetresponse\u001b[1;34m(self)\u001b[0m\n\u001b[0;32m   1329\u001b[0m         \u001b[1;32mtry\u001b[0m\u001b[1;33m:\u001b[0m\u001b[1;33m\u001b[0m\u001b[0m\n\u001b[0;32m   1330\u001b[0m             \u001b[1;32mtry\u001b[0m\u001b[1;33m:\u001b[0m\u001b[1;33m\u001b[0m\u001b[0m\n\u001b[1;32m-> 1331\u001b[1;33m                 \u001b[0mresponse\u001b[0m\u001b[1;33m.\u001b[0m\u001b[0mbegin\u001b[0m\u001b[1;33m(\u001b[0m\u001b[1;33m)\u001b[0m\u001b[1;33m\u001b[0m\u001b[0m\n\u001b[0m\u001b[0;32m   1332\u001b[0m             \u001b[1;32mexcept\u001b[0m \u001b[0mConnectionError\u001b[0m\u001b[1;33m:\u001b[0m\u001b[1;33m\u001b[0m\u001b[0m\n\u001b[0;32m   1333\u001b[0m                 \u001b[0mself\u001b[0m\u001b[1;33m.\u001b[0m\u001b[0mclose\u001b[0m\u001b[1;33m(\u001b[0m\u001b[1;33m)\u001b[0m\u001b[1;33m\u001b[0m\u001b[0m\n",
      "\u001b[1;32m~\\Anaconda3\\lib\\http\\client.py\u001b[0m in \u001b[0;36mbegin\u001b[1;34m(self)\u001b[0m\n\u001b[0;32m    295\u001b[0m         \u001b[1;31m# read until we get a non-100 response\u001b[0m\u001b[1;33m\u001b[0m\u001b[1;33m\u001b[0m\u001b[0m\n\u001b[0;32m    296\u001b[0m         \u001b[1;32mwhile\u001b[0m \u001b[1;32mTrue\u001b[0m\u001b[1;33m:\u001b[0m\u001b[1;33m\u001b[0m\u001b[0m\n\u001b[1;32m--> 297\u001b[1;33m             \u001b[0mversion\u001b[0m\u001b[1;33m,\u001b[0m \u001b[0mstatus\u001b[0m\u001b[1;33m,\u001b[0m \u001b[0mreason\u001b[0m \u001b[1;33m=\u001b[0m \u001b[0mself\u001b[0m\u001b[1;33m.\u001b[0m\u001b[0m_read_status\u001b[0m\u001b[1;33m(\u001b[0m\u001b[1;33m)\u001b[0m\u001b[1;33m\u001b[0m\u001b[0m\n\u001b[0m\u001b[0;32m    298\u001b[0m             \u001b[1;32mif\u001b[0m \u001b[0mstatus\u001b[0m \u001b[1;33m!=\u001b[0m \u001b[0mCONTINUE\u001b[0m\u001b[1;33m:\u001b[0m\u001b[1;33m\u001b[0m\u001b[0m\n\u001b[0;32m    299\u001b[0m                 \u001b[1;32mbreak\u001b[0m\u001b[1;33m\u001b[0m\u001b[0m\n",
      "\u001b[1;32m~\\Anaconda3\\lib\\http\\client.py\u001b[0m in \u001b[0;36m_read_status\u001b[1;34m(self)\u001b[0m\n\u001b[0;32m    256\u001b[0m \u001b[1;33m\u001b[0m\u001b[0m\n\u001b[0;32m    257\u001b[0m     \u001b[1;32mdef\u001b[0m \u001b[0m_read_status\u001b[0m\u001b[1;33m(\u001b[0m\u001b[0mself\u001b[0m\u001b[1;33m)\u001b[0m\u001b[1;33m:\u001b[0m\u001b[1;33m\u001b[0m\u001b[0m\n\u001b[1;32m--> 258\u001b[1;33m         \u001b[0mline\u001b[0m \u001b[1;33m=\u001b[0m \u001b[0mstr\u001b[0m\u001b[1;33m(\u001b[0m\u001b[0mself\u001b[0m\u001b[1;33m.\u001b[0m\u001b[0mfp\u001b[0m\u001b[1;33m.\u001b[0m\u001b[0mreadline\u001b[0m\u001b[1;33m(\u001b[0m\u001b[0m_MAXLINE\u001b[0m \u001b[1;33m+\u001b[0m \u001b[1;36m1\u001b[0m\u001b[1;33m)\u001b[0m\u001b[1;33m,\u001b[0m \u001b[1;34m\"iso-8859-1\"\u001b[0m\u001b[1;33m)\u001b[0m\u001b[1;33m\u001b[0m\u001b[0m\n\u001b[0m\u001b[0;32m    259\u001b[0m         \u001b[1;32mif\u001b[0m \u001b[0mlen\u001b[0m\u001b[1;33m(\u001b[0m\u001b[0mline\u001b[0m\u001b[1;33m)\u001b[0m \u001b[1;33m>\u001b[0m \u001b[0m_MAXLINE\u001b[0m\u001b[1;33m:\u001b[0m\u001b[1;33m\u001b[0m\u001b[0m\n\u001b[0;32m    260\u001b[0m             \u001b[1;32mraise\u001b[0m \u001b[0mLineTooLong\u001b[0m\u001b[1;33m(\u001b[0m\u001b[1;34m\"status line\"\u001b[0m\u001b[1;33m)\u001b[0m\u001b[1;33m\u001b[0m\u001b[0m\n",
      "\u001b[1;32m~\\Anaconda3\\lib\\socket.py\u001b[0m in \u001b[0;36mreadinto\u001b[1;34m(self, b)\u001b[0m\n\u001b[0;32m    584\u001b[0m         \u001b[1;32mwhile\u001b[0m \u001b[1;32mTrue\u001b[0m\u001b[1;33m:\u001b[0m\u001b[1;33m\u001b[0m\u001b[0m\n\u001b[0;32m    585\u001b[0m             \u001b[1;32mtry\u001b[0m\u001b[1;33m:\u001b[0m\u001b[1;33m\u001b[0m\u001b[0m\n\u001b[1;32m--> 586\u001b[1;33m                 \u001b[1;32mreturn\u001b[0m \u001b[0mself\u001b[0m\u001b[1;33m.\u001b[0m\u001b[0m_sock\u001b[0m\u001b[1;33m.\u001b[0m\u001b[0mrecv_into\u001b[0m\u001b[1;33m(\u001b[0m\u001b[0mb\u001b[0m\u001b[1;33m)\u001b[0m\u001b[1;33m\u001b[0m\u001b[0m\n\u001b[0m\u001b[0;32m    587\u001b[0m             \u001b[1;32mexcept\u001b[0m \u001b[0mtimeout\u001b[0m\u001b[1;33m:\u001b[0m\u001b[1;33m\u001b[0m\u001b[0m\n\u001b[0;32m    588\u001b[0m                 \u001b[0mself\u001b[0m\u001b[1;33m.\u001b[0m\u001b[0m_timeout_occurred\u001b[0m \u001b[1;33m=\u001b[0m \u001b[1;32mTrue\u001b[0m\u001b[1;33m\u001b[0m\u001b[0m\n",
      "\u001b[1;32m~\\Anaconda3\\lib\\site-packages\\urllib3\\contrib\\pyopenssl.py\u001b[0m in \u001b[0;36mrecv_into\u001b[1;34m(self, *args, **kwargs)\u001b[0m\n\u001b[0;32m    278\u001b[0m     \u001b[1;32mdef\u001b[0m \u001b[0mrecv_into\u001b[0m\u001b[1;33m(\u001b[0m\u001b[0mself\u001b[0m\u001b[1;33m,\u001b[0m \u001b[1;33m*\u001b[0m\u001b[0margs\u001b[0m\u001b[1;33m,\u001b[0m \u001b[1;33m**\u001b[0m\u001b[0mkwargs\u001b[0m\u001b[1;33m)\u001b[0m\u001b[1;33m:\u001b[0m\u001b[1;33m\u001b[0m\u001b[0m\n\u001b[0;32m    279\u001b[0m         \u001b[1;32mtry\u001b[0m\u001b[1;33m:\u001b[0m\u001b[1;33m\u001b[0m\u001b[0m\n\u001b[1;32m--> 280\u001b[1;33m             \u001b[1;32mreturn\u001b[0m \u001b[0mself\u001b[0m\u001b[1;33m.\u001b[0m\u001b[0mconnection\u001b[0m\u001b[1;33m.\u001b[0m\u001b[0mrecv_into\u001b[0m\u001b[1;33m(\u001b[0m\u001b[1;33m*\u001b[0m\u001b[0margs\u001b[0m\u001b[1;33m,\u001b[0m \u001b[1;33m**\u001b[0m\u001b[0mkwargs\u001b[0m\u001b[1;33m)\u001b[0m\u001b[1;33m\u001b[0m\u001b[0m\n\u001b[0m\u001b[0;32m    281\u001b[0m         \u001b[1;32mexcept\u001b[0m \u001b[0mOpenSSL\u001b[0m\u001b[1;33m.\u001b[0m\u001b[0mSSL\u001b[0m\u001b[1;33m.\u001b[0m\u001b[0mSysCallError\u001b[0m \u001b[1;32mas\u001b[0m \u001b[0me\u001b[0m\u001b[1;33m:\u001b[0m\u001b[1;33m\u001b[0m\u001b[0m\n\u001b[0;32m    282\u001b[0m             \u001b[1;32mif\u001b[0m \u001b[0mself\u001b[0m\u001b[1;33m.\u001b[0m\u001b[0msuppress_ragged_eofs\u001b[0m \u001b[1;32mand\u001b[0m \u001b[0me\u001b[0m\u001b[1;33m.\u001b[0m\u001b[0margs\u001b[0m \u001b[1;33m==\u001b[0m \u001b[1;33m(\u001b[0m\u001b[1;33m-\u001b[0m\u001b[1;36m1\u001b[0m\u001b[1;33m,\u001b[0m \u001b[1;34m'Unexpected EOF'\u001b[0m\u001b[1;33m)\u001b[0m\u001b[1;33m:\u001b[0m\u001b[1;33m\u001b[0m\u001b[0m\n",
      "\u001b[1;32m~\\Anaconda3\\lib\\site-packages\\OpenSSL\\SSL.py\u001b[0m in \u001b[0;36mrecv_into\u001b[1;34m(self, buffer, nbytes, flags)\u001b[0m\n\u001b[0;32m   1712\u001b[0m             \u001b[0mresult\u001b[0m \u001b[1;33m=\u001b[0m \u001b[0m_lib\u001b[0m\u001b[1;33m.\u001b[0m\u001b[0mSSL_peek\u001b[0m\u001b[1;33m(\u001b[0m\u001b[0mself\u001b[0m\u001b[1;33m.\u001b[0m\u001b[0m_ssl\u001b[0m\u001b[1;33m,\u001b[0m \u001b[0mbuf\u001b[0m\u001b[1;33m,\u001b[0m \u001b[0mnbytes\u001b[0m\u001b[1;33m)\u001b[0m\u001b[1;33m\u001b[0m\u001b[0m\n\u001b[0;32m   1713\u001b[0m         \u001b[1;32melse\u001b[0m\u001b[1;33m:\u001b[0m\u001b[1;33m\u001b[0m\u001b[0m\n\u001b[1;32m-> 1714\u001b[1;33m             \u001b[0mresult\u001b[0m \u001b[1;33m=\u001b[0m \u001b[0m_lib\u001b[0m\u001b[1;33m.\u001b[0m\u001b[0mSSL_read\u001b[0m\u001b[1;33m(\u001b[0m\u001b[0mself\u001b[0m\u001b[1;33m.\u001b[0m\u001b[0m_ssl\u001b[0m\u001b[1;33m,\u001b[0m \u001b[0mbuf\u001b[0m\u001b[1;33m,\u001b[0m \u001b[0mnbytes\u001b[0m\u001b[1;33m)\u001b[0m\u001b[1;33m\u001b[0m\u001b[0m\n\u001b[0m\u001b[0;32m   1715\u001b[0m         \u001b[0mself\u001b[0m\u001b[1;33m.\u001b[0m\u001b[0m_raise_ssl_error\u001b[0m\u001b[1;33m(\u001b[0m\u001b[0mself\u001b[0m\u001b[1;33m.\u001b[0m\u001b[0m_ssl\u001b[0m\u001b[1;33m,\u001b[0m \u001b[0mresult\u001b[0m\u001b[1;33m)\u001b[0m\u001b[1;33m\u001b[0m\u001b[0m\n\u001b[0;32m   1716\u001b[0m \u001b[1;33m\u001b[0m\u001b[0m\n",
      "\u001b[1;31mKeyboardInterrupt\u001b[0m: "
     ]
    }
   ],
   "source": [
    "link=[]\n",
    "for page in range(1,3):\n",
    "    url='https://kr.battle.net/forums/ko/overwatch/5018707/?page={}'.format(page)\n",
    "    res=requests.get(url)\n",
    "    root=lxml.html.fromstring(res.text)\n",
    "    for elm in root.cssselect('.ForumTopic'):\n",
    "        link.append('https://kr.battle.net'+elm.attrib['href'])\n",
    "print(len(link))\n",
    "comments=[]\n",
    "for url in link[8:]:\n",
    "    print(url)\n",
    "    res2=requests.get(url)\n",
    "    root2=lxml.html.fromstring(res2.text)\n",
    "    cmt=root2.cssselect('div.TopicPost-bodyContent')\n",
    "    for elm in cmt:\n",
    "        try:\n",
    "            comments.append(elm.xpath('text()'))\n",
    "        except IndexError:\n",
    "            continue\n",
    "    print(comments[-1])\n",
    "    while True:\n",
    "        try:\n",
    "            res3=requests.get(url+\n",
    "                              root2.cssselect('div.Topic-pagination--header > a.Pagination-button.Pagination-button--next')[0].attrib['href'])\n",
    "            print(root2.cssselect('div.Topic-pagination--header > a.Pagination-button.Pagination-button--next')[0].attrib['href'])\n",
    "            root2=lxml.html.fromstring(res3.text)\n",
    "            cmt=root2.cssselect('div.TopicPost-bodyContent')\n",
    "            for elm in cmt:\n",
    "                try:\n",
    "                    comments.append(elm.xpath('text()'))\n",
    "                except IndexError:\n",
    "                    continue\n",
    "            print(comments[-1])\n",
    "        except IndexError:\n",
    "            print('IndexError')\n",
    "            break\n",
    "        except KeyError:\n",
    "            print('KeyError')\n",
    "            break\n",
    "    "
   ]
  },
  {
   "cell_type": "code",
   "execution_count": null,
   "metadata": {},
   "outputs": [],
   "source": [
    "comments"
   ]
  },
  {
   "cell_type": "code",
   "execution_count": null,
   "metadata": {
    "scrolled": true
   },
   "outputs": [
    {
     "name": "stdout",
     "output_type": "stream",
     "text": [
      "48\n",
      "https://us.battle.net/forums/en/overwatch/topic/20761046611\n",
      "['What impact this has on Moira? Fade jump tricks for example? ', 'Sometimes I fade backwards and ended up killing myself for going on an incline and off a cliff. :(']\n",
      "?page=2\n",
      "[\"You still lose momentum though. No mention of lucio at all?Lucio's speed is significantly affected by this changes. It feels easier to change direction while wall skimming. (i.e Look at the direction and press W) But it nerfs bhopping. Even after the scroll wheel changes you could Bhop if you timed the jumps properly. But now, it looks like you completely lose the speed boost after 1/2 bhops.\"]\n",
      "?page=3\n",
      "[\"The most noticeable difference I have encountered so far is tracers blink sometimes has a very small rubberband effect. I don't know if this is related but people have mentioned screen jitter and I'm thinking this is something similar.\"]\n",
      "?page=4\n",
      "[\"The bot jitter is new too. I do aim drills with AI bots in a custom game few times a week. I noticed they started to jitter recently on inclines, haven't come around clipping it yet. It is especially noticeable when they stand still on the incline.\", 'edit:', 'https://gfycat.com/QuarterlyGrimKookaburra']\n",
      "?page=5\n",
      "['Could not have said it better, so I’ll just +1']\n",
      "?page=6\n",
      "[\"Tried lucio first time with the changes (i have 100h+ on him since s3, was my first main). Just no. The changes are not difficult to adapt but the movement fluidity that made him special and fun to play ain't there.\"]\n",
      "?page=7\n",
      "['Sad thing is, Blizzard does not revert changes.']\n",
      "?page=8\n",
      "[\"One month, 10 days... I've barely played Lucio. \", \"It become sad, I'm thinking twice when my mouse cursor is on the Overwatch launch button, it reminds me how much I hate this crappy movement patch.\", 'I even start playing Genji lately...']\n",
      "?page=9\n",
      "['9 pages of feedback with multiple detailed posts are being completely ignored by the team and it looks like tomorrow this thread will die once the new forum goes live.', 'Thanks for trying everyone but it seems like the devs did not care. ', 'At least in the future we \"will be granted additional features and permissions\" to help us deal with the lack of dev responses.']\n",
      "KeyError\n",
      "https://us.battle.net/forums/en/overwatch/topic/20761916683\n",
      "['Threat moved because of new forums:', 'https://us.forums.blizzard.com/en/overwatch/t/petition-doomfist-cute-spray-requirement/56']\n",
      "IndexError\n",
      "https://us.battle.net/forums/en/overwatch/topic/20762066698\n",
      "[\"blizzard can roll it out whenever they like, they just understand that they'd be removing good players who work well with others from the general population.\", \"its like you take all the 100's, the 90's the 80's out of the grading system, they all get to enjoy eachothers company.\", 'now the bottom 70% who no longer has fill team based players at all on their teams. oh boy. they either get longer queue times or an even worse game experience.', 'all because of course they refuse to be team players. ', 'thats the real reason we cant have competent 6 mans. because the bulk of OW are not team players. and if you remove the few tanks and healers that there are into 6 mans you are left with a hot mess of terrible toxic or silent 6 man dps goon squads. 100% of the time.']\n",
      "IndexError\n",
      "https://us.battle.net/forums/en/overwatch/topic/20762026641\n",
      "['Makes you wonder why tanks are even played if all dps are a nightmare. Because in actuality, tanks can be a nightmare right back.']\n",
      "IndexError\n",
      "https://us.battle.net/forums/en/overwatch/topic/20761916686\n",
      "[\"She's sorta slowed and can't take any other action during Rez for a reason. Moira tells it to you and now I will, stupidity is not a right.\"]\n",
      "IndexError\n",
      "https://us.battle.net/forums/en/overwatch/topic/20762056694\n",
      "[\"- His play style favors pushing a team around them, her's is about making a   blockade around her.  I.E. He's best for pressing the enemy, and she's best for heavy defense/stalling.\", \"- His shield is mobile.  Up, down, sideways, slantways, for-ways, whatever ways!  He can adjust his shield on the fly from most directions to meet demands in the moment.  Orisa's shield is stationary for 8 seconds and demands proper placement.\", '- Rein shield 2000 health, self generates.  Orisa shield 900 health, CD.', 'Both have their purposes and usage, so I see both as interchangeable depending on the team needs and situations.']\n",
      "?page=2\n",
      "['Because I like the German Grandpa.', \"But IDK I prefer playing Orisa, I really don't have the patients to play Rein and just hold up his shield. I'm one of those Rein that constantly drop shield to fire strike, hammers around an enemy that came within 50 feet, and just charges in recklessly. If I were a Rein main I'd be in silver.\"]\n",
      "KeyError\n",
      "https://us.battle.net/forums/en/overwatch/topic/20749827037\n",
      "['You revived a thread this old and only did so in order to say this stupid joke that stopped being funny months ago?', 'Mate, no.']\n",
      "?page=2\n",
      "['They always need fking healing']\n",
      "KeyError\n",
      "https://us.battle.net/forums/en/overwatch/topic/20761886659\n",
      "['i stopped playing Comp when your SR effects your QP match making. I noticed that smurff accounts with almost NO gametime are winding up on QP, with an SR rating similar to mine. I made the motion to STOP climbing with my SR because of my direct feelings of Discrimination in Comp. Comp is very \"grey\" in color with no diversity. I thought this game was about diversity, comp does NOT reflect these same values that blizzard states they are about. I watched on youtube,  their Director of game design and their voice actor hiring person talk about diversity in this game and how important it was to blizzard. However since Comp does not respect this business model. I have silently protested this season for this reason.', \"The other reason is, we are given SR only based upon w/L, which means are outcome has been pre-determined by blizzard, BEFORE we started the game. I should be awarded for efforts, NOT win/Loss. I don't know of ANY game out there, other than overwatch that does this.\", 'For example: Blizzard determines the best team for you to match with, the player skill rating for them is good. However 2 or 3 of these randomly at will, these players decide that spending 90% of the time T-bagging someone in the comp-match is a better use of their time. Guess what, you just lost the game and not because you chose to. No matter how hard you played, those 2 or 3 players that are bagging around, have costed you, your game! \"so report them\". Yeah thats great, they get banned, I still get the loss and the penalty.']\n",
      "IndexError\n",
      "https://us.battle.net/forums/en/overwatch/topic/20761966681\n",
      "[\"It's not that she isn't focused down, it's that with it being harder to aim on console a character that doesn't require aim will always outshine those that do, especially when that character has high mobility. Why do you think her stats are still good in low ELO PC?\", \"This by no means she needs nerfs, it's just the explanation of why she's still strong on console despite being awful in PC Pro play\"]\n",
      "IndexError\n",
      "https://us.battle.net/forums/en/overwatch/topic/20761976664\n",
      "['Symmetra and torb take any fun out of this game mode.  So boring playing against that every game.  Stop babaysitting our flag and play the game.  So frustrating!!']\n",
      "IndexError\n",
      "https://us.battle.net/forums/en/overwatch/topic/20761846667\n",
      "['Why is it unfair?  Also, you are wrong as there are other in game abilities by other characters that generate automated messages.  Teleporters, shield generators, turrets.', 'The fact that there is a red trail leading to your location should be a clue as to how the devs intended to bias the game... towards offensive encouters.', \"Making camping (which is what you're really promoting here) a more viable strategy will lead to a more boring game experience.    \", 'If you do not want to get called out then stop using your scope?']\n",
      "IndexError\n",
      "https://us.battle.net/forums/en/overwatch/topic/20761936741\n",
      "['My friend used credits to buy sprays and voice lines to get a higher chance at skins.']\n",
      "IndexError\n",
      "https://us.battle.net/forums/en/overwatch/topic/20762036663\n",
      "['3 DPS heroes to kill Moira easily:', 'Mccree, Pharah and Reaper', 'Mccree: *stuns* bye bye *headshots*', 'Pharah: I CAN FLY YOU CANT REACH ME EAT MY ROCKETS!!', 'Reaper: Life steal uh? Mr Shotgun can do that better and I dont even have to shoot you in the head BUAHAHAHAHA']\n"
     ]
    },
    {
     "name": "stdout",
     "output_type": "stream",
     "text": [
      "?page=2\n",
      "[\"Zarya can't kill ANYONE unless she's charge lmao. And D.Va's mobility is on a shorter cooldown than Moira's while also having higher DPS and practically 750 HP + some of it being armor which Moira does poorly against.\"]\n",
      "KeyError\n",
      "https://us.battle.net/forums/en/overwatch/topic/20761926673\n",
      "['The solution is \"Use Range\" and don\\'t go in blind into chokes and hallways if you know they have a grenade launcher character.']\n",
      "IndexError\n",
      "https://us.battle.net/forums/en/overwatch/topic/20762006721\n",
      "['Any bets on what next month will be? Last month was:', 'Buff: Mercy', 'Nerf: Mercy']\n",
      "IndexError\n",
      "https://us.battle.net/forums/en/overwatch/topic/20761866679\n",
      "[\"It's bad enough there is such a small selection to choose from for Arcade, but now TWO of the FIVE choices are Capture the Flag. Two of the other choices are single player options (Deathmatch and 1v1) and then Mystery heroes. If I want to play with a friend in arcade AND pick my hero I'm obligated to play CTF. Feelsbad.\"]\n",
      "IndexError\n",
      "https://us.battle.net/forums/en/overwatch/topic/20759380928\n",
      "['I feel like for her Photon Barrier, it could get the Orisa treatment, just make it curvier to the sides so it can help block damage.', 'Just curious OP, what do you think of this? Someone posted this on another Sym thread.', \"I personally like it as it does fit in Sym's character. It also helps alleviate mobility to non mobile heroes (like Ana, Zen, Mei) so she can play a role in that and help her team move around better. And it does fit as it provides another utility to help support her team as shes not a healer type, she supports her team with her utility.\"]\n",
      "?page=2\n",
      "['Whenever jeff goes on a posting spree someone better ask about sym and post the link to this thread']\n",
      "?page=3\n",
      "['Appreciate your support :)', \"Disagreements are welcome if you don't totally agree with my analysis, devs need constructive arguments\", 'I did have one \"psuedo-healing\" suggestion. She doesn\\'t become a healer, but she offers the sustain the offhealers give']\n",
      "?page=4\n",
      "[\"I remember one time I saw someone suggest that since Sym has two ults, maybe when she places one down, she can place the other ult once she charges her ultimate again as it would explain as to why Sym can't display her ultimate status when placing her Shield Generator.\"]\n",
      "?page=5\n",
      "[]\n",
      "?page=6\n",
      "['Yeah honestly. The rework changed her from a bad kit with large setup time (spamming shields, spamming turrets, and running away to place an ultimate). To just a bad kit that players with good gamesense can use.', 'She needs help, period.']\n",
      "?page=7\n",
      "['Hey guys, just wanted to say that I appreciate the discussion and support and getting this highly rated in the course of a weekend, where the other Sym megathreads have slowly been gaining momentum since september. ', 'Hopefully the developers see that she\\'s not in a good place, and we don\\'t want her as \"niche\" or something other than a support.', 'We all have different ideas or opinions on her, but this thread shows the overall consensus as ']\n",
      "?page=8\n",
      "[\"Maybe a passive that any damage she does gives anyone in an AOE Barrier health. Don't know if it should be applied to herself but I think it shouldn't so she can be set apart from Doomfist.\"]\n",
      "?page=9\n",
      "['i love this idea, especially the first one!']\n",
      "?page=10\n",
      "['im sure they are reading']\n",
      "?page=11\n",
      "['1: ', '2: ', 'Because she is very \"build-heavy\" she has to spend most of her time away from team fights.', 'She is, at her core, a hero that has to be constantly disengaged from the team. An issue that no other hero has.', ', and activate it once she charges it. This prevents her from having to disengage from a team fight once she charges her ult.', ', instead of having to go to the specific spots she needs to place them. Again, helping to keep her engaged in team fights.', 'Aside from minor QoL changes like cooldowns and how some of her abilities function, these are the core issues I believe Symmetra has that needs to change. Her consistent need to disengage.']\n",
      "?page=12\n",
      "[' I mean maybe  blizz will see all these ideas and thats what will push them over the edge to buff her']\n",
      "?page=13\n",
      "[\"I'm optimistic that the sweet moderator who stepped in will uncap it :)\"]\n",
      "?page=14\n",
      "[\" No I totally get it, but sneaking behind while your team gets caught in a grav, getting the high ground, and telling them to wait in spawn and move through teleporter all at once is really powerful. I think it's one of the ways she can work on attack. I don't think they have to be so separated from each other. The developers are very smart, they can figure out a way for it to work. Moira has two orbs for her E.\", 'If they just let us deconstruct ultimates at will, that would solve a lot of problems right there.', \"All I mean is  they can use your idea without getting rid of old teleporter :) there's a middle ground\"]\n",
      "?page=15\n",
      "['Exactly, and compared to the other \"niche\" heros like Bastion and Junkrat, Symmetra is doing far worse.']\n",
      "?page=16\n",
      "[\"Yeah. She's supportive, but she's more like, play the game on my terms and I'll support you. That's the biggest problem with Sym. You can't play a game around her. Her design requires all enemies to fall into her traps and all friendly targets to use her nests, play with her teleporter, play in her positioning, etc.\", \"I'm sure there are ways to add more to her kit that let her play the game on the battlefields terms, instead of always needing the battlefield to play around her. I hope blizzard explores these ways instead of giving up on her original design.\"]\n",
      "?page=17\n",
      "['symmetra needs a turret recharge change and that would probably be the first step to making her viable', 'she is unable to keep up with how fast they are destroyed, especially for a turret that only does minimal damage before being destroyed']\n",
      "?page=18\n",
      "['because turrets being upgraded from single ply toilet paper to wet cardboard is the same as a rez every 30 seconds.']\n",
      "?page=19\n",
      "[\"The current barrier is like a Rein shield. The proposed change here is to make it a Winston bubble. It behaves the same, it's just a 360 shield instead of the flat disk it currently is.\"]\n",
      "?page=20\n",
      "['Does anyone know how to put in a request to uncap a thread?']\n",
      "?page=21\n",
      "[\"Don't feel down if you're not getting any blue responses from the devs guys, the devs are just being careful about their comments on these sort of threads. \", \"Remember when Geoff posted something about the D.Va megathreads? He was lambasted to no end by many people there about his comment on making D.Va just a DM-bot that they didn't like, because they wanted her more to become a bully type of tank. Honestly, D.Va had no problems back then, but look at what happened now. Back then the devs seemed deadset on making D.Va just a DM-bot, but now they changed her into a bully tank again with the micro missiles.\", \"The devs may not respond here, but they will surely notice this mega thread and take it into considerations. If the D.Va megathreads made the devs think even when D.Va back then didn't really have problems about being effective, surely a Symmetra megathread can do the same, and Symmetra clearly has problems.\", \"The devs were able to change the views of many players about Junkrat no longer being a troll pick, but it's not the same with Symmetra, she is still being considered a troll pick and this must change!\"]\n",
      "?page=22\n",
      "[\"Wishful thinking is fine, but this thread is more for coming up with solutions. If she's fine for you, then I'm glad you're at least having fun.\"]\n",
      "?page=23\n",
      "['Simple Solutions:', '1. Let her team see where her ult is through walls', '2.Reduce the cooldown on her photon shield from 10 to 8 seconds', '3. Reduce the time it takes for her to charge her Secondary Fire up by 20%.']\n",
      "?page=24\n",
      "[' these were things that should have been added in hwr rework a year ago']\n",
      "?page=25\n",
      "['Second symm thread to reach cap. She needs attention now.']\n",
      "?page=26\n",
      "[\"tbh i only want the OP's quality of life buffs along with a minor turret placement distance buff. that and maybe make it so her barrier moves slower and accelerates over time so it has more use on defense...or make it so that her barrier is slightly slower or smaller and when enemies move through it they are slowed by a minor amount? or stunned? idk just offering ideas. some if not all of these ideas may be sub-par but i figured that as a long time sym main i might as well add my input. oh, this has been brought up alot but what about making it so that you could do an input to stick her shield in place for a short time? I really like the idea of sym helping the team in unorthodox ways so i don't want bring up anything that involves damage or healing...you could just tweak everything to make her more consistent and fair feeling (lowering her beam damage in exchange for a minor range buff, doing something similar with her turret beam range and the slowing, stuff like that) but then she'd be kinda boring to play IMO, i love how risky she is against competent people. sorry if this is disorganized i only write stream of consciousness style, otherwise (thanks to my anxiety) i'm compelled to delete everything and spend 30 minutes rewriting it as an essay.\"]\n"
     ]
    },
    {
     "name": "stdout",
     "output_type": "stream",
     "text": [
      "?page=27\n",
      "[\"I really do like the idea of launching her turrets as a projectile that latch onto a wall they hit. She wouldn't have to be away from her team as often.\", \"BUT, more than anything, it gives her a feasible way to fight Pharah (if they shoot mid-flight). I don't know of any other matchup in the game that's so one-sided than Sym v Pharah. Pharah counters Mei, Junkrat, Tracer, etc but even they have ways to be able to hold their own against her. But Sym? 9/10 times the Pharah wins. I understand having counters in the game, that's what the game is about. But there aren't HARD counters outside of Pharah v Sym. All characters who have a counter can have ways to fend for themselves. But Sym can do nothing outside of randomly getting lucky with a stray orb or surprising the Pharah in close corridors.\", \"I'm sorry, that's just some random mini-rant from me.\", 'Anyway, I do like the \"launchable turrets\" idea.']\n",
      "?page=28\n",
      "['Honestly I just want blizzard to try a couple new abilities in internal testing that operate as sustain, and then put whichever one works on ptr.', \"It shouldn't be too hard to make Sym work, she has tons of potential\"]\n",
      "?page=29\n",
      "[\"I'll signal boost this here since it's talking about Sym.\"]\n",
      "?page=30\n",
      "[' i always loved hulk', 'He was the one guy who had the balls to try to make sym work', 'The one pro who actually liked sym ia gone ', 'And he was such a legend too', 'Honestly i dont know why some people have to pass as early as they do  he would have left an even bigger mark on esports']\n",
      "?page=31\n",
      "['This is what makes me most sad :(']\n",
      "?page=32\n",
      "['3 Things She Needs:', \"1. Her ults needs to be seen through walls(by allies) like Sombra's hacked med-kits. It can be seen as far away as the effect of her Shield Generator radius(50 meters).\", \"2. Photon Barrier either needs to move slower or have a reduced cooldown time, it just isn't very effective.\", \"3. Lastly I think it wouldn't hurt to slightly improve her Secondary Fire by reducing the charge time by 10-15%.\"]\n",
      "?page=33\n",
      "['Word.']\n",
      "?page=34\n",
      "['From my POV the devs intend her to be an off-support that can replace zenyatta, and perhaps be used in triple support on rare occasions.', 'They\\'ve said they want her to be playable on attack and defense. They\\'ve said multiple times that they think \"support\" means more than \"healer.\" So naturally that would allude to them thinking Symmetra should be playable in a 2/2/2 setting as the support with 2 DPS and 2 Tanks. How often do you see this is matchmaking though.']\n",
      "?page=35\n",
      "['But dont give up fighting on the forums we are a community and we cant afford to loose another key memeber of the symmetra mains especially not the op of our first uncapped mega thread ', 'As for in game im thinking of playing moira mostly than sym only on defense which is sas cuz again', 'The rework was supposed to make her morw viable in attack but you know ', 'It didnt']\n",
      "?page=36\n",
      "[\"This.. shielding sustain wouldnt even skyrocket her winrate because it's countered by either 1) time, in the case of barriers like Reinhardt or barrier health units like Lucio (it doesn't regenerate) or b) shields, which only regenerates with adequate gamesense from the team.\", \"Neither of the mechanics that Sym could use would make her a healer, it would just make her give sustain that could contest as one. It won't break her character.\", \"She's so garbage right now. Support category needs all of them to be viable, not replace her with Moira and put support on the back burner again. Supportive synergy is generally what builds team comps. You fix Symmetra as a \", \", you have more support team comps, which in turn makes more dps/defense/tanks viable in more situations and roles, which in turn helps prevent the game from getting stale. If they don't fix her, I give up on her.\", \"Plus, it's in their best interest. Limited supports in comparison to damage dealing slots is a huge complaint in this game. You have more viable supports, and not only are more characters viable but more flex players (and one tricks) will play these characters or enjoy playing then, and will buy more loot boxes for their events. There's like, absolutely no downside to viability\"]\n",
      "?page=37\n",
      "['winrate.', 'is.', 'worthless.', 'in.', 'a.', 'game.', 'with.', 'hero.', 'switching.', 'that is all']\n",
      "?page=38\n",
      "['That\\'s why I said \"Professional E-sports scene\" not \"at higher levels\". The difference between the highest level and the e-sports scene is as different as night/day.', 'I am absolutely in agreement with you that there exist changes and tweaks that would make her far more capable and accepted at even the highest ranks of play, and that it would behoove Blizzard to explore those options with her as soon as possible, precisely DUE to the problems that exist at the highest levels of competitive play.', \"My point wasn't that pursuing those kinds of changes isn't needed or isn't relevant. My point was that even if Blizzard did accomplish that fundamental shift in dynamics with her, that she was rendered playable at every rank imaginable, there would STILL be stigma against playing as her simply because even those changes couldn't do anything to increase her overall pick-rate at professional e-sports events. \", 'The problem is with players at the highest ranks not being able to separate themselves from how actual professional players play the game. Not with the lack of a role for Symmetra to fill on professionally formed teams.']\n",
      "?page=39\n",
      "['I agree it is the strongest or at least a very strong part of her kit. I think the issue is that getting its value can be extremely difficult. If the enemy is smart they will destroy your teleporter every time. Symmetra requires a lot of set up and if her constructs get destroyed you loose a lot of your support value. I think this is why people are pushing for something a little more passive for her to give support value.']\n",
      "?page=40\n",
      "['*sacrifices 1000 pachimari on the altar of the blue gods* ', 'Deliver us!', 'Hear our call, deliver us!', 'Lords of all, remember us here in this burning state!', \"Deliver us! There's a buff you promised us!\", 'Deliver us to the promised land.']\n",
      "?page=41\n",
      "[\"The lack of support in her kit is he point of this thread :) you can play her as a support, but it's very difficult and her kit is clunky regardless of whether you're overzealous and want to play her as a dps, or if you stay back and protect your team. She needs to be gently pushed more towards support regardless\"]\n",
      "?page=42\n",
      "[' ur name is fate ', 'Im doctor fate', 'Im your doctor']\n",
      "?page=43\n",
      "[\"They honestly don't care.\", 'It took them 9 months to fix her photon barrier bug...... The one with a visual element to the bug which made it OBVIOUS. Even that took a whole lot of work to make them acknowledge it.', \"They say they care about all heroes then they act like they don't\", 'Actions speak louder than words.']\n",
      "?page=44\n",
      "['Bumped for being burried with all the mercy/moira thread, we will not stop untill we have a blue post!!']\n",
      "?page=45\n",
      "['I like the secondary fire charge change and the faster projectile. I personally think the speed of the large orbs should remain unchanged, but the smaller orbs should be much faster. ', \"Also the 25 shield aura passive has been suggested a lot here, and I think most of us want it! I honestly think it's a no brainer at this point.\"]\n",
      "?page=46\n",
      "[' well stevoo deaerved it he often threw games and was toxic to tramates i saw this on his streams']\n",
      "?page=47\n",
      "['I really like the idea of other types of non-healing, utility turrets that she could swap between. Mini-shield stations n particular I would love, cause as much as people say they were \"useless\" I miss her old shield ability. The constant need to reapply them really made me feel like I was contributing to fights in a supportive way.', 'Perhaps when deploying turrets, she could choose between:', '-Damage/slow turrets (currets)', '-', ' turrets: each turret provides 25 shields to the closest ally it has line of sight to lock on to.', '-', ' turrets: highlight in red any enemies when they pass line of sight & range of the placed turret (similar to sonic arrow) OR any enemy that passes by is marked for 5 seconds or so (like venom mine).', '-', ' turrets: Same as shield turrets, but instead of providing shield they restore barrier health', '-', 'turrets (could be combined with one of the friendly turret idea like shield or barrier turrets to provide a direct opposite to her damage/slow turrets)', 'Personally, I most like the idea of Shield turrets, even tho restoring barriers would be nice, because I think the barrier restore ability could be easily added to her main weapon on top of these turret changes. ', 'That said, as far as straight up utility goes some combination of ', ' would be best for adding as many new things to Sym as possible. Perhaps a turrets that would lock onto to a nearby ally to boost their speed that also causes any enemies that pass by who are in LOS to be seen thru walls.', \"I'd love to see some other ideas for her turrets tho, cause I think that would be the best thing for her, both in the meta and with regard to her lore. \", 'Sym just has so much untapped potential, I wish Blizz would revisit her already :(']\n"
     ]
    },
    {
     "name": "stdout",
     "output_type": "stream",
     "text": [
      "?page=48\n",
      "['i agree']\n",
      "?page=49\n",
      "['Yall know what i do in a game as symm? PROTEC THE HEALERS. ', 'If that Tracer / Genji / Sombra trying to take my healers away, STEP OVER MY DEAD BODY!!!!!!', '.', '.', '.', '.', '.', '.', '.', 'Except for the Pharah tho i cant do sht to her. Maybe a Shield gen to prevent 2 shots KO from her.']\n",
      "?page=50\n",
      "['Blizzard has to know by this point the community thinks that Symmetra is inflexible, is easily countered by more well rounded characters, and we want her to change.  I wonder what they are doing behind the scenes. ', 'Do they have plans?', 'Is she on the back burner because of something more important?', \"Do they think she's in a good spot, for some reason? \", 'What is it?', 'With how big this thread is getting, Blizzard should say something sooner than later.']\n",
      "?page=51\n",
      "['Symmetra getting stuck onto friendly Mei walls is actually pretty hindering when the feces hit the fan. It can get you killed.']\n",
      "?page=52\n",
      "[\"Well, It's blind truth. Although having an overpowered character like 1.0 mercy isn't very good sign to the game, having an extremely non-versatile in a competitive system that favours specialization is not ideal either.\", \"The major problem in fixing a character discovering solutions that can optimally slot a character without breaking the game. Sometimes it just means taking risks and those risks disturb gameplay for a bit, but they're meant to improve game experence in the end.\", 'Let\\'s be real here with the \"counters\". Lucio isn\\'t amazing at beatng pharmercy combonations, but he\\'s still played a lot because he is effective outside of having a weakness. team comps rely on using the team as a whole as winning condition.  Just because something is hard-counters from 1vs1 perpective does not mean that character has no hope in being effective any composition.', \"There's also a patturn in characters where all close-range characters with relative low hp pools are not performing. Mei, Reaper, Doomfist, Torb, Sym and even sombra statistically. people keep using pharah as scapegoat as if she's reason to why those characters got no hope. Every character has different win conditions to how they contribute to a team. The individual characters don't need to be good at everything, but teams themselves need to be build up mild effectiveness.\", \"This is why Westeran culture fails in E-Sports and asia succeeds. They look at everything as a whole and than find lego parts to fulfill it. In the end, you can't build anything with broken bricks. The whole and the individual both mean something.\", 'What matters about each individual character is living up to the fantansy that the character was meant to uphold in a way that it is universally powerful and useful to team.']\n",
      "?page=53\n",
      "['When pressing shift, pressing RMB instead of LMB could be a new buildable. Doesnt take up a new button.']\n",
      "?page=54\n",
      "['“The mod”...what’s that?']\n",
      "?page=55\n",
      "[\"I was referring to it being impractical with how little control she has over it, but yeah it's surprisingly durable.\"]\n",
      "?page=56\n",
      "['WAIT! Was it the wall bugs?']\n",
      "?page=57\n",
      "[\"Wow that's just a huge bummer. They have to have changes in mind for Symmetra. They can't add a dozen counters to her only reliable method of ult charge, and then balance her around her ultimates, and claim she's viable.\"]\n",
      "?page=58\n",
      "['I really appreciate how far in you have to plan things out to support with Sym. Turret and ultimate placement, using your shield at the right time, and even the slow moving orbs are all such calculated moves.', 'I would also argue her ultimates are some of the strongest in the game, especially since Mercy lost her 5 person rez potential. Teleporter is now one of the best ways to bait out ultimates from your enemies and get any fallen team members back onto the point immediately.']\n",
      "?page=59\n",
      "['Maybe the gun could stay the same . It was just a solution ', 'The core aspect should be on the support abilities . ', 'What do you think about those changes?']\n",
      "?page=60\n",
      "['https://giant.gfycat.com/BelatedCautiousHoki.webm', \"The last time she had a bug was when they removed her ability to charge on enemy Mei walls (when Chateau was introduced), and that went live, undocumented. This is likely to be fixed since from what I saw on Reddit it also affects Torb but...I'm scared.\"]\n",
      "?page=61\n",
      "[' sure it wasnt the buff we wanted but its a buff nonetheless']\n",
      "?page=62\n",
      "[\"Damn, I wrote a reply but my post deleted. I think it is a bug because Symmetra buff threads are being auto filed into PTR bug forum, additionally the Moira thread implies it's aimbot weapon targeting on the whole and didn't affect other heroes correctly either (we only know of one other hero on PTR with weapon malfunctions) interestingly enough, they might be giving this feature a chance. They have not listed this in known bugs, even though from the blue post it did hint that the weapon change did allude to Symmetra as well.\", 'They might be giving it a shot, similar to Mercy and Lucio bugs that made it to live']\n",
      "?page=63\n",
      "['So now Moira can clear nests without even trying, our turrets explode on corners and we have extended range?', 'And if history is anything to go by the only bugs that will be fixed are the ones that are positive for Symm, while the negative ones get totally ignored', 'i have a sinking feeling that shes somehow about to get a whole lot worse.']\n",
      "?page=64\n",
      "['Each class in this game is strategic, look for a more reasonable excuse. In mechanics is the class with less skill in the game by far, auto-aim gun and 6 turrets.']\n",
      "?page=65\n",
      "[\"Then why doesn't everyone use Symmetra? There logic makes no sense there's no point trying to explain it. Symmetra doesnt take any skill to be good but she's bad on attack? how does that work?\"]\n",
      "?page=66\n",
      "['Called it. I\\'m hoping this isn\\'t the only \"addressing\" Symmetra gets.', \"I'm disappointed but not surprised.\"]\n"
     ]
    }
   ],
   "source": [
    "link=[]\n",
    "for page in range(1,2):\n",
    "    url='https://us.battle.net/forums/en/overwatch/22813879/?page={}'.format(page)\n",
    "    res=requests.get(url)\n",
    "    root=lxml.html.fromstring(res.text)\n",
    "    for elm in root.cssselect('.ForumTopic'):\n",
    "        link.append('https://us.battle.net'+elm.attrib['href'])\n",
    "print(len(link))\n",
    "comments=[]\n",
    "for url in link[4:]:\n",
    "    print(url)\n",
    "    res2=requests.get(url)\n",
    "    root2=lxml.html.fromstring(res2.text)\n",
    "    cmt=root2.cssselect('div.TopicPost-bodyContent')\n",
    "    for elm in cmt:\n",
    "        try:\n",
    "            comments.append(elm.xpath('text()'))\n",
    "        except IndexError:\n",
    "            continue\n",
    "    print(comments[-1])\n",
    "    while True:\n",
    "        try:\n",
    "            res3=requests.get(url+\n",
    "                              root2.cssselect('div.Topic-pagination--header > a.Pagination-button.Pagination-button--next')[0].attrib['href'])\n",
    "            print(root2.cssselect('div.Topic-pagination--header > a.Pagination-button.Pagination-button--next')[0].attrib['href'])\n",
    "            root2=lxml.html.fromstring(res3.text)\n",
    "            cmt=root2.cssselect('div.TopicPost-bodyContent')\n",
    "            for elm in cmt:\n",
    "                try:\n",
    "                    comments.append(elm.xpath('text()'))\n",
    "                except IndexError:\n",
    "                    continue\n",
    "            print(comments[-1])\n",
    "        except IndexError:\n",
    "            print('IndexError')\n",
    "            break\n",
    "        except KeyError:\n",
    "            print('KeyError')\n",
    "            break\n",
    "    "
   ]
  },
  {
   "cell_type": "code",
   "execution_count": 2,
   "metadata": {},
   "outputs": [
    {
     "ename": "NameError",
     "evalue": "name 'comments' is not defined",
     "output_type": "error",
     "traceback": [
      "\u001b[1;31m---------------------------------------------------------------------------\u001b[0m",
      "\u001b[1;31mNameError\u001b[0m                                 Traceback (most recent call last)",
      "\u001b[1;32m<ipython-input-2-33d8f4b035e3>\u001b[0m in \u001b[0;36m<module>\u001b[1;34m()\u001b[0m\n\u001b[1;32m----> 1\u001b[1;33m \u001b[0mlen\u001b[0m\u001b[1;33m(\u001b[0m\u001b[0mcomments\u001b[0m\u001b[1;33m)\u001b[0m\u001b[1;33m\u001b[0m\u001b[0m\n\u001b[0m",
      "\u001b[1;31mNameError\u001b[0m: name 'comments' is not defined"
     ]
    }
   ],
   "source": [
    "len(comments)"
   ]
  },
  {
   "cell_type": "code",
   "execution_count": null,
   "metadata": {
    "collapsed": true
   },
   "outputs": [],
   "source": [
    "comments2=comments"
   ]
  },
  {
   "cell_type": "code",
   "execution_count": 453,
   "metadata": {
    "scrolled": true
   },
   "outputs": [
    {
     "data": {
      "text/plain": [
       "85884"
      ]
     },
     "execution_count": 453,
     "metadata": {},
     "output_type": "execute_result"
    }
   ],
   "source": [
    "len(comments);85884"
   ]
  },
  {
   "cell_type": "markdown",
   "metadata": {},
   "source": [
    "### 리스트 차원 줄여주기"
   ]
  },
  {
   "cell_type": "code",
   "execution_count": 21,
   "metadata": {
    "collapsed": true
   },
   "outputs": [],
   "source": [
    "for i in range(0,len(comments)):\n",
    "    comments[i]=''.join(comments[i])"
   ]
  },
  {
   "cell_type": "code",
   "execution_count": 29,
   "metadata": {},
   "outputs": [
    {
     "data": {
      "text/plain": [
       "['저희는 게임 내 부정 행위를 항상 심각한 문제로 여기고 있으며, 이는 오버워치에도 동일하게 적용됩니다. 블리자드는 공정한 플레이를 강조하는 “Play nice, Play fair.”를 회사의 핵심 가치 중 하나로 여기며 게임 제작 과정 그리고 출시 이후 게임을 지원해 나가는 과정에서 이를 항상 마음 속에 새기고 있습니다. 이러한 원칙이 오버워치에서 의미하는 바는, 플레이어가 핵, 봇, 또는 부당한 이득을 취하도록 해주는 외부 소프트웨어 등을 사용하거나 부정 행위를 한 것이 확인될 경우, 해당 플레이어의 계정은 영구 정지된다는 것입니다. 부정 행위는 모든 블리자드 게임의 근간인 공정한 플레이 정신을 저해하며 다른 플레이어들의 재미와 즐거움에도 악영향을 끼칩니다. 부정 행위나 허용되지 않은 프로그램 사용자에 대한 계정 제재가 진행된 내용을 공개적으로 발표하지는 않겠지만, 저희는 오버워치에서 일어나는 부정 행위를 지속적으로 확인하고, 게임의 무결성을 보존하기 위해 필요한 조치를 계속해서 취할 것입니다. 블리자드가 지금까지 가져온 기조를 다시 강조하는 것이지만, 이는 매우 중요한 가치이며 이렇게 여러분께 최고의 게임 플레이 경험을 제공하겠다고 다짐하며 저희 스스로 다시 한번 각오를 다지는 것이기도 합니다. 저희에게는 멋진 게임을 만드는 것뿐만 아니라 게임과 게임 커뮤니티를 수년간 꾸준히 지원하는 것 역시 중요합니다. 5월 24일 오버워치 정식 출시는 시작일 뿐이며, 저희는 앞으로도 새로운 게임 콘텐츠를 개발하는 것과 더불어 모든 플레이어에게 공정한 게임 환경을 제공하기 위해 최선을 다할 것입니다. 그리고 이를 위해서는 여러분의 도움이 필요합니다!만약 어떤 플레이어가 부정 행위를 했다고 생각되거나 오버워치의 핵, 봇, 또는 허용되지 않은 외부 소프트웨어와 관련된 정보를 알고 계시다면 이메일() 또는 을 통해 세부 내용을 제보해 주시기 바랍니다. 보내주신 이메일 또는 제보 내역에 답변을 따로 해드리지는 않지만, 엔지니어와 애널리스트들로 구성된 팀이 여러분의 제보를 적극적으로 검토합니다. 실제로 베타 테스트 기간 동안의 제보를 바탕으로 저희는 게임을 개선하고 부정 행위를 한 플레이어들에 대한 조치를 취할 수 있었습니다. 아울러, 저희는 베타 기간 동안 많은 분들께서 제안해 주신대로 게임 클라이언트에서 바로 부정행위가 의심되는 플레이어들을 신고할 수 있는 기능을 추가했습니다. 이 기능은 플레이어의 이름을 오른쪽 클릭하여 “신고”를 누르면 나타나는 신고 사유 메뉴에서 “부정 행위”를 선택하여 이용할 수 있습니다. 부정 행위가 의심되는 플레이어를 마주하는 것은 매우 불만스러운 경험이 될 수 있지만, 오버워치 같은 게임에서는 다음과 같은 경우들을 고려해주시기 바랍니다. 오버워치 게임 내의 카메라 시스템은 실시간 게임플레이만큼 정확한 영상 정보를 제공하지는 않습니다. (처치 영상, 최고의 플레이, 하이라이트는 정확도가 떨어질 수 있으며, 관전자 카메라도 그보다는 덜하지만 정확도가 낮을 수 있습니다.) 이런 경우 재생된 영상 속의 플레이어 조준점이 실제 게임 플레이 때보다 더 뚜렷해 보이거나 덜 부드러워 보일 수 있습니다. 위에서 언급한 경우 외에도 재생 영상에 영향을 주는 게임 내 카메라 시스템 버그가 있을 수가 있습니다. 실제로 클로즈 베타 테스트 기간 동안 자리야가 입자 방벽이나 방벽 씌우기를 시전할 때마다 처치 영상과 관전자 카메라 각도가 갑자기 전환되는 버그가 있었습니다. 현재로써는 카메라 시스템과 관련된 문제가 없지만, 아직 미처 발견하지 못한 버그가 있을 수 있다는 점에 대한 고려도 필요합니다. 마지막으로, 1인칭 슈터 게임에는 정말 뛰어난 실력을 지닌 사람들이 있습니다. 연습과 수년간의 경험으로 단련된 이 플레이어들의 움직임과 반응 속도는 이러한 수준의 플레이를 접하지 못한 플레이어들에게는 비정상적으로 혹은 물리적으로 불가능해 보일 때가 있습니다. 처치 영상, 최고의 플레이, 하이라이트, 그리고 플레이어가 캡처한 영상은 매우 유용한 증거가 될 수 있지만, 저희는 부정 행위 여부를 검증하는 과정에서 영상만을 근거로 하지는 않습니다. 그러므로 저희는 여러분께서 멋지고 공정하게 플레이를 당부 드리는 동시에, 의심이 가는 플레이어를 공개적으로 제보하는 대신 위에서 안내해드린 신고 기능을 이용해 주시길 부탁 드립니다. 부정 행위에 대한 경계 그리고 여러분의 열정과 적극적인 참여가 오버워치를 최고의 게임으로 만들어 가는 과정에 큰 도움이 되고 있습니다. 도움을 주시는 플레이어 여러분께 진심으로 감사 드립니다.',\n",
       " '이길 순 있는데 점수너무안올라요진짜...',\n",
       " '연승 많이해야 생겨요',\n",
       " 'http://www.inven.co.kr/board/overwatch/4677/8754참고 부탁바랍니다.',\n",
       " \"자기 딴에는 노하우 공유도 하고 싶고 실력 뽐내기도 해보고 싶겠지만제가 다년간 블리자드 게임 해보고 느낀거는블리자드는 청개구리 강박증 개발진들이라는 것임.와우 때도 그랬는데 여튼 뭐 기깔나는 장인영상 올라오고 유행 타기 시작하면 그거 못따라하게 다 막아버림딱히 꼼수도 아니고 기존의 스킬 조합과 지형적 특성 같은거 이용해서한 플레이일 뿐인데 '이건 제작사가 의도한 바가 아닙니다'라는 이상한 이유를 붙여서막아버림.아니 내가 제작사 의도대로 게임을 해야함?그럼 첨부터 제작사 의도는 이러이러한 것이니 이 이외의 것들은시스템에서 되도 하지 마시오. 버그는 아니지만 버그 악용임.버그 악용까진 아니더라도 우리가 정보를 입수하는 한절대로 패치하도록 하겠다. 이런 이상한 놀부심뽀를 가지고 있는게 블리자드임예를 들어 배틀필드 같은 게임에서 항공기 타고 산꼭대기 가서 능선에서 저격질 하는 저격의 고수가 있다고 치면, 이건 지형적 특성 사용하는 무기의 특성일뿐이니 딱히 패치할 필요가 없는것임.근데 블리자드 같은 경우는 '지형이 산인 곳에서는 저격총 사용 금지' 뭐 이딴식으로논리성 비현실성을 감수하면서까지 유저들이 편한 꼴, 아니 편하다기보다는 어떠한방식으로 스스로 숙련된 방식으로 안주하는 플레이를 절대로 허용을 안하는이상한 청개구리 놀부 심뽀를 가지고 있음.이정도면 강박증 정신병자 수준.그러니까 자기 노하우는 혼자만 알고 있읍시다.비기니 노하우니 공략법이나 킬영상이니 암만 공유해봤자 블리자드 눈에 밟히는 순간 바로 패치됨\",\n",
       " \"안녕하세요. Modern 입니다.이 글은 오버워치의 게임 내적, 외적인면을 팩트로 뚜까패는 글이 될겁니다게임 외적인 면지금까지의 대부분의 게임들은1. 게임을 플레이하는 사람들이 많아진다.2. 게임에 관련된 대회가 많아진다3. 대회를 보는 사람들도 많아지고 게임을 하는 사람들도 많아진다.4. 게임도 커지고 대회도 커져서 게임 회사도 돈을 번다이런식으로 게임과 회사가 커졌지만현재 오버워치는1. 트롤러에 대한 제재가 없고 뭐같은 경쟁전 시스템으로 플레이하는 사람들이 적어진다2. 그럼에도 불구하고 게임에 대한 패치로 유저들을 모을 생각을 안하고 대회부터 키워서 돈벌려고한다.3. 유저들은 유저대로 지쳐서 게임을 접고 대회를 보는 사람들이 적어진다.4. 게임 망한다 회사도 망한다 대회도 망한다 다 망한다이런 순서로 진행되고 있습니다.현재는 3번까지 왔어요. 아니 솔직히 말하면 3.3 ~ 3.4 까지 왔습니다.아니 애초에 플레이하는 사람들이 있어야 대회를 보는거 아닌가요?이 생각은 경제에 관련된 아무런 지식이 없는 한낱 프로게이머라도 압니다.그런데 유저들은 유저대로 게임을 접는 상황에서 리그에 관련된 동영상과 글만 주구장창 뽑고' 우와~ 할로윈이에요 돈 지르고 스킨이나 사세요 ^^ ~ ' 이러면서정작 유저들이 왜 빠져나가는지에 대한 생각도 안하고 트롤러들에 대한 제재와 패치가 하나도 이루어지지 않는 현재의 상황을 어떻게 봐야하나요?지금은 대회고 뭐고 그런것보다 게임에 대한 패치, 경쟁전 시스템 패치를 먼저 생각해야하는 상황인데게임 내적인 면보다 외적인 면에 신경을 쓰는게 어찌해야 이 겜으로 돈을 더 벌 수 있을까? 라는 식의 운영으로밖에 안보여집니다.게임에 대한 패치는 한달에 한번새로운 영웅 등장은 6개월에 한번경쟁전 시스템에 대한 개편은 없음트롤러들에 대한 정지? 매우 부족이게 게임의 현 상황 아닌가요?게임 외적인 면보다 내적인 면에 몇 배 더 신경써야할 상황인거 같은데요.저는 프로게이머라 대회가 더 커지면 아 그걸로 나는 땡큐지! 라고 생각할 수 있는 입장이지만이대로가면 이 게임이 그들만의 리그, 그들만의 대회로 끝날것같고 저는 그걸 원하지않기 때문에오버워치라는 게임에 대한 애정이 있기 때문에, 이 게임이 망하는걸 보기가 싫기 때문에그저 게임을 즐기며 많은 사람들과 함께 플레이하고싶어하는 유저들의 입장으로서 글을 쓰는겁니다.게임 내적인 면경쟁전점수 매칭 시스템' 두 팀의 평균점수를 맞춰주면 게임이 공평하겠지? '라고 생각하신분은 반성해야할겁니다.어떤 사람의 머리에서 나온건지는 몰라도 정말로 단단히 착각하셨네요평균 점수를 맞춰준다? 그러면 각 플레이어 점수의 + - 150점 내로 맞춰주던가요4600점, 4700점대가 게임을 하면 평균점수 4200 ~ 4300이 나오는데 그러면 게임을 어떻게 진행하죠 ? 아무리 못해도 팀원중에는 4000~4100점대 플레이어들이있게됩니다.그러면 4000~4100점대는 양학당하고 4600~4700점대는 양학 못하거나 팀운이 안좋으면 지는 그림이 되는거 아닌가요?매 판마다 보이스로 꽥꽥 소리지르면서 이렇게 해달라 저렇게 해달라고 해야되고그거 듣기 짜증나서 팀보 나가거나 알아서한다고 화내는 사람들도 있을 뿐더러들으면서 플레이해도 현재까지 안해본 플레이니까 익숙치 않아서 계속 죽으면죽는사람은 죽는사람대로 빡치고 살아있는 사람은 팀원이 죽어서 빡치는 거지같은 상황이 발생하는데이러면 누구한테 이득인 매칭이죠?아니 애초에 오버워치는 팀게임이라면서요?팀게임에서 중요한 탱커들과 힐러들이 왜 솔큐로 점수 올리기가 힘든지 생각은 해봤는지 모르겠는데저따구로 매칭 잡아주면 누가 유리할거같나요?당연히 팀원들의 플레이에 상관없이 자신의 플레이는 자유로우며 변수를 만들 수 있는 포지션이 유리하죠( 굳이 말하자면 DPS 쪽이죠. )탱커들은 진형을 만들어주고힐러들은 진형 만드는걸 보조해주고딜러들은 마무리를 하라는 팀게임을 만들었으면매칭을 비슷한 수준의 사람들끼리 맞추고 게임을 진행하라고 해야지점수 차이 실력 차이 극과 극의 사람들끼리 모아놓고 ' 평균 점수 ~~ ' 이런 소리를 짓껄이는데이게 정말 옳은 매칭 시스템이라고 보이나요?팀게임이라면서 팀워크를 내세우는데정작 게임을 파고들면 캐리 못하면 지는게임.. 참...오버워치는 팀게임입니다 라는 타이틀을 계속 내세우실거면누가누가 캐리하나 매칭을 없애고매칭 오래 걸려도 상관 없으니 제발 좀 진짜 제발 좀 간절하게 말하지만 매칭을 각 개인의 점수 + - 150점으로 잡아줘야합니다.1등 찍어봤는데도 진짜 허무한 이유중에 하나가 이 시스템이에요이 글 쓰기 전에 1페이지 상태로 경쟁전 솔큐만 1주일동안 해보면서 느낀 점은1등을 찍으면 뭐합니까 정작 경쟁전 돌리면 1위에서 100위 내의 사람들은 만나지도 않으며1페이지에 있는 상태로 솔큐 돌려도 정작 게임에는 랭커들 3명도 없습니다.점수가 높던 낮던 게임의 수준이 똑같다 이말입니다.도대체 어떤 기준으로 1위인지 1페이지인지 랭커인지 모르겠습니다.정말로 상위 구간끼리 경쟁해서 점수가 올라가면 ' 아 저사람 정말 잘해 ' 라는 말이 나와야하는데대부분의 1~5페이지 사람들에 대한 생각과 언급들이' 아 저사람 양학하고 올라갔어 '' 다인큐 충이야 '' 어뷰저야 '' 거품이야 '이런말부터 나오는게 뭔가 이상하지 않나요?이건 마치 예전 핵쟁이들 많았을때 잘하는 사람 보면 ' 저거 핵 아니야? '라고 의심부터하던 시기랑 똑같네요얼마나 슬픈 현실인가요다인큐 시스템일단 이 문제를 말하기에 앞서서 상위권 사람들이 다인큐를 많이 하는 이유가 뭔지 아셔야할것 같습니다제가 1등을 찍을때까지의 기준으로 말할게요.그때와 지금의 시스템은 똑같으며 지금까지 어떠한 패치도 이루어지지 않았습니다.자 제 점수가 4600점일때 기준으로 말하겠습니다.아실분은 아시겠지만 혼자서 솔큐할때 점수가 4550 ~ 4600 점이 되면 한판을 이기면 8점에서 10점 사이의 점수가 오르고지면 18점에서 25점 사이가 깎입니다.그런데 이 상황에서 정말 웃긴건제가 4600점대일때 3인큐를 처음으로 해봤는데이기니까 똑같이 8점을 주고지면 22점이 깎여요.제가 앞서 말했듯 현재 경쟁전은 누가누가 캐리하나 싸움이라고 말했죠?그러면 당연히 자신의 생각과 비슷한 생각을 가진 플레이어를 넣고 싶어질겁니다.그리고 그 두명의 존재감이 얼마나 큰지 모르실겁니다.나머지 세명이 마이크 안쓰고 그냥저냥 게임을 대충대충 해도 세명이서 다 잡고 다닐 수 있습니다.솔큐를할때 승률이 60프로라고 친다면다인큐를 하는 순간부터 승률이 80프로로 오릅니다.아무런 손해가 없는 승률 60프로와 80프로가 있다면 무엇을 고르실겁니까?당연히 80프로가 되지않을까요? 어떤 선수가 점수에 대한 집착이 없을까요어떤 사람이 경쟁전 순위표를 봤을때 1페이지에 자신의 닉네임이 올라가는 상상을 안할까요?대부분의 사람들은 순위표 = 실력 이라고 생각하시면서정작 왜 유명한 팀 잘하는 선수들이 점수에 관심이 없는지에 대해서는 생각 안해보셨을겁니다왜일까요? 저는 최근에야 알았습니다.점수가 의미가 없으니까요.등수가 1등이라고 2등~500등 사람들과 경쟁했을때 이 사람이 더 잘한다라는 의미가 더이상 아니니까요점수는 올리고 싶으면 다인큐를해서 언제든지 올릴 수 있으니까요.다시 다인큐 시스템으로 돌아와서다인큐를 돌리는 사람들이 잘못된거냐? 라고 묻는다면그거에 다인큐를 돌리는 사람들이 잘못했다라고 대답할 수 없다는겁니다현재 점수 높은 사람들이 다인큐를 돌리며 양학을 했을때팀원들은 다이아 혹은 마스터가 나오고상대편의 평균 점수는 4200~4300점대가 됩니다.여기서 아까 말한 ' 평균 점수를 맞춰주면 될거야 ' 라는 거지같은 시스템이 빛을 발하는 상황이 나오죠.아까 말했듯 현재 오버워치 경쟁전 피지컬은 특출난 사람이 아니면 비슷비슷해서게임을 이기는 법을 아는 사람들, 즉 게임 운영법이나 조합에 따른 대처 혹은 조합 컨셉을 알고 있는 사람들이한 팀에 몇명이나 있느냐로 결정이 됩니다.아까 말한 ' 같은 생각을 가지고 있는 사람들 ' 과 같은 맥락이죠.팀게임을 해본적이 없어서 현재까지 해온것처럼 플레이하는 사람들 6명과팀게임을 한 사람들 4명 + 마스터 2명을 했을때저는 무조건적으로 팀게임을 한 사람들 4명 쪽이 유리하다고 생각합니다.결과도 그렇고요.그래서 다인큐의 승률이 높은 이유중에 하나입니다.\",\n",
       " \"감히 말하지만 저는 이번시즌을 제외하고 매 시즌 솔큐를 99%로 한 사람으로서솔큐로 고통받으면서도 꾸역꾸역 경쟁전을 하였으나 이번 시즌 다인큐를하니 매우 손쉽게 이기면서 느낀게' 내가 이렇게나 잘하는구나 ' 라는 자부심이 생기는게 아니라' 지금까지 왜 미련하게 솔큐만 했을까.. 빨리 했으면 전 시즌도 점수 쉽게 올리지 않았을까.. ' 라는 후회였습니다.그만큼 다인큐로 점수 올리기가 쉽다는거죠.그러면 이 다인큐 시스템을 어떻게 개편해야되느냐?아주 쉽습니다. 그냥 위에 말한것처럼 평균점수 + - 150점 내의 플레이어들과만 매칭을 잡아주면되요.그리고 진짜로 뭐같은 강제매칭시스템 삭제하면 됩니다.다인큐를 제외한 팀원을 다이아로 잡아주고 평균점수를 깎는 시스템이 아닌정말로 다인큐를 돌릴때 그에 걸맞은 랭커들과 매칭을 잡히게하여 정말 비슷한 수준의 경쟁전을 만드는거죠.왜 꼭 다인큐를 하면 나머지 팀원들이 다이아나 마스터가 걸려야되고상대편은 그랜드 마스터들만 있어야하나요. 그냥 아주 쉬운 해결방법 아닌가요?평균점수? 그런 시스템 버리고 그냥 ' 각 플레이들의 점수 ' 하나만을 생각하여 매칭을 잡아주면 되는거 아닌가요?왜 상위권은 다인큐를 하면 이득을보고 브론즈~그랜드마스터들은 다인큐를하면무조건 높은 티어의 사람들과 매칭이되어 손해를보는 거지같은 상황을 겪게만드냐는거죠강제 매칭 시스템이거 정말 큰 문제입니다.다인큐로 점수 올릴 수 있는 이유와, 상위권 플레이어들이 고통받는 이유,비교적 점수가 낮은 사람들이 납치당하여 꽁패를 당하는 이유가 여기에 있습니다.어떤 플레이어가 매칭의 질보다 매칭의 속도를 먼저 생각하나요?물론 있을수도 있겠지만 저는 정말로 매칭의 질이 매칭의 속도보다 몇백배 더 중요하다고 생각합니다.자신과 비슷한 실력의 유저들과 매칭이되야 경쟁을 하면서' 아 내가 이게 부족하구나 '' 내가 이걸 잘해서 이겼구나 '라고 느끼며 경쟁을한다고 느낄텐데자신과는 동떨어진 점수대와 매칭되면개판 VS 개판의 대결이 진행되며 누가누가 머리끄덩이잡고 캐리하나 혹은 누가누가 던지나 대결이 된다는거죠해결 방법삭제하세요그냥 이거를 바꿀 생각 하지 마시고그냥 삭제해주세요5분 걸려서 거지같은 매칭으로 인해서 게임을 지는것보다10분 매칭해서 정말 비슷한 유저들과 게임을 하는게 유저들에게는 더 중요합니다모든 유저들에게 그러진 않아도 적어도 제가 만난 모든 사람들이 가지고있는 생각입니다.트롤러들 제재하고있나요?제가 프로게이머하면서 배운게 있습니다.' 열심히하고있다 ' 이거는 아무런 의미가 없습니다.지금까지 수많은 프로게이머들을 보면서 자기딴에는 ' 노력하고있다, 열심히하고있다 '라고 말하지만 그 노력과 열심히의 기준은 주관적일 수 밖에 없더라구요.객관적으로 봤을때정말로 그것에 할애한 시간이 얼만큼이며그것을 위해 자신이 무엇을 했는가를 증명하는게 더 중요하다는걸 알았습니다.그리고 그것들을 객관적 지표로 내세웠을때 그것이 타당하면정말로 이 사람이 열심히 하고 있구나라는걸 알 수 있다는걸요.또한 자신이 아무리 열심히했어도 그것을 표현하지 않으면 알아주는 사람이 거의 없다는걸 알았습니다.그리고 그걸 다른사람이 느끼지 못한다면 저는 제가한것들을 노력했다, 열심히했다라고 말하지 않기로 결심했습니다.그것과 똑같은 상황인거 같습니다.현재 트롤러들에 대한 제재에 대해서 제 느낌을 말하자면회사 딴에는 열심히하고있다고 생각하고있지만 각각의 유저들이 느끼기에 항상 트롤하던 사람들또 만나고 또 던지고 또 지는 상황이 반복됩니다.거기에 제재되었다고 나오는 공지들 또한 매우 적고요.제가 최근에 만난 한 사람을 기준으로 말하자면처음에 만나서 던져서 지면' 저런 사람도 있네 ' 하고 신고하고 차단했지만다음에 또 만나서 또 던져서 게임을 지면' 저거 아직도 정지 안먹었네 블리자드 뭐하지? '라고 생각하게되고그 다음에 또 한번 더 만나서 똑같이 지면' 게임 망했네 '' 던져도 정지 안먹네 '라고 생각하게 됩니다.그러니 제재할 능력이 안된다면 타 게임처럼유저들이 각 상황의 채팅로그를 보고 제재해야하는 상황인지 아닌지를 판단하여 간추리고그 간추린 사건들만 블리자드 측에서 판단하여 제재를 내리면 되는거 아닌가요?이것 외에도 글들 찾아보면 제재할 방법은 매우 많지만그것 중에서 어떠한것 하나라도 실천을 안하는 이유가 뭔지 심히 궁금합니다.포지션 시스템오버워치는 롤과 다른 게임인걸 압니다.그래도 적어도 모두가 힐러, 모두가 딜러인 상황은 나오면 안된다고 생각합니다.적어도 각 게임에 탱커 1명 딜러 1명 힐러 1명은 있어야 한다고 생각합니다.이거는 대부분의 사람들이 공감한다고 생각합니다.게임할때마다 적어도 10판중 5판은 한 포지션이 세명 이상 있습니다.거기서 누군가가 양보안하거나 못하는 원챔이면 지는거죠.그러니 적어도 매칭 시작할때 포지션을 선택하여DPS 1명 TANK 1명 SUP 1명 Flex 3명이렇게 게임을 매칭하면 정말 좋을것 같습니다.물론 롤과같은 게임이 아니어서 게임 중간에 힐러가 딜러로 바꾸거나 탱커가 딜러로 바꿔서 개판이 날 수 있지만적어도 게임 픽창에서부터 게임이 터지는 상황은 안나올거라는겁니다.또한 그거에 따른 눈치도 줄 수 있죠예를 들어서' 님 힐러로 매칭 돌리고서 왜 딜러해요 ? '하면 적어도 픽을 바꿀 이유가 생긴다는거죠여기까지가 제가 생각한 현재 오버워치의 문제점과 해결방안이었습니다.잡소리현재 오버워치 게임에서 프로게이머를 겨냥한 욕들이 많아지고 있습니다프로게이머라고 욕 못할거라 생각하고 일방적으로 욕하고 허위사실유포하고 심지어는 패드립까지 일삼는사람들이 많아지고있습니다.그럴때는 맞받아치지마시고 녹화하세요.저는 쉐도우플레이어 추천드립니다. 5분 전 상황까지 녹화할 수 있는 기능이 있거든요.최근에 제가 본캐로 솔큐 돌릴때 패드립하시고 허위사실유포하시는 분 계셨는데인벤에다가 제가 어뷰저라는 글 올리신다고 하셨는데 언제 올리나 정말 궁금했는데 안올리셨네요근데 어쩌죠 제가 녹화하고 스샷 40장 찍어서 경찰청 사이버 안전국에다가 접수했습니다 :]조만간에 연락가면 그때 뵈요.웬만하면 참는데 너무 심한욕을 하셨어요.다인큐로 1등 찍고 1페이지 유지하다가 너무 허무해서 최근 1주일동안 솔큐하고있는데현재 시스템에서 상위권이 솔큐돌리는게 얼마나 멍청한짓인지 일주일동안 매번 돌릴때마다 깨달았습니다.그래서 오늘 다인큐해야겠다고 생각하고 한판하고나서 더이상 경쟁전에 대해서 큰 생각을 두지 않기로 했습니다.예전부터 말해왔던게 있었는데시즌 1때 80프로의 사람들이 열심히 했었으나 시간이 지나면서 경쟁전에 대한 개편이 이루어지지 않고자신이 열심히하던 안하던 게임의 승패에 영향이 쥐뿔도 없구나라는걸 깨달은 유저들이 열심히 안하기 시작했고 이제는 경쟁전을 플레이하는 유저들의 20프로도 안되는 유저들만 정말로 브리핑 열심히하면서  경쟁전을 한다고말했었습니다. 그리고 저는 그 20프로도 안되는 사람들 가운데서 가장 열심히 경쟁전을 플레이하는 사람이라고 자부하고있었고 그래도 내가 열심히하면 10판중 1판은 원래 지는 판이었지만 내가 열심히해서 이기게될거야.그러면 나는 다른 사람들보다 한판을 더 이기는거니까 계속해서 노력하면 사람들이 인정해주지 않을까?라고 생각하고 그렇게 플레이해왔는데..이제 경쟁전에 지쳤네요.왜 예전에 한 프로게이머 분이' 사람에 지친다 ' 라고 말했는지 조금은 알게된것같습니다.그동안 스스로에게 다짐하며 믿은 신념이 무너지는것같아서 마음이 많이 아프네요프로게이머가 다른 게임 한다고 뭐라하시는분 계시는데이 게임이 망하는 이유가 프로게이머 때문이 아니라는걸 알아주셨으면해요.운영을 이렇게 하는데 어떤 사람들이 이 게임에 애정을 쏟을까요.저는 아직 애정을 가지고 있기 때문에 더 늦기전에 이런 글을 쓰지만 저도 정말 미련하네요휴가기간중에 오버워치 계속하다가 정말 화가나서 이 글 열시간동안 매달려서 썼습니다.많은 분들이 봐주셨으면 좋겠습니다. 레딧에 올릴 능력은 안되서 슬프네요.이 글을 계기로 아주 조금이라도 변화가 있기를 혹은 큰 변화를 만드는 발화점이 되기를 기대합니다. 그리고 저는 블리자드 홈페이지와 오버워치 홈페이지를 번갈아가며 들어가서아이디어 제출 혹은 건의하기를 찾은 결과 공식 홈페이지 자유게시판으로 들어가지는걸 보고' 정말로 유저들의 의견을 반영할 생각이있는건가? '라는 생각으로 여기 자유게시판에 올리게되었습니다.긴 글 읽어주셔서 감사합니다.3줄요약은 없습니다 죄송합니다.오버워치가 바뀌기를 원하시고 조금이라도 오버워치에 애정이 남으셨다면 처음부터 끝까지 읽어주셨으면 좋겠어요.\",\n",
       " '하드리셋하드리셋 필요합니다지금 시즌이 바뀔때마다 뭔가 새로움을 느끼는 플레이어가 있나요 ? 없습니다.당연하죠 소프트리셋만 주구장창하니까요그랜드마스터는 아무리 배치 망쳐도 그마나오는데플래티넘은 6승~7승해도 플래티넘 나온답니다.솔직히 말하면 다이아, 마스터에도 그마만큼이나 에임 좋은 사람들, 순간대처능력 좋은 사람들 많습니다.그런데 올라갈수가 없어요.왜그러냐면 트롤러들, 패작러들이 너무 많고 제대로된 판을 할 수가 없기 때문이죠. 안그런가요?자기가 아무리 열심히해도 팀게임 팀게임 거리는 오버워치에서는개인의 캐리력으로는 불가능한 정도라는게 있습니다.가끔씩 피시방가서 친구들 오버워치하는거 구경해보면볼때마다 픽창 박살나있더군요. 그런 사람들 점수 어떻게 올려야하나요 ?다인큐 혹은 운이 좋아야 올라가는거죠.또한 그랜드마스터에서 주구장창 겜던져도 계속 그마에 있는 사람들도 많습니다.자기가 대충해도 열심히하는 사람들이 이겨주니까요.솔직히 말하면 플래티넘, 다이아 구간보다 그랜드마스터 구간이 그나마 아주 조금이지만하려고하는 의지가 있는 사람들이 더 있기 때문에 유지가 되는거죠.이걸 바꾸려면 배치시스템 하드리셋 시스템으로 바꾸고처음부터 다시 올라가고 열심히 안하면 점수를 못올리는 시스템으로 바꿔야합니다',\n",
       " '한마디 보태자면 이번 메르시 너프사태 같이 생각없는 패치로 신뢰도 마저 잃어감.제프카플란 업데이트 영상에서 \"우리는 특정 영웅을 편애하지 않는다.\"하지만 패치로 보여준것은  그말과는 상반됨.따라서 그동안 했던 말들의 신뢰성이 죄다 무너짐.제재열심히 하고있다는 부문도 그동안 체감 못했는데,이제서야 왜그런지 이해되는거 같음.이건 옵치만의 문제가 아니라.블리자드라는 회사의 신뢰성과 연관될거임.잘못하다 큰일남. 한번잃은 신뢰는 되찾기 어렵다는거 명심해야됨',\n",
       " '좋은 글이네요',\n",
       " '저와 거의 비슷한 생각이시군요새벽이라 사람들이 보기 힘들수도 있으니 누군가 끌올을 해야할텐데끌올 해주실 분 없나요? ㅋㅋ사실 이런 글이 달마다 조금씩 나오는데이런 글만 모아서 토론장을 점거해버리면... 들어주려나요? 하하',\n",
       " '구구절절 써봤자 제프는 한글 몰라서 안봄 ㅋㅋㅋㅋㅋㅋㅋㅋ그럼 블코가 해석해서 전해주느냐? 그것도아님.즉 뻘글이돼버림',\n",
       " '악마의 화신인 돌진메타를 없애는 과감한 조치가 필요합니다 대회에서 겐지 트레이서 보는 것도 이젠 지겹습니다 뭔가 잘 나온거나 아니면 의미 있는게 결국 트레 겐지가 누구 킬내는거만 나오니 이젠 감탄은 커녕 한숨만 나옵니다그 누구라도 자신이 주인공이 되고 싶어하지 어디 구석에 찍히거나 지나가는 사람1로 살고 싶은 사람은 없습니다 대회에서 재대로 쓰지 않는 절반이 넘는 영웅들과 지겨운 돌진메타, 그리고 특정영웅군들에 대한 편애가 끝났으면 합니다',\n",
       " '좋은 글이네요~!!!블리자드가 꼭 봤으면하는 글입니다~!!',\n",
       " '누가 번역해서 북미 서버에 올려줘야 함',\n",
       " '처음 시작할때 만이라도 힐러 딜러 탱커 포지션 지정할수 있게 하는건 정말 찬성입니다.',\n",
       " '그쵸.. 시작하자마자 픽창 터져나가는걸 보면 이게 정녕 경쟁전이 맞는가 싶죠..',\n",
       " '스타2도 똥고집 부리다 다 말아먹고 나서야 겨우 바꼈죠',\n",
       " '경쟁전은 진즉에 스트레스 받아서 안한지 조금 되고 빠대만 돌리는대 빠대도 요즘은 25렙 50렙 100렙 유저들이랑 자주 걸리더군요..그런대 플레이 하는게 그렙때 플레이가 아님 그래서 플레이가 그렙때가 아닌대요? 했더니 다른 저렙분이 부케겠죠ㅋㅋ 이러는대 소름이 돋네요또 비슷한 렙때 걸렸는대 상대도 물론 렙대는 비슷한대 울팀은 진짜 초보자들이고 상대는 부계면 또 발림 그런식으로 계속 왔다리 갔다리 함 발르거나 발리거나;; 우르르 몰려가서 다굴 치고 잡고 우르르 몰려와서 다굴맞아 죽고 그럼;;; 빠대여도 즐겜을 위해서는 어느정도는 게임이 진행되야 져도 연습판이지 이건 이게 게임 하라고 해준 매칭인가? 싶을정도네요;; 전 딜욕심도 없어서 대강 탱하면 되겠다 하면 탱하고 힐도 종종 하고 하는대 픽이 제가 맞춘다고 즐겜할만한 정도가 아님 거의 고정픽 한조 맥 겐지 위도 트레 거의 항상 나옵니다 여기에 시메 메이 등등.. 점점 게임 하는 시간도 줄고 요즘은 하루에 한 5판 많이 하면 6-7판 정도 돌리는것 같은대 게임이 예전처럼 몰입이 안되네요',\n",
       " '역시 프로게이머이신 분이 쓰셔서 그런지, 공감가는 부분이 굉장히 많은 글이었습니다. 사실 저는 방금 경쟁전 돌리다가 화가나서 이렇게 홈페이지에 들어오게 되었는데, 님이쓰신 글을 보니까 마음이 가라앉는 기분이네요. 좋은글 감사합니다. 저는 실력이 무척이나 평범한 골드 유저지만, 오버워치에 대한 애정은 그랜드마스터에 있는 사람들 못지 않다고 자부합니다. 처음 오버워치를 접했을때는 재미를 느끼면서, 나도 실력을 키워서 경쟁전 점수도 올려봐야겠다는 순수한 목표도 있었습니다. 그런데 이제 그 목표가 부질없어보이네요. 경쟁전 점수를 올려서 심해를 벗어나면 좀 더 질 높은 게임을 할 수 있을 것이란 기대가 무너지니까, 더이상 경쟁전을 열심히 할 필요를 못느끼게 되었네요. 그런데 저를 더 지치게 만드는건 글쓴이분이 말한 것 처럼, 운영진측에서 어떠한 리액션도 보이질 않는다는 것입니다. 개선이 되겠지 되겠지 하면서 기다린게 벌써 1년이 되어가네요.. 도대체 언제까지 기다려줘야 하는건지..  부디 운영진의 대처가 소 잃고 외양간 고치는 격이 되지 않도록 이루어졌으면 좋겠네요..',\n",
       " '지금 블리자드가 그렇게 신경쓰고 있는 오버워치 리그에서 뛸 프로게이머들 조차 이렇게 생각하고있는데 지금처럼 리그에만 신경쓰고 게임에는 아무런 조치도 취하지 않으면 그 리그에서 뛸 선수들이 없어질듯',\n",
       " '블리자드는 돌진메타 없앤다고 패치를 과감하게 하긴 햇는데 지들 딴에 좀 까리봉삼하게 바꿔본다고 난리난리 쳤다가 지금 이 꼴 난듯. 이거 고칠려면 꽤 오랜 시간 지나야 좀 괜찮아 지겠지만 그런게 어딨어 ㅋ 블리자드 지금 하고 있는거 보니까 한국 게시글은 거들떠 보는거 같지도 않고 이제 슬슬 다 배그로 빠지더라 게임에 대해서 유저들의 생각들 찬찬히 들어보는게 제일 나을듯 하는데 뭐, 1년이 다 되가는 게시글이 다시 뜨고 있는 마냥에 블리자드가 무슨 조치를 해줄련지 ㅋㅋ',\n",
       " '게임접는사람들이 덜접어서 그런듯 단체로 접어야댐 아예 접속도 안해야댐',\n",
       " '애초에 게임이란게 널리고 널렸는데 유저들의 목소리를 무시하는 게임은 오래갈수없습니다.제작진대로의 속사정이 있겠지만게임을 하는 유저들이 제작진들의 속사정을 고려해가며  참고 견뎌가면서 게임을 할 필요는 없습니다.제 말은 제작진들이 진정으로 모두가 만족할 수 있는 합의점을 빨리 찾아야한다는거죠.제작진들의 사정을 생각해야한다는 목소리는 어째서 유저들 사정을 2순위로 생각하며어쩔수 없다는 식으로 말하는건지 모르겠습니다.게임을 하는 사람들은 유저들이고 유저들은 이미 많이 고통받았습니다.블리자드는 이에 대해서 빠른 조치를 취해야합니다.이미 유저들은 빠져나가고 있거든요.',\n",
       " '이미 유저들이 빠져나가고 있긴 합니다.. 크흠',\n",
       " '이렇게 유저들 의견을 조금이나마 수렴한다면 이 지경까지 오지 않았을텐데유저들이 게임을 망치는 것 보다 이를 방관하는 운영자가 문제이죠. 스스로 자정을 바라는 제프 카플란의 비이상적인 망상덕에 현재 오버워치가 이렇게 된게 아닐까요.?사회에서 법이 존재하듯, 게임도 마찬가지로 확실히 선을 그을수있는 방안이 있어야해요.블리자드가 스스로 방안 모색을 찾지못한다면 타게임에 있는 시스템을 적극 이용하는게 나은데 말이죠.ex) 도타2의 트롤촌, 카스 글옵의 오버워치 팀 참 안타깝습니다. 하다못해 블리자드 코리아가 이걸 보고 적극적으로 보고를 하면 좋은데 말입니다...',\n",
       " '맞습니다. 애초에 유저들이 이렇게 나서서 문제가 무엇인지, 해결방안이 무엇인지를 알려줘도 그것에 대한 어떠한 도 없으니 유저들도 지쳐가는거죠.그리고 미국서버, 유럽서버는 다르다고 하시는 분 계시는데다 똑같습니다. 외국 스트리머 및 프로게이머들도 똑같은 반응을 보이고 있어요.',\n",
       " '비주류 계열 픽률 올리게 패치를 좀 했으면 좋겠어요 하도 후져서 쓰지를 않습니다.',\n",
       " '그것도 문제겠지만 더 큰 문제가 경쟁전 시스템 같아요.비주류픽관련은 게임 밸런스적인 문제고 현재의 가장 큰 문제는 시스템 자체니까요.',\n",
       " '그거야 숨 쉬듯 당연한 거죠 사실 신고된 사람도 있고 그 수도 좀 있지만 도무지 신뢰가 안가네요',\n",
       " '오버워치에서 점수대보다 딜러가 정말 에임이 좋거나 잘하면 정작 이미 휩쓸고 지나간 핵얘기를 하는데.. 그럼 그걸로 아 이사람은 부캐로 양학하러온건 화나지만 꾸준히 열시미 하고있구나 생각을 하거나 정말 빡치면 양학하러오지말란식으로 화를내야지아직도 핵이다 뭐다 ㅋㅋㅋㅋ 팟지에서도 에임 한번씩 벗어나서 허공에 쏘는게 보이는데ㅋㅋㅋㅋ... 끝까짘ㅋㅋㅋ 핵이다 아니다    고집하고 ㅋㅋㅋㅋㅋ그건 그렇다 칩시다 그런데 제발 게임하는데 부모님 안부는 기본이고 신체적인 성부위 욕을 언급하면서 그러고 살진맙시다 ㅋㅋㅋㅋㅋㅋ 어떻게 하면 그런 욕이 손에서 그렇게 ..평소에 입으로도 그렇게 지껄이고 사니까 그럴수도있겠는데..진짜 게임하는데 눈앞이 더러워서 못하겠다..ㅠㅠ욕하는사람들 신고하면 들어주긴하니 ? ㅠㅠㅠㅠㅠ 블리자드야 ?',\n",
       " '친구끼리 게임이 가능한 게임을 위해서 점수편차를 포기한 것 같은데, 결국 그게 발목을 잡은듯. 경쟁전에서만큼은 점수차가 큰 사람끼리는 그룹을 못하게 만들었어야 했는데 그러자니 많은 PC방 유저들을 잃을 것 같고.. 그냥 태생적 한계인가 싶음 게임자체를 잘못 만들었나?그리고 여기 한국게시판보다 영작으로 레딧에 올리는게 파급력이 있어요. 특히 프로게이머의 발언이라면 제프도 관심을 안가질수가 없을 겁니다.',\n",
       " '좋운글 입니다 그리고 핵만큼 파괴적인게 대리 들입니다 이분들이 다인큐로 점수 올러 주면 그 분들 그 티어에서 역활이나 제대로 할까요 부개정도 문제입니다 보통 개정 두개이상 가진분들 도 많아요 그렇니 그 티어에 실력이 너무 차이 나는경우 많습니다 전 겐지로 파라 잡는 장면에서 정말 경악했습니다 파라 경우 100시간 넘는 플레이어 원챔이고 정말 잘하는 분인데 겐지 하나로 상대 전멸 혼자 케리 합니다 이렇 대리 분들 실버부터 골드 구간에 너무많을듯합니다 다야 까지 대리 비용 얼마 안되니 아마 이용들 하시는듯 해요 문제점은 골드 정도면 어느정도 팀웍도있고 이해도 어느정도 중간 있어야 티어 지만 게임해보면 브론즌 실력 안되는 분들 많아요 그리고 꼭 겐지 한조 픽합니다 그래서 한조 겐지 픽 욕부터 시작해고 이게 반복되는듯  지금 현제 트롤 반이상은 대리로 티어 올러서 발생한다 생각해요  다른 문제도 심각하지만 요즘 대리업체들 너무 많아서 게임마다 다인큐 대리들  10판중 6판이상 보네요 본인들 대리 입니다 말까지하니 그리고 열심히 안합니다 보통 보면 못이겠다 싶으면 바로 포기하고 다음 게임 준비한다 식으로 말합니다 솔랭하면서 그렇때마다 멘탈 깨지는 경우 많아요 운 나뿐건지 대리들꼭 만나니 상대고 우리편이고 대리좀 안봐씀 좋겠네요 이건 실력이 너무 차이가 심각하니',\n",
       " '진짜 이 내용이 특히 공감이 가는데...아무리 내가 실력을 갈고닦아서 배치를 잘봐도 플레는 플레에서 못벗어 납니다...지금 이 계정이 본계정이고, 오버워치 초창기에 한창 못할때 플레~골드구간이었더니지금은 아무리 빡겜해도 배치고사로 플레 이상 나온 적이 없는데배치 안본 부계정을 새로 파서 배치보니까 마스터도 받아봤고, 평균적으로 다이아가 나옵니다...그런데 본계정은 똑같은 실력으로 배치를 봐도 골드~플레만 매칭이 될 뿐더러 같이 매칭되는팀원들은 3할 이상이 트롤이거나 패작인 경우가 태반이라 혼자서 죽어라 노력해도 이 구간을못벗어납니다.그러다보니 열심히 해도 본계정은 플레구간을 못벗어난다는 생각때문에 어느새부턴가 경쟁전은돌리지도 않고있고, 정말 경쟁전을 하고 싶으면 부계정으로만 하고 있습니다.열심히 하면 뭐하나요? 모던님 말씀대로 플레는 배치에서 9승 1패, 10승 0패해도 플레인데...반면 그마들중에 일부 유저들은 0승으로 배치 마무리해도 그마 나오는걸 여러번 봤는데참 게임 할맛 안난다는 생각밖에 안듭니다.',\n",
       " '아이디 제제보다 IP제제를 같이 하면 좋겠습니다.ㅎㅎ',\n",
       " '그니까요 저도 본캐가 골플이고 부캐가 다이아 갔는데 본캐는 티어 탈출 할 수가 없어요 진짜 말이 안되는 현상 아닌가요???',\n",
       " '전 사람들이 말하는 심해구간에 똥손입니다.그럼에도 공감되는 말이군요. 응원합니다.',\n",
       " '이렇게 써봣자 운영자들 게을러서 번역해주지도 않음',\n",
       " '블리자드 코리아는 관리도 안하고 그렇다고 본사 블리자드에 전달하는 것도 아니고...미국 토론장은 가끔 제프가 나타나서 피드백 받아주긴 하지만... 에휴...',\n",
       " '던지면돼 뭘그리 어렵게 생각해',\n",
       " '정말로 블리자드 코리아 분들이 오버워치의 현 상황에 대해서 심각하게 생각하고있고유저들의 말에 귀를 기울이시고 계시다면오버워치의 문제점과 해결방안에 대해서 확실하게 알려드렸으니번역정도는 하셔서 미국 본사에 전달해주실 수 있는거 아닌가요?사실 저는 그렇게 하실거라고 믿고 글을 여기다 쓴거에요.',\n",
       " '그랬으면 정말 좋겠지만 여기서는 일을 하는지 안하는지 그런걸 전달하려는 의지도마음도 없습니다 차라리 직접 번역해서 전달하거나 아니면 본사에 연략을 해서 대화를 해보는게 더 빠른 답변을 얻을 수 있을겁니다최근에 직접 통화를 해서 배틀넷 점검을 한 경우를 봐서 본사라면 일단 들어볼 수는 있겠네요;;',\n",
       " '올라갓!',\n",
       " '올라가버렷',\n",
       " '트롤/패작 조금이라도 줄이려면 끝나고 명적같은걸 받게해서 뭐 다른 이득을 챙긴다던가 해야할듯 인기도 올리고 내리는 식이던가',\n",
       " '많은 분들이 이글을 읽었으면 좋겠네요초창기때는 없는 시간도 만들어서 했는데지금은 시간이 여유로워도 잘 안하게되요그래도 오버워치가 다시 흥하길 바랍니다즐거웠거든요',\n",
       " '올라가랏!',\n",
       " '그냥 오버워치는 모순 투성이임애초에 게임진행도중 픽변경의 자유를 허락했으면25명의 영웅중에 그 어떤  영웅으로 6명이 구성되던 정상적인 게임진행이 가능하게영웅간 밸런스를 맞춰야했음 그게 불가능 하다면롤처럼 신규영웅 빨리 빨리 찍어내던지 그것도 아니고영웅수는 25명으로 한정적인데 픽률 5%도 안되는 반병신 영웅들이 절반가까이나 되지 주류픽들은 전부  모스트 겹치는 상황에사실상 정상적으로 치고박는 게임일 할려면힐,탱,딜이 강제되는 게임인데 픽변경의 자유가 무슨 소용임꼴픽이 문제라는데 그 꼴픽 자체를 운영상 시스템상으로 허락하는게 오버워치인데무슨 문제가 해결됨 해결못해 설상가상으로 해결할 의지도 없음욕설문제는 제재만 강하게 때리면 한달안에도 해결가능한 문제인데 할 맘없음',\n",
       " '이게임이 사람 지치게 만드는 요소들로 가득 차있으니 떠날 수 밖에 없는거죠.상대팀 대리,양학 플레이어 한번 만나서 양학 한번 당하면 게임할 맛 안납니다.네이버에 오버워치만 쳐도 나오는 대리사이트들 버젓이 장사 잘만 하고 있는걸 보면 더 그렇죠.아군끼리 픽다툼, 욕설, 패작 등등.. 거기다 성희롱이나 패드립까지.그리고 제재 안하고 방관하는 블리자드.이걸 다 참고 이게임 계속 하고 있는게 용할 지경입니다.',\n",
       " '맞는 말입니다. 진짜 피씨방만 가봐도 요즘 오버워치 보다 배틀그라운드 점유율이 더 높죠 ㅋㅋ',\n",
       " 'ㅅㅅㅅㅅㅅ',\n",
       " 'ㅋㅋㅋ 올라갈놈은 올라간다는 개소리는 어디갔냐? 엌ㅋㅋ 죧망겜',\n",
       " '여태껏 본 토론장 글중 가장 확실한 팩폭글입니다. 블리자드는 이런글을 봐도 지들 꼴리는대로 하겠지만 개인적인 생각으론 그냥 한번 망해봤으면 하네요. 그래야 정신차리지 원래 잘나가는 놈들은 씨게 데이기 전까진 정신 못차리는법이죠. 매칭시스템 자체도 의문덩어리인데다가 트롤짓거리 하는 개 병맛새퀴들 제재는 하는둥 마는둥식에 고통받는건 애정을 갖고 임하는 게이머들에게 돌아온다는것이 분통할 따름입니다.',\n",
       " '눈팅완료',\n",
       " '올라갈놈 올라간다는거 그마도 심해에서 솔플로 쉽게 못 올라는게 펙트임.부캐 그마들도 손발이 좀 맞는 또는 자신의 캐리를 철저하게 보조해주는 팀원이랑 팀플해서 올라가는거지.대리들 대부분 팀플로 게임함.하드리셋이 절실하게 필요함.대리들이 시즌동안 남들 대리 뛸수 있는것도배치만 보면 원래 티어가 되니까.글고 1시즌부터 마-그마 간사람들은트롤,패작,대리 없던 시절에 이미 자리 차지한 사람들임그사람들 하드리셋하면 적어도 5할은 현지 못올라감. 그리고 꼴픽이라는것 자체가 존재하면 안됨.상성은 인정한다고 해도.특정 영웅들이(특히 수비군) 압도적으로 약해서 방치되고 있는 꼴픽 문제는개발팀에서 기필코 해결해야함.그러기 위해서는파라vs시메트라 같은 극상성(한쪽은 절대 아무것도 할수 없는)이런 메커니즘을 만들면 안됨.롤이나 히오스에서도이정도로 버려지는 챔프는 없슴',\n",
       " 'https://youtu.be/1kMyn6_lQHE피셔가 말하는 오버워치 현 실태블자놈들은 이거 보고 반성 해야한다',\n",
       " '오버워치 경쟁전에서 캐릭마다 일정승리 횟수를 달성하면경쟁전포인트로만 구매할 수 있는스킨이나 감정표현이 나오고시즌이 새로 시작되면전시즌 티어 초기화 한다고 해보세요.접속자숫자 3배는 늘어날겁니다.그리고각 캐릭마다 레벨시스템 도입해서모든캐릭 25랩 달성했을때만경쟁전 참여가능했더라면대리,핵,부계정,원챔러들은 현저히 줄어들었을겁니다.전반적인 게임 퀄리티도 올라갔을거고요.오버워치 경쟁전 시스템이 얼마나 엉터리고 허점투성이인지알만한 사람들은 이미 다 알고 있습니다.때문에 이미 진작에 티어에 미련 버리고즐겜하는 유저들이 지천에 깔린겁니다.',\n",
       " '이젠 시대가 많이 바껴서 유저들과 일반인들도 여러 소식을 빠르게 접합니다(선수들 일베논란과 여러 논란부터 게임패치문제까지말이죠). 그런데 블코의 문제는 동시접속률과 이용자수 월등히 많은 한국의 문제를 전달 안한다는거죠. 그리고 한국서버의 문제는 다른 서버에서도 심심찮게 발생합니다. 진짜 이건 문제인데 블코는 신경 1도 안쓰죠. 모던선수 진짜 응원합니다. 부디 힘내시고 선수로서 선수들끼리 방송할때 캠패인이라던가 이런것도 부탁드립니다ㅜㅜ',\n",
       " '배틀코믹스도 불량유저 신고하면 혜택주는데 블쟈가 옵치 살릴려면 클린포인트같은걸 만드는거죠. 그걸로 악성유저는 처벌받게 하고 선량한 유저는 더욱더 많은 혜택을 받게 하는거죠. 그리고 카스처럼 경비대를 뿌려서 대리를 잡는거죠.물론 많은 부작용이 생기겠지만 진짜 지금은 칼을 빼야 될때라고 봅니다.',\n",
       " '매칭에 관해선 대찬성입니다',\n",
       " '진짜 이 글은 계속 쭉쭉 올라갓으면 한다...',\n",
       " '오버워치를 사랑하는 유저로서 읽으면서 많이 공감했습니다오버워치를 하면서 제일 화가 나는 것은유저 분들의 요구를 충족 시켜주지 못하는 디렉터의 고집이였습니다 그리고 이 똥고집 때문에 오버워치가 정말 인기가 더 시들 거 같아서 아쉬움이 커요 ㅠ 오버워치 유저 ? 제가 보기엔 줄고 있습니다 아니 저의 체감 뿐 아니라실제로 피시방 점유율도 많이 줄었고 늘 오버워치로 가득했던 친구 목록이이젠 극 소수만이 오버워치를 플레이하며 이들과 얘기를 해보면  이 분들 마저도 오버워치에 대해흥미를 잃어가고 있는 듯 보였습니다하나 같이 말해요 왜 눈에 보이는 문제가 이렇게 많은데도 디렉터는 의견 수용은 하지 않고자신의 색깔만 오버워치에 입히려고 하는지 모두가 입닳도록 말하죠 변화가 필요한 시점이라고 의견을 다채롭게 수용해달라고 근데 아직도 정신 못차리고 패치 때 마다 모든 유저와 소통하는척 동영상을 찍고 자신을 비판하면 토론장 이용과 채팅 제재를 가하는 디렉터의 오만함에 그렇게 사랑하고 아끼던 블리자드 게임들 에게서 손이 멀어져 가는 제 자신도 보이더군요..욕설을 사용하고 다른 유저에게 불쾌감을 주는 유저 들이나 제재할 것이지어찌해서 본인의 의견에 반대를 던지고 지당하게 비판하는 유저들 까지 비아냥 거리며 제재를 하는지저로선 정말 이해가 되지 않습니다',\n",
       " '오버워치 오픈할때부터 했는데지금 마스터가 2,3시즌 다이아보다 못하다 어떤팀 트롤이 더잘하냐에 따라 게임승패가 갈리는게 말이냐 되냐?모던님이 말하는것 처럼 제가 현 3780? 정도 무조건 솔큐유저인데 경쟁 돌릴때 보면 3900점하고 다이아가 나올때가있어요 휴먼도 아니고 ㄹ ㅇ 다이아 솔직히 그럴때마다 힘듭니다 진짜거따가 대리로 올라온분들도 보여요 어제 게임하는데 최점 4200짜리가 3700와서는게임 다 말아먹더라구요 어떻게 그마갔냐? 물어보니까 친구가 \"무료대리해줬쪙^^\"이 지 랄을하는데 유저가 빠져나갈수밖에없죠;그래서 요즘 본캐보단 부캐를 하게되네요 아랫구간 생태계파괴? 신경안씁니다. 저희구간만해도 헬인데 스트레스풀려면 아랫구간이라도가서 게임 재밌게해야죠^^ 그쵸? 블리자드코리아님들? 게임 스트레스받으려고 있는거 아니잖아요~',\n",
       " '아직 피시방 점유율 3등이라 배불렀죠 그쵸?',\n",
       " '디렉터라는 !@끼부터 개똥철학이나 고집하고 있으니...카플란 이새끼 길가다 총맞아 뒤졌으면 좋겠다',\n",
       " '위닝에게 발리고 더 떨어져야 정신 차리겠죠',\n",
       " '로우바둑이랑 막고라 뜰 단계까지 가도 유저한테 책임 돌릴지도',\n",
       " '대리나 잡아. 한국어 모르는 새끼들을 위해 일일이 국어사전에 나와있는 뜻을 알려준다.대리5\\xa0(代理) [대ː리] \\xa0 [명사] 1. 남을 대신하여 일을 처리함. 또는 그런 사람. 즉 흔히 말하는 부계정. 정과 부로 나눈다는 뜻을 가진 부계정으로 본인 계정 따로 있고,남는 계정으로 게임한다고 한다. 하.지.만. 블리자드 고객센터 들어가서 블리자드 관련한 내용을 잘 살펴봐라. 이런 말이 있을거다. \"계정은 1개의 주민등록번호로 1개의 계정을 만들 수 있습니다.\"라는 이런 의미의 문장이 있을거다.즉, 본인이 아무리 가족 계정이다. 동생,형 계정이다. 친구 계정이다. 라고 짓거려도결국은 대리5\\xa0(代理) [대ː리] \\xa0 [명사] 1. 남을 대신하여 일을 처리함. 또는 그런 사람. 대리라는거다. 혹시 살면서 주민등록번호 2~3개씩 가지고 태어난 사람 계시면 입닫고 게임 뜰께요 ^_^ 그게 아니라면 수준딸린 학식충이라고 생각하고 무시하겠습니다.트롤도 트롤 나름이라는 거다. 하.지.만 대리 같은 경우는 이건 진짜 답도 없다.내 친구가 4300~4400점대 왔다갔다 하는 탱커겸 딜러유저이다.주변 친구들한테 실버 계정 받아서, 다이아로 올린다. 이하 생략한다 ^^실버인 계정, 플티까지 올리는 데 몇일 안걸리고 더 소름이었던 건, 로드호그 KD 10점대,위메 10점대다.',\n",
       " '이런 말을 왜하냐면, 이런 대리유저 때문에 실력을 키워야할 사람은 꾸준히 그 점수를 뜨질 못한다. 힐딱이나 해라. 라는 @같은 병@새끼들이 있는 데, 게임은 즐길려고 하는거야.재미도 없는 메르시나 하면서 빨대나 꽂으라는 쓰레기같은 놈들아. 게임을 구매 안해도 되는 무료게임이나 그러겠지. 돈 주고 사서 힐러나 하면서 게임해야되냐?결론만 말한다. 트롤은 트롤대로 그렇다치고 대리는 답이 아예 없다. 팀보도 팀으로도 합치지도 않는 브론즈 실버 골드 몇몇 포함해서 대리들 만나면 3~4명이 1명한테 계속 탈탈 털린다. 그렇게 되면서 저거 하나 못잡냐고 힐러들이 딜러잡고 탱커들도 딜러잡으면서 게임 터지는 거다. 즉 대리새끼들이 다 위로 올라가야 아래있는 놈들이 올라가는 데, 대리새끼들 위로 좀 올라가면 재미없으니 학살하러 다른 계정 구해서 오니까 발전이 아예 없는거야.심지어 심하면 대리 혼자서 6명 다 잡는다. 특히 위메, 맥크리, 파라면 다 잡드라. 이번에 보게 된건, 그마 친구가 4300~4400점대인 데, 내친구는 탱 유저도 그 친구중에 4500점 딜러가 있단다. 2명이서 2인큐 맺고 2명이서 다이아~마스터까지는 그 2명이서 학살하고 다닌단다. #@!##!이게 게임이냐? 학살하는 게 너무 당연한 게임이 게임이야?그걸 나도 *!#%!# 대리를 상당히 싫어해서, 친구 대리짓 하는 꼬라지보면 욕한다. 피방에서 그짓거리하면 뒷통수 후려갈길꺼 같아서 피시방 같은 곳, 안간다 ㅡㅡ트롤을 잡기 전에 대리나 잡아. 위에 상위랭커들이나 트롤 트롤 거리지.그 상위새끼들이 하위유저들 짓밣으러 오는 게 더 문제야 개새들아 진짜 정상인도 트롤로 만들어버리는 게 대리새끼들이라고 십새들아 ㅡㅡ',\n",
       " '올라가랏!',\n",
       " '진짜 이글 번역해서 레딧에 올려주실분 계시면 좋겠어요하나도 틀린말이 없고 지나가던 옵치하는 초딩잡고 이거읽히면 이해하고 공감할정도로 잘쓴글이네요..',\n",
       " '모던님 인벤에 꾸준히 글올려주세요 진짜... 블리자드 개새들아 이건 아냐...이건 진짜 아냐. 중소규모 폰게임회사마저도 피드백 달면 반영하겠다고 답변이라도 한다고, 근데 너희는 진짜 이렇게 게임 운영하는거 아냐...',\n",
       " '번역해서 모던님이 올렸으면 좋겠네요.',\n",
       " '올라가랏!!',\n",
       " '끌올끌올',\n",
       " '끌올',\n",
       " '이미 늦음.',\n",
       " '하위티어 구간은 흔히 말하는 \\'양학\\'유저때문에 고통받고생태계 교란되서 게임 의욕이 떨어진다고 합니다.하지만 유저분들도반대의 경우를 생각해보셔야합니다.상위티어 유저들은이미 기본 숙련도가 받쳐주는 유저끼리팀워크를 통해 게임을 이기고 싶어합니다.쉽게 말하면 고수끼리 서로 팀 섞여가며퀄리티 있는 게임을 즐기고 싶어하는것이고그보다 조금 못하는 유저들은그런 클래스가 되기위해 노력이란걸 하게되죠.하지만 실상은?절대 그렇지않죠.하위티어와 마찬가지로흔히 말하는 \\'버스와 대리\\'유저들로 인해게임의 질이 떨어져서팀워크 자체가 안되는 판이 허다합니다.그 상위 티어 유저들도 하위 티어유저들이 양학당하는것처럼똑같이 고통받는 다는 것이죠.그래서 상위티어 유저들이부계정을 파거나 점수에 신경안쓰고(점수가 내려가던말던)팀워크보다는 그동안 자주 안하던 캐릭 연습을 하거나\"넌 왜 다야,마스터에서 여기까지왔냐,버스충이냐?배치충이냐?등등..\"뭐 이런식으로 아군이 시비걸면 그냥 다 포기하고 던지게 되거나적팀이 시비걸면 짜증나서 모스트 꺼내서 양학을 시전하거나하게 되는거죠.과거 2~3시즌정도까지만 해도플레만 가도 굉장히 잘한다고 인정해줬습니다.하지만 지금은 플딱이 취급받고다야를 가도 플레티넘과 동급으로 취급받습니다.마그마 구간역시 마그마라고 할수없는 수준낮은피지컬을 가진 유저들또한 넘쳐나고요.그만큼 경쟁전 티어제도가 실력을 인증해주는 시스템이 아니게되었다는거죠.경쟁전 티어 시스템은두가지로 개선방향을 잡을 수 있는데.1. 점수의 등락폭이 쉽게 되도록 고정점수를 부여하거나2. 브실골플= 3부리그 / 다야=2부리그/마그마 = 1부리그 / 랭커=순위리그로 나누어 각 리그마다 진입구간이 되면 점수를 고정시키고배치와 같은 방식(5전3패하면 승격실패.3승하면 승격.하지만 승격을못하더라도 점수변동 없음=>다만 승격시험을 보기 위해서는 10승을 다시 달성해서 승격을 위한 포인트를 채워야한다 =이렇게되면 승격구간에서는 속된말로빡겜이 안나올수가 없습니다.)뭐 복잡하게 쓰긴 너무 길고 대략 이런식으로 명확하게 구분했어야 했습니다.(뭐 그러면  대리 없겠냐?라고 할까봐 말하지만 위에 또다른 글 참고하시면 될거같습니다)지금의 경쟁전은이도 저도 아니죠.계정 새로파서 운만 좋으면 다야도 가고다야 유지만 해두면 다음시즌도 다야에서 시작하죠.하지만 브실골 구간에서 아무리 날고기는 유저라할지라도브실골 생각처럼 쉽게 못나옵니다.MMR시스템과 50프로 승률시스템덕에더더욱 힘들고요.배치 망친 유저는 다른계정 돌리거나, 망친 계정은 그냥 연습계정으로 돌려쓰거나 해버리는 현상이괜히 일어나는게 아니죠.실력있는 유저들은 올라간다?제주변 그마유저들만해도 브실골구간은 실력으로 게임하는게아니라 말합니다.운빨로 하는거라고.동전을 던져서 앞면,뒷면 이 나오느냐 그 차이라고.옵치 MMR시스템은 까놓고 말해서어느정도 티어가 되는 구간부터 적용했어야 했습니다.그랬다면 그 티어부터는 정말 실력으로 게임하는 구간이라고인증이 되는것이고 유저들 스스로도 자부심을 느끼게 되죠.지금 옵치 MMR시스템은 잘하는 유저들은 자기자리가서비슷한 유저들과 경쟁하는게 아니라연승하면 나보다 못한 유저들 팀으로 만들어서캐리하면 올라갈수있도록 유도하고있죠.한마디로 개발자의승부조작이란겁니다.브실골플 구간의 경우는 단순히 현재점수로 랜덤매칭만 해도 충분했다는 거죠.모든 게임은상위티어에 뉴페이스가 자주 등장해야게임의 활력을 잃지 않습니다.하지만 지금 오버워치는실력있는 뉴페이스가 인정받기 힘든구조에요.그게 쌓이고 쌓이면대회에서도 새로운 신인이 나올 확률이줄어들게 되고대회의 질도 그만큼 보장 못하게 되는것이죠.프로신인들이 많이 나오게되면기존 프로선수들도 긴장을 하게되고 더 열심히 해서 더 피지컬을 올리게 됩니다.구단들도 선수들의 관리에 더더욱 신경쓸수밖에없게되구요.당연히 전략이나 조합에 대해서도 더 많은 연구를 하게 될테고.그러기 위해서 자연스레 인프라가 확장될수밖에 없습니다.일반 유저들은 그런 프로의 대회씬을 보면서자연스레 운용법,조합,전략을 학습하게 되죠.하지만 지금의 옵치는 대회인재는 한정적이고새로운 인재가 나올 확률도 많지 않아보입니다.프로선수들조차 솔큐를 안돌리고옵치하기싫다고 말하는데 더이상 설명이 필요할까 싶습니다.결론은,오버워치 경쟁전은매칭,티어시스템,MMR시스템 모든걸 뜯어고치지 않는이상밸런싱이 어쩌네, 매칭시스템이 어쩌네, 트롤이 많네 패작이 많네이런말 절대 없어지지 않습니다.1년전엔 트롤,패작이 없었던가요?있었어요.그렇다면 그 수만명이 유저들이 잘못일까요?오버워치 개발자들은 경쟁전시스템의 문제점을 보완하는게 급선무지지금 밸런스니 뭐니 이런거 사실 큰 의미 없습니다.블리자드 코리아는 한국유저들의 성향이나 현상을본사에 제대로 전달하는게 먼저지PC방 월매출 유지하겠답시고 피시방 이벤트나하고점유율 올리려는 꼼수 부려봐야 변하는건 없답니다.-귀찮아서 그만씀-',\n",
       " '올려버리기! 추천 쾅',\n",
       " '다시 올려버리기',\n",
       " '다른 무엇보다도 블리자드에서 개선의 의지가 없어 보인다는 게 가장 큰 문제 같습니다. 이렇게까지 꽉 막힌 게임사가 있을까 싶을 정도네요.',\n",
       " '정신못차리는 블리자드는 반성해라',\n",
       " '피시방 이벤트로 유저수 유지할수 있을거라는 1차원적인 생각은 원숭이보다도 못한 수준이다. 하다못해 비버도 자기 집이 부서지면 문제점을 보완해서 새로이 짓는데 블리자드 코리아는 #**@#! 월급루팡들도 아니고 어떻게든 지들 편한것만 하려하고 유저들을 위해서 뭐 하는게 없는 쓰레기들이네',\n",
       " \"맞습니다. 수용하는척 동영상찍고 ' 우리는 유저들의 생각을 게임에 반영한다 ' 라는 식으말하고있지만 시스템에 유저들의 생각이 반영된적은 거의 없다고 생각합니다.말로만 말하는게 아니라 정말로 유저들이 무엇을 원하는지, 어떤 생각을 가지고 있으며게임을 할 때 유저들이 느끼는 가장 큰 문제점들이 무엇인지를 블리자드에서 알려고노력하고 바꾸려고 노력해야한다 생각합니다.이미 사람들이 빠져나가고있는 시점에서 변화가 없다는것은 게임이 망해가는걸방관하는것 같네요.유저들은' 우리의 잘못은 없어, 그저 유저들이 게임을 즐길줄 모를뿐이야 '라고 디렉터들이 생각할거야라고 느낄수밖에 없어요.하루 빨리 변화가 있어야하는 시점입니다.정말로 리그활성화를 시키고싶고 게임을 크게 만들고 싶다면 유저들 다 빠져나가고 더 늦기전에 빠른 피드백이 필요할것같습니다.\",\n",
       " '현재 한 분 ( 정말 고마우신분 ) 이 인벤에 글을 쓰시면서 번역에 관련된 피드백을 받고 있습니다.빠른 시일내에 번역이 완료되면 레딧과 블리자드 본사 홈페이지에 올릴 생각입니다.',\n",
       " '좋은글이다',\n",
       " '경쟁전 개판인건 한국썹만 그럴거에요 고로 블리자드는 한국회사가 아니고아마 큰문제는 아니라 생각하겠죠아시아 서버에서 경쟁전 돌리는사람이 없으니까외국에서 그 심각성을 알아챌리가 없죠',\n",
       " '끌올하자 진짜 블리자드는 이글 보고 반성해라. 제발 그리고 번역본도 올렸으니까 보고 보고하라고 본사에다가...',\n",
       " '피셔 모던 그외 외국 여러 선수들 입에서도 문제가 많다고 하는데 블코가 솔선수범해서 꼭좀 말좀 해라',\n",
       " '업',\n",
       " '업',\n",
       " '지금 경쟁전 돌리다 왔는데 골드 구간입니다 오늘 300점 가까이 떨어 졌네여 한조 안나온판 1판 빼고 계속 한조 나오고 한조나오면 위도 나오고 위도 나오면 게임 터진 거죠 정작 다인큐나 듀오로 오는 사람들 중에 하위점수로 갈수록 픽하는거 감싸주려고 하는 경우가 많이 있어요 바스나 한조나 토르나 시메들고 공격이나 수비 모두 사용하면서 정치질 하죠 그러다 게임 터지면 트롤이네 상대팀한테도 채팅으로 신고해달라고 하면서 진상질 하면서 실력이 어쩌구 저쩌구 하면서 그냥 게임 끝이죠 그래서 심해라는 말이 있자나여 보면 다들 점수올리고 싶다가도 한조 픽보는 순간 그냥 던지는 거죠 그러고 보면 이재는 한조 픽 나오고 위도 나오고 시메 나오고 하더라도 게임 끝날때까지 말도 안하고 끝내는 경우도 나와요 그냥 포기하는거죠 이게 지금 골드부터 및으로 내려갈수록 현실적으로 많이들 느끼실꺼에요',\n",
       " '모두가 이 글을 보도록....',\n",
       " '다시한번 가버렷',\n",
       " '끌옵',\n",
       " '솔직히 골드유저로써 상위나 하위나 걍 문제임실력없어서 대리받은색히들은 또 다야 마스터 올라가서 다시 내려오고 또 대리하고...브실골쪽 배치실수로 실력좋은데 브실골에 잇는사람은 승급전마다 트롤이 꼭 나옴솔큐로하면 다인큐가 정치를하고 다인큐로하면 솔큐는 던지고 소통을 안하고,그래서 뭐 비주류유저는 픽하자마자 뭐하네 뭐하네 이거해 저거해 주류유저도 트롤러떄문에 승률낮은거라면 승률낮네 뭐 킬뎃은 높은데? 듀오끼리 또 이래 상위는 뭐... ㅋ 배치잘봐서 상위가면 실력안좋아도 짜피 승부욕강한 팀원들이 다 캐리를해줘 ^^둘다 답없어 실력좋은놈은 할수록 아래로가 이게 현실임나같은경우도 2430까지갓다가 결국 2200대로 겨우올렷어 진짜 승급전이 머지않으면 트롤러가 그넘의 대리,부캐,트롤러 꼭 나오더라  내가 브론즈 실버 탈출한것도 기적이라 생각함',\n",
       " '아- 그래서 ㅁㄴㅇ에서 다인큐로 대리작을 하는거였네요?? 그렇구나..쩝..',\n",
       " '세기말이란 단어를 사전적인단어나 의미로만 알고있다가 이번에오버워치로 몸소 느끼는중입니다',\n",
       " 'some  one translated it in english just wanted to comment saying i came to give it a thump up good post !',\n",
       " 'https://www.reddit.com/r/Competitiveoverwatch/comments/78ozhi/former_flash_lux_main_tank_moderns_statement_on/모던님 인벤은 저녁쯤에 글 올라오지 않을까 싶네요. 주소는 여기 있습니다.',\n",
       " 'Bump for awareness. Blizzard do something about your game before it dies.',\n",
       " '솔직히 브론즈는 탈출할 수 없습니다. 사람들이 실력이 문제라고, 남탓하지 마라고 하는데그건 아닙니다. 대부분 망할 딜러충 때문에 패배하고 한조, 겐지, 위도우메이커, 트레이서등 영웅으로 팀원이 고통 받는 것을 즐기는 사람들도 있습니다. 그럼 브론즈에서 승률이 낮은 캐릭터를 플레이 하지 못하게 하는 것이 어떨까요? 솔직히 그런 사람들이트롤러인데 정지시키지도 않고 뭐하는지 모르겠습니다. 그런 사람들 때문에 200점이나 내려갔습니다. 모든 유저들이 공정한 게임을 할 수 있도록 해주십시오.',\n",
       " '배치볼때 브론즈안가도록하면되지 핑계 ㄴㄴ',\n",
       " '브론즈는 들어가기도 어렵고 나오기도 어려운곳인가봐요 왜냐, 상대나 우리팀이나 대리,부캐,트롤은 항상있거든 나오기 쉬운부류는 대리,부캐인 경우만 나오기 쉬운거죠 힘내요',\n",
       " '들어가긴 쉽고 나오는건 어려운거죠 ㅋ 개미지옥이나 늪같은거',\n",
       " '브론즈 아이디 탈출시켜 본 사람으로서 <500 이면 충분히 탈출시킬 수 있을 것 같은데요. 게다가 브실은 배치 점수도 후하게 주는 것 같던데...점수가 몇 점 이상 떨어지면 경쟁을 쉬었다 돌리는 것도 나쁘지 않은 것 같고...패배의 모든 원인이 팀탓인 것은 아닙니다..',\n",
       " '님 어쩌다 배치 브론즈 받으셨어요? 프로필 보니까 파라랑 디바 괜찮게 하시네요. 걍 캐릭하나 새로 사서 배치 5~6판만 이기셔도 최소 골드는 나올거에요.',\n",
       " '이 게임은 한번 배치받은곳을 탈출하려면 다인큐 밖에 답이 없습니다.트롤을 만날 확률을 줄여야 하기 때문에 ^^',\n",
       " '허.. 가는 것도 힘든 곳이죠..',\n",
       " '브론즈는 솔직히 제가 느끼기엔 죄다 똥고집으로 가득차있어서 못올라가요ㅋㅋㅋ서로 고집부리다 지는ㅋ거기다가 조합은 또 엄청따져요',\n",
       " '진짜 우리 즐겜은 빠대에서나 하시고서로 조합해 이기자며 아무리 격려해도트롤픽이나 패작충 비매너 기타등등지 개성대로 노는데임 브론즈는ㅋㅋ',\n",
       " '어제 탈출했는데...그냥 운빨임..ㅋㅋㅋㅋ연속으로 같은 팀에 트롤이 없길 바라야함 혹은 상대팀에 더 심한 트롤이 있길 바라야함ㅋㅋ 솔직히 아무리 빡겜해도 팀원들 다  죽쑤고 즐겜하면 이길 수 없음. 경험상 밤 10시쯤 부터가 트롤이 좀 적은듯',\n",
       " '트롤픽? 본인 마음에 드는 픽 아니면 다 트롤픽인가요? 진짜 던지려고 목처 1점 짜리 잡는거면 모르겠는데, 진지하게 픽 해도 주류픽 아니라고 무조건 빼라고 정치질하고. 픽 가지고 뭐라고 하는 사람들은 절대로 브실골플 탈출 못함. 그리고 밑구간은 조합 왜 따지는지 진짜 모르겠음. 6명 전부 힐탱 안해봐서 1인분도 못할 바에는 진짜 6딜이 훨씬 이득. 애초에 브실골플은 조합 볼 줄도 모름.',\n",
       " '솜브라를 OP로 만드는거다.해킹 쿨타임 4초로 만들고 집탄율 상향+DPS를 200 정도로 만들면 솜브라가 메르시 해킹해서 압살하는 공격형 운용이랑 겐지나 트레이서의 습격을 방해하는 방어형 운용 그리고 전 구간의 힐팩을 싹 다 해킹해버리는 힐러형 운용을 모두 할 수 있을 듯.아주 그냥 솜브라 OP로 만들어서 벌레든 장인이든 잔뜩 양산해가지고 주류 영웅으로 만들어서 겐지, 메르시, 디바, 트레이서 싹 다 죽여버리자. 그러면 상대적으로 솜브라한테 강한 딜러인 리퍼랑 솔저, 탱커중에서 자리야의 픽률이 크게 올라거겠지.이렇게 패치해서 솜브라로 겐지만 해킹한다던가 메르시만 해킹한다던가 하면 상대 멘탈 터져서 탈주할거다.',\n",
       " '솜브라 딜쎄지고 해킹 더짧아지면 필수픽됨',\n",
       " '비주류 픽률을 올라갔으면 좋겠네요',\n",
       " '어떻게 3700대랑 잡히게함? 저번에는 브론즈듀오도 만났는데 진짜 매칭을 300점넘게 잡고 심지어 듀오기준 3000점 차이나게 잡을거면 경쟁자체를 만들지 마세요 매칭을 그따위로 해주는데 참 재밌게 게임하겠습니다 그렇죠?',\n",
       " '대회니 뭐니 괜히 순서도 모르고  나대지말고 경쟁전 좀 클린하게 돌아가게끔 운영 좀 해라 죄다 토론장으로  몰아놓고 유저들끼리만 떠들고 여러 방안들 많이 내놓고 토론 하긴하는데 그냥유저들 끼리 흥분 할 뿐..ㅋㅋ솔랭 팀랭 구분 뭐 포지션 별 매칭 등..근본적으로 대기시간 따지지말고 실력 비슷한 애들끼리 빡겜할 수 있게 뭐라도 해봐라.. 매칭에서 이미 승패 정해진 게임이 워낙 많아야지 그리고 다른 비인기 게임보다 비매너 유저  감별하는데 반도 인원 안 쓰는 느낌인데 블쟈가 작은 회사도 아니고 뭐 이따위로 운영을 하는지...그냥 신고 누적되면 처리하고다인큐한테 계속 욕먹다가 한마디 했다고 체금먹고...이벤트 같은 것도 오류 투성이고.. 그리고 스킨들 좀 팍팍 내  한동안 겜 자체보다 그냥 상자까는 맛에 하기도 했었는데 영웅 수 자체도 적은데 영웅 별 스킨 수도 그저 그러니 이제 상자를 까도 그냥 심드렁하다 스킨이 벨런스에 영향을 주는 것도 아니고 스킨 좀 내라 마지막으로 신영웅 떡밥이라도 뿌릴 때 되지 않았냐 영웅들 좀 빠릿빠릿하게 내자 지금 몇몇 영웅들 끼리도 메타 고착화에 벨런스 문제들 알긴 하는데 그럼 소식이라도 좀 풀던가...  어느 순간부터는 오버워치 하면서 그냥 경쟁 돌리고 스트레스 받는 것 밖에는 없는 것같다',\n",
       " 'https://www.reddit.com/r/Competitiveoverwatch/comments/78ozhi/former_flash_lux_main_tank_moderns_statement_on/많은 분들이 제발 봐주셨으면 좋겠네요.그리고 블리자드 이참에 한마디만 좀 하자. cs팀 맨날 게시판에 욕오르근거 자르지 말고 유저들이 욕을 하는 근본적인 이유를 위에다 보고좀 해라 제발... 아니 너희 진짜 너무하는게 뭐냐면 요샌 조그만 소기업도 결제문서란에 협조가 다 있어. 너희 블리자드 게시판 관리하는사람들은 유저들이 맨날 욕만 적는 이유분석하고 개발팀이랑 관리팀에 협조요청해서 일좀 처리해봐. 아니 너희는 협조이런거 안함? 부서별로 다 그냥 마이웨이임?',\n",
       " '부디 이미 답이 없다고만 하지들 마시고 레딧과 저기 토론장 가셔서 글 한번씩만 남겨주시면 감사할거 갔습니다.',\n",
       " '과연 게임이 우리를 이기주의자고 만드는가우리가 이 게임을 개인주의적인 게임으로 만드는지 생각해보자.이 게임은 집단주의적 성향을 띄고 있는데게임사 자체에서는 개인주의적 플레이어들을 지지한다.이게 게임의 본래 목적에 알맞는 컨셉이라고 생각하는가?',\n",
       " '애초에 게임이란 게 협동과 안 어울림 누가 안면인식도 없는 사람들이랑 협동해서 게임하겠음 누구나 처음 보는 사람들과 그리고 내 신상이 밝혀질 일이 없는 사람들과 만나게 되면 숨겨왔던 본성을 드러내고 하고 싶은 말 하고 싶은 거 다 하게 되어있는데어떤 누가 스트레스 받아가며 게임에서조차 남의 말에 복종하려 하겠음게임 만든 방식자체가 이상함 협동게임이라면서 게임 내에 클랜이나 서클도 없고앞뒤 말이 안맞는 게임임',\n",
       " '유저가 이기적인것 보단 게임 시스템이 유저를 이기적으로 만듬 ㅋㅋ 고로 블리자드가 옵망으로 만들고 있음',\n",
       " '게임 한 경기만 놓고 보면 수준떨어지는 유저가 문제 그러나 전체적으로 본다면 이를 전혀 제재하지 않고 있는 운영의 문제',\n",
       " '정말 이기적인 겐지. 너가 이기적인 겐지 내가 이기적인 겐지이게임은 이기적인 겐지',\n",
       " '게임이 문제가 아니라 일부 유저가 문제지',\n",
       " '정답     개가 문제가 아니라 견주가 문제이듯겜이 문제가 아니라 겜을 하는 사람이 문제야 ㅋㅋㅋ',\n",
       " '병든 사회에 적응한 인간이 건강할리 없잖아요?그동안 다른 온라인 게임에서도 같은 문제로 홍역을 겪었던걸 생각해보면 유저의 문제가 일차적이고(대리,핵,트롤,욕설 등 전부 유저가 소비하는 행위니까요), 부차적으로 방관한 운영이 사태를 악화시켰죠. 사실 이제는 대리금지법이나 차별금지법처럼 제도적인 장치가 시급하다고 봅니다.',\n",
       " '액티비전이 그래도 fps로 게임을 만들었다면적어도 윈스턴 시메트라만큼 화면정도는 맞춰야 힐이들어가게 해야하는게 아닐까하지만 메르시는 아예 뒤돌아있어도 빨대가 안끊기고몰아주기에 특화가 되어있다.근데 보조무기가 나쁘지않은 권총인데메르시가 권총 쏠 시간에 빨대꼽고 있는게 낫다는 소리도 어디서 봤다.게다가 파르시라는 악마같은 조합역시 왠만한 조합으로는 손도 못댄다.메르시는 fps에 어울리지 않는 영웅이다...원래는 토르비욘 윈스턴 시메트라도 반칙에 가까운 느낌이지만메르시도 그렇다.내가 딜러를 할때 메르시가 제일 짜증나는데그이유는 메르시는 너무 쉽게죽고앞을보는게 아닌 뒤를 확인하면서 전투를 해야하기때문에까다롭다.그리고 상대편 메르시의 경우 빠르게 자르지않을경우 부활 그리고 빗나감 없는 힐로영웅을 거의 반 무적상태에 가깝게 만든다.힐을 하고 버프를 주는동안 그저 힐막대를 꼽고 주변을 둘러보며 딜러가 제발나를 신경써주기를! 하는게 과연 fps인가?하이퍼 fps라고 이런게 허용되는것일까에임을 덜 타는 영웅은 꽤 있는데사실은 이것들 역시 에임이 까다로운 영웅들에게 있어선 꽤나 불평등한 느낌을 준다.맥크리 난사가 480이던 시절 맥크리 메르시는 완전 깡패였다...메르시는 그냥 힐막대만 꼽고 있는데도 맥크리는 절대 죽지않고엄청난 딜을 뿜어낸다.난 그때 겐지를 자주 해왔기에맥크리 혼자 남았나 하고 들어가서 메르시가 힐줘서 역으로 당한게 한두번이 아니다.멀리서는 싸움이 안되고들어가서 메르시를 먼저 잡는거 역시 안되고유일한 돌파구라면 맥크리가 바보같이 섬광을 안쓰고 난사를 쓰거나 할때였다.물론 그런 맥크리는 없었다.지금이라면 그런 실수도 부활로 만회되겠지만...fps답지 않은 영웅은 많긴 하다.그런데 메르시만은 난 용서할 수가 없다.왜냐? 신성한 딜러의 싸움에 찬물을 끼얹는 존재니까나는 그래서 모든 힐러를 싫어했다.힐러없는 오버워치는 얼마나 재밌었을까 생각했었다.하지만 그런 세상은 오지 않았다.',\n",
       " '너같은 마인드가 지금의 돌진메타를 만들어내는거다 너같은 마인드가 현재 고정화된 돌진메타를 만드는거다 .',\n",
       " '충이네',\n",
       " 'ㅋㅋㅋㅋㅋㅋㅋㅋㅋㅋㅋㅋㅋㅋㅋㅋㅋㅋㅋㅋㅋㅋㅋ본문을 읽고 난 순간 추억회상을 했다.어렸을 적에 그림일기를 그렸던 모습을',\n",
       " '메르시 재패치해야한다고 보는 입장이지만 하이퍼FPS랑 일반적인 FPS를 비교하시면 곤란합니다',\n",
       " '그래 메르시도 에임캐로 만들자힐 빨대 우리팀한테 정확히 에임 맞추고힐하면 힐량 증폭되는걸로',\n",
       " 'fps가 아니라 하이퍼 fps다너의 앞말은 수호천사 쓰지 말라는 말이구나나쁘지 않은거지 좋은 권총은 아니고 지원가 포지로써 빨대가 나은건 당연한소리다니말대로 그 악마같은 조합의 파르시 메타는 어디가고 줫같은 돌진메타만 존재하는가¿다시한번 이 게임은 하이퍼fps이고 너야말로 이 하이퍼 fps에어울리지 않는 유저이다걍 에임 상관없는캐가 반칙이라고 우겨대는게 하이리스크 하이리턴만 추구하는, 옵치에 적응 못하는 일반 fps유저네 뭘이부분 기억하삼까다로운 영웅인건 아네너무 쉽게 죽는게 메르시라매¿아니 애초에 하이퍼fps는 일반 fps보다 캐릭 자유도가 높고 포지션이 있으며 팀끼리 협동하는건데 멜시 포지션이 부활시키는 정통힐러 영웅인걸가지고 \"fps에,,맞는 영웅인 거신가,,,,?\"하면 그게 말이야 개떡이야에임을 덜 타는 영웅 있지. 에임이 까다로운 영웅들 하니까 손해인 것 같으면 하세요 님이. 에임하나 필요 없다고 다 쉬운줄 아네. 입문만 쉽지,,너무 쉽게 죽는게 메르시라매¿22신성한 딜러의 싸움 방해하는 미천한 힐러여서 ㅈㅅㅈㅅ~~한낮 탱들 힐러하는 노비주제에 신성한 딜러에게 힐을 꼽아 너무나도 송고스러운 마음에 감히 앞에서 입을 떼옵니다^^,,너님이 원하는 힐러없는 오버워치는 절대 일어날리 없을테니 서든어택으로 파천하시는걸 어찌 생각하시나 아뢰옵니다(_ _)^^',\n",
       " '? 얘 겐지 밸런스 글 마다 !#*#!!@ 싸지르는 놈이잖아?',\n",
       " '신성한 딜러(현웃). 인벤이나 옵갤에 동조해주는 사람 수두룩할텐데 거기 가서 놀렴.',\n",
       " '소설쓰세요?',\n",
       " '메르시 사기인건 팩트 아님?경쟁전에서 그 좋은 평가를 받던 루시우를 픽하면루시우 빼고 메르시 하라고 팀원이 말할 지경임.이건 프로 레벨에서도 마찬가지임.지금 님들이 겐지 픽률 높은 거 보고 사기라고 그러는데,그 겐지보다 픽률 높은 게 메르시임.메르시는 사기 맞음.이미 북미 토론장에서도 메르시 더 하향해야 한다는의견이 지배적이고.근데 부활은 하향 안 했으면 좋겠음.부활 하향하면 예전의 메르시보다 좋을게 없음.대신에 발키리 배틀 리커버는 좀 하향해야 할 것 같음.발키리 쓰면 배틀 리커버가 피격 1초 후에 회복되는 게 아니라그냥 지속 회복인데,이것 때문에 메르시를 잡기가 힘듦.솔저,맥크리는 적이 멀리 떨어질 수록 주는 데미지가 적은데,메르시가 발키리 쓰면 하늘 높이 뜨니까 깨알 데미지밖에 주지 못함.그래서 솔,맥 뎀딜이 발키리 배틀 리커버를 따라갈 수가 없는 거임.그렇다고 발키리 지속시간이 적은가?20초씩이나 지속되서 한타 내내 쓸 수 있음.그렇다고 솔저,맥크리 원거리 뎀딜을 상향하게 되면파라가 고인이 될거고위도우,한조의 상위호환으로 거듭나게 되어서안 그래도 인식 안 좋은 저격캐 또한 사장될거임.그러니까 궁 킨 메르시의 배틀 리커버를일반 배틀 리커버와 동일하게피격 1초 후에 체력회복되게 만들어야 함.',\n",
       " '저는 반대합니다.  너프보단 생존기 E스킬에 이전 다인부활로 바꿔주든가 아니면 현상유지가 좋겠다는 게 제 생각입니다. (한가지 추가사항이 있다면 수호천사 쿨탐좀 제발 이전처럼 돌려줬으면 ㅡㅡ; 개불편하다진심)오히려 메르시에 버금가는 지원가 영웅들이 다양하게 나와야된다고 봅니다. 기존 영웅들 상향도 일부 이루어져야하구요(특히 아나) 그래야 메르시 외에 다양한 픽들이 선택되어 미러전이 아닌 다양한 판들이 벌어질 수 있게되는거죠메르시 너프되면(너프의 정도에따라 다르겠지만)다시 또아나, 야타 아나, 루시우야타, 루시우가 주를 이루게 될 것이고 그럼 이전과 다를게 없는 판이 벌어질 뿐입니다.결론은 새로운 힐러를 빨리 만들어주세요~!(아울러 시메는 지원가가아니라 수비진으로 옮겨주셨으면)이상 제 갠적인 의견이었습니다.',\n",
       " '현재 메르시 관짝에서 놀고있는 수준아닌가?',\n",
       " '솔직히 새로운 힐러영웅 기대중임',\n",
       " '저도 마찬가지입니다 근데 이번 신영웅 스포로 현재까지 알려진건 벽에 막을 설치하고, 거기를 지나가면 데미지를 주는 스킬을 지닌 영웅이라고 하더군요게다가 이게 지원가라고;;;',\n",
       " '이미 너프됐는데 뭔 또 너프 타령이세요?그리고 메르시 픽이 겐지보다 높은 이유는 공격군만 해도 지원군 머릿수를 뛰어넘고 딜러 전부 포함한다고 쳐서 수비군까지 합치면 월등이 숫자가 높음,그리고 힐러 수는 모든 영웅군에 비해 수가 적고, 메르시 캐릭터 특성 상 FPS 초보도 할 수 있는 접근성이 좋은 캐릭터라 어쩔 수 없이 픽률이 높을 수밖에 없어요.상대적으로 기준잡고 따지면 오히려 메르시 픽보다 겐지 픽이 더 높다고 봐야함',\n",
       " '이미 퍼섭에서 본섭 업데이트 되기 전 1차례 너프, 또 본섭에서 딜러들이 메르시잡기 힘들다고 빽빽 거려서 수호천사 너프와 궁극기 부활 쿨타임 초기화 삭제너프를 했는데 뭔 아직도 너프 타령임',\n",
       " '이쯤되면 메르시가 힐러 중 가장 너프 많이 당한거 아닌가. 아나도 너프 1차례 먹고끝인데, 메르시는 너프만 2차례.심지어 아나는 너프 당하면서 힐류탄 범위 증가라는 소소한 버프까지 챙겨갔는데메르시는 너프만 ... ^^',\n",
       " '개발진들이 메르시의 특색인 부활을 유지하면서 한타에 적극적으로 기여할 수 있는 메르시를 목표로 둔 것 같지만,부활이 일반스킬로 있는 이상 메르시의 1티어 행진은 멈출 수 없을 것 같습니다.저는 개인적으로 부활을 다시 예전처럼 궁극기로 제한을 둬버리는 것이 낫다고 느껴집니다.그리고발키리는 저도 NAIVE님과 같이 피격 1초 후 회복이 되게 만들면 좋을 것 같습니다.최정상급 에임실력을 가진 프로게이머들 조차 에임으로 발키리를 쓴 메르시를 잡기를 포기하고 전술조준경과,황야의 무법자에 의지하게 되는데 이것은 발키리의 자가치유 강화가 너무 강하기 때문에 그런 것 같습니다.(사실 지원가 추가가 매우 필요합니다.아주 많이요.)',\n",
       " '메르시궁 진짜 못쓰는놈은 정크로도 잡아욬ㅋㅋㅋ',\n",
       " '지금 메르시는 부활 애메하게 되면 팀원 다 죽고 지 혼자 빙빙 날라다니다가 죽는게 대부분인데거기다가 궁쓰고 자가치유까지 피격후 1초 후?그건 궁을 쓰지말라는거지그 크고 빛나는 날개 달고 어그로 겁나 끌면서 날라다니는데 거기서 치유마저 안되면 궁을 왜 씀그리고 메르시도 궁쓴건데 딜러들도 전술조준경이나 석양정도는 땡겨줘야지딜러궁에 지원가 궁은 당연한거고 지원가궁에 딜러 궁은 그렇게 아깝나',\n",
       " '메르시의 발키리는 무한 활공이 가능하기 때문에 거리가 벌어지면 데미지가 급감하는 솔져와 맥크리는 어찌할 방도가 없고 저격수들(위도우메이커,한조)은 비주류라 잘 보이지도 않고 발키리의 강화 능력 중 하나인 힐 유효거리 증가 덕분에 팀원과 멀리 떨어져도안정적으로 힐을 체인힐로 계속 넣어줍니다.전술조준경과 석양으로 잡는 경우도 메르시가 충분히 상대의 딜러궁을 예측하고 계산하여 포지션을 잡고 지형지물을 이용하면 피하는 것은 매우 쉽습니다.그리고 보통 딜러들의 궁극기로 첫킬을 내고 한타를 시작하는 것을 메르시가 부활로 카운터 치고 있는 상황이니,더더욱 힘들다고 할 수 있겠죠.발키리 궁은 메르시의 이동속도도 상승시켜 주고 있고 초당 50의 자힐과 무한 활공,힐 유효거리 증가,체인 힐 부활 갯수 추가로 생각보다 매우매우 강력합니다.그리고 어그로가 끌리기는 하겠죠.날개가 커진다고 피격 판정은 늘어나지 않습니다.',\n",
       " '[/quote]조건사항이 좀 많네요 ^^;;1. 상대의 딜러궁을 예측하고2. 계산하여3. 포지션을 잡고4. 지형지물을 이용하면피하는게 매우 쉽다니요조건이 4개나 되는데 4개중에 하나라도 안되면 피하기 어렵다는 말 아닐까요?저런 상황이 나오도록 딜러, 힐무는 탱커들은 노나요?',\n",
       " '궁쓴애를 궁안쓰고 꽁으로 먹을생각말고 궁을 쓰세요궁안쓰고 멜시 딸려다가 못 따니 너프하라니 딜러궁이랑 힐러궁 맞교환하기는 싫은 생각이 참ㅋㅋ',\n",
       " '한타를 시작할때 보통 힐러먼저 짜르는데 멜시가 막고있다는건 무슨 소리인가요?멜시 궁 속도 빨라도 솔져나,맥 궁에는 순식간에 당하고 1인분만 하는 위도 있으면 날아다닐수도 없어요',\n",
       " '솔까 발키리 벨붕임 ㅋㅋㅋㅋ같은힐러 젠야타궁이랑 비교만해봐도ㅋㅋㅋ',\n",
       " '원래 있던 메르시 혐오랑 더해져서 의견 표출하는 사람 굉장히 많은 것 같아요. 그냥 킬했는데 부활시켰다고 메르시가 싫다는 수준도 더러보이니까요. 같은 논리면 부활시켰는데 다인킬 궁으로 죽여버리면 허탈하니까 사기되는겁니까. 발키리 성능에 조정이 필요하다면 하겠지만 궁극기인데 그걸 그냥 에임으로 못잡는다고 사기라고하는 소리도 그만 봤으면 좋겠네요.차라리 발키리 하위버전이나 도주기를 E 스킬로 주던가했어야했어요. 아니 그냥 이럴거면 힐러를 없애던가해야지 참..',\n",
       " '아니 1300점대오니까 게임 진행이안되잖아4금으로 도배하면뭘하냐고ai 중수수준애들 4명데리고 뭐하라고ㅋㅋㅋㅋㅋㅋㅋ',\n",
       " '트롤들 연속으로 만나서 브론즈로 떨어지고딜러 죽어도 안빼서 루슈했는데 루슈로 킬딜힐금 먹고 짐ㅋㅋ 뭘해도 킬딜금 먹는데 계속 짐 뭘 어쩌라는건지 솔큐로 돌리다보니 이제 친구들이랑도 점수 차이나서 같이 못돌림',\n",
       " '1300이하가봐라 부캐VS부캐 싸움임 이!@것들미국새끼들 방관주의 마인드 #!%!#* 맘에안드네',\n",
       " '티어분포도 개판인게 3000점이 24프로라던데...',\n",
       " '어떨것 같으세요?그냥 제 개인적인 생각이니 재미로 읽어주세요~~바스나,오리사를 메르시가 치료하는것보단 토르비욘 망치로 치료하는것도 어울릴것 같아서요.간혹 메르시 혼자서 봐왔던 아군 케어가 쉽게 분산되어 줄 수도 있고 방어구 개념이 좀 더 명확한 힐팩의 역할을 해줄 수가 있게 되는거잖아요.또한 포탑에서 레이저가 아군을 치료도 해주며 공격도 가능하다면 더 이상 지금의 트롤픽의 인식이 박히지도 않을것 같네요.궁극기는 포탑의 힐딜량이 더 높아지면서 힐딜을 동시에 서브할수 있게 만들면 좋을것 같아요.모든 영웅이 좀 더 공격,수비진영 가릴것 없이 유용하게 사용이 되었으면 좋겠다는 생각이 들더라구요.',\n",
       " '차라리 포탑 데미지 좀 줄이고 궁극기 다른걸로 바꾸고 우리팀한테 망치질하면힐 가능하게 해서 팀 치료하면 고철이 얻을수 있고 고철 차는 속도 증가시키고 지원가로 바꿨으면 ....궁극기는 10초간 드론을 띄우면 드론이치명타 뜬 아군 자동으로 찾아가서 힐해주고치명타 뜬 적 자동으로 추적해서 포탑 1단계딜 정도로 공격하는 궁극기그럼 지금보다 픽률 훨 늘어날듯',\n",
       " '옴닉이나 사이보그도 톨비가 고치면 그건그거대로 웃길듯.설정상 바스티온하고 오리사(정확히는OR15)제작에 토르비욘이 일조했다는데 이젠 톨비가족메타인가....?',\n",
       " '근데 토르비욘이 망치로 쳐서고치는데 다른애들은 망치로치면 망가질거같은데요 ㅋㅋ흠..재밌긴할거같은데',\n",
       " '아니면 그냥 망치로 치료한다는 개념을 없애버려도 방어구가 힐팩의 역할을 해줄 수 있으니까 충분할것 같아요. 거기다 포탑이 힐까지 가능하게된다면 뭐 더 이상 힐러로 안성맞춤이죠.그럼 공격진영에서도 많이 쓰일테구요',\n",
       " '제발 빠른대전에 나갔을 경우 불이익좀 없애주시라니까요솔직히 공격에서 한조 위도우 바스티온 토르비욘 시메트라가 같은팀이면 GM분들도 하기 싫으신건 인정하시잖아요 재밌을려고 즐길려고 하는 오버워치인데 문앞을 나가기도 힘든데 이 게임을 나갔다고 불이익을 주시면 어떡합니까? 제발 좀 없애주세요 몇번 째 문의드립니다. 어떻게 이런 조합에서 리스폰지역을 벗어나기도 힘든데 즐거운 게임을 하겠습니까 할 수 있다고 말하시면 제가 친구들과 함께 저조합으로 같은팀으로 GM분과 게임을 해보고 싶습니다. 진정 즐길 수 있으신지...',\n",
       " '오늘 경쟁전을 하는데 거점을 비벼야하는상황에서 자리야가 궁을 쓰고 죽엇는데 우리베이스에서 멈춰서 안나가길래 자리야뭐하냐 라고 말했더니 갑자기 !@#를턴다고 말투띠껍다며 못하면 닥치고 버스타라고ㅋㅋㅋㅋ또 여자라고 입터냐 하면서 자꾸 계집년 븅신년 이라고 욕설을 퍼부으며 힐러계집년들은 이래서 안된다 하며 제인생에서 제일욕많이 먹은게 지금인거같네여...ㅋㅋㅋ내참 제가 잘못한거면은 뭐라 안하겠는데 그사람이 궁을막썻다고 제가 아 궁이상하게썻어 라 한것도 아니고 가만히있길래 자리야뭐하냐라 한건데 이리말한게 그리 잘못한건지 이해를 할수없고 또 여자라고 뭐라하는데누가 버스태워달라고한것도아니고 에임안좋으니깐 하기쉬운거라도 해가지고 내가 게임을 즐기고 최대한피해 안줄라하는데 사람을 그렇게 까지 무시할필요는 없지않앗나싶다ㅋㅋㅋㅋㅋ게임그렇게 하시지마세여 말한번잘못햇다가 ㅏ골로가게생겼네진짜ㅋㅋㅋ아이디  인데 게임상이라고 그리 하지마세여 그냥생각없이 뱉은말이 상처 어마어마하게 줄수도있어여글고 제발블리자드는 신고하거ㅓ쫌 처리해주세여..이러니 옵치망겜이라하지여사진도 찍어둠진심으러 신고하고싶엇음여',\n",
       " '저도 어그제 그런 인신공격형비매너 봤는데 짜증나더군요ㅡㅡ지도 할말 없는데 화는 나니 고작성별따위로 꼬투리 잡고 그런건데글 읽어보니 님탓하나 없고그넘이 걍 쓰레기니 그딴놈은무시하고 똥 밞은셈 치세요추천드리니 화푸시길, 참고로 아이디 알면 신고는 필수ㅋ',\n",
       " '제발 남한테 뭐라하지 마세요제발 부탁위에분은 뭐가 문젠지 모르시네',\n",
       " '글 좀 읽고 글을 쓰세요',\n",
       " '하지만 극카운터를 꺼내면 할만근데 극카운터를 뽑으면 원거리가 약해짐',\n",
       " '극카운터는 아니지만 솔저: 76으로도 상대할만 하지 않나요.상대 윈스턴이 점프팩으로 자기에게 날아오는거 보고 뒤로 달려서 거리벌리면 윈스턴 할게 없는데',\n",
       " '그리고 전장이탈하면 힐러들다죽죠',\n",
       " '전장을 왜 이탈해요??? 도망치라는게 아니라 윈스턴과 거리벌리고 싸우라는건데요...?윈스턴기본속도 솔져기본속도 똑같아서 좀 뒤로 달린다음 사격개시하면 윈스턴 방벽밖으로 나오지 못해요. 쫓아가봐야 손해인거 아니까.그리고 힐러가 죽는다고 하셨는데 잘 이해가 안가네요. 어떻게 해야 솔져가 거리벌렸다는 이유로 힐러가 죽어야 하는건지.우선 솔져는 힐러 호위전문도 아니고 솔저는 2층사수하고 지속딜 넣는게 주요임무라 애시당초 솔저물러 부스터쓰고 왔으면 힐러는 못물러 가거나 혹은 힐러와 솔저가 같이 있어서(이 경우는 라인같은 메인탱커가 있어서 솔저가 본대와 계속 합류하는 경우) 함께 포커싱할 수도 있어요.(힐러호위전문은 맥크리나 리퍼등등, 리퍼는 팀과 합류했을 경우에만)그리고 설령 윈스턴이 지원가 물러왔어도 꼭 죽는 보장이 없는게메르시: 솔저가 윈스턴에게서 멀리 거리벌리면 솔저가 간 곳 따라가면 됨. 그 이후에는 솔저한테 계속 힐주면 메르시 초당힐량60 VS 윈스턴초당딜량57이라 솔저절대 안죽어서 오히려 윈스턴이 도망쳐야함.루시우: 솔져없어도 잘 살아남을 수 있음.소리파동(넉백)쿨타임도 4초로 짧고 벽을타던 이속업을 키던 윈스턴 못쫓아오게 만듦.참고로 윈스턴 부스터 쿨타임 6초.젠야타: 게다가 빠른 투사체공격인데 윈스턴은 가까이 접근해야 공격가능하므로 그마저도 투사체라는 단점이 사라져서 더 빨리 녹습니다.무엇보다 야타특성상 포지션이 지원사수라 항상 탱커나 딜러랑 같이 다닙니다.아나: 덩치커서 수면총 맞추기 쉬움. 게다가 생체수류탄때문에 사실상 체력 300. 윈스턴이 방벽으로 아나 가둬도 윈스턴이 보통 200체력대의 영웅죽이는데 3초정도 걸려서 자힐있는 아나는 빠져 나오는데 시간충분함. 윈스턴이 추격하려고 방벽에서 나오면 수면총 쏘면 됩니다.그나마 윈스턴 혼자서 잡기 쉬운건 시메트라. 시메트라 기본공격부터 기술 대부분이 윈스턴에게 무력함. 시메트라가 저항하면 윈스턴이 방벽안에서 강강술래하면 됨. DPS는 시메가 강하지만 윈스턴은 그걸 버틸 체력이 있음.지원가는 생각하시는것 만큼 바보가 아닙니다.그리고 가장중요한 건,다른사람이 들으면 윈스턴이 무슨 강력해서 킬딸하는 영웅으로 착각할 거 같아요.',\n",
       " '포탑없이 톨비로도 잡는 윈스턴 ㅋㅋㅋ겐트충이 또 디바 로독도 모자라 윈턴도 못잡아 너프시키려내 ㅋ윈스턴 카윤토는 널리고널렷는대 겐트원챔충은 오늘도 아우성이구만제발 머리나쁘면 양심이라도있어라',\n",
       " '제가 메르시 할 때도 윈스턴은 만만한 편이었어요 리메이크 전이든 이후든 말이죠',\n",
       " '사실 윈디만 있으면 디바가 딜 다넣어줘서 돌진에서 절대 안꿀림.',\n",
       " '??? 당연히 힐러한테 뛰는데',\n",
       " '처음에 님이 하신 말씀 기억안나시나요.솔저가 전장이탈하면 힐러죽는다면서요.힐러한테 뛰어가면 윈스턴이 자기한테 오지도 않는데 당연히 전장이탈이니 뭐니 할 필요가 있나요.뭐 그렇다면 님말씀대로 힐러한테 뛰었다고 해요.윈스턴이 솔저마크안함.⬇솔저는 아무런 영향없음. 계속 고지대에서 딜링.⬇메르시는 물릴 경우 고지대에 있는 솔저찾아감.(루시우와 야타등등 왜 언급안하는줄 아시죠? 얘넨 애초에 메인힐러 아니라서 모든사람을 전부케어해줄 수 없어서 탱커있는 본대에 합류함. 솔저랑 붙어야하는 의무없음. 그리고 이전글에 윈스턴 대처법적어놓음.)⬇윈스턴이 쿨타임되는대로 다시 부스터로 메르시와 솔저있는데 날라와도 이전글에 말한대로 HPS가 윈스턴DPS보다 압도적이라서 윈스턴이 솔저못죽임.⬇솔저무시하고 메르시만 때릴려고 하면 메르시 다시 고지대에서 내려가거나 다른 팀원찾아감.⬇윈스턴이 메르시 따라 내려가면 수호천사쿨타임이 2초라서 메르시가 다시 올라감.메르시 포기하고 솔저물려고 하면 솔저 질주로 거리 벌리고 교전.⬇반복이글에서 말한 캐릭의 유저들이 동실력인 이상 성능에서 윈스턴에게 꿀릴이유가 없어요.이럴바엔 차라리 윈스턴이 아니라 겐지나 트레이서가 출동해서 물어야 합니다.얘넨 루시우 야타 아나 메르시 솔저모두 추격/방해/암살할 수 있는 기동성과 기술이 있으니까요.',\n",
       " '근데 윈스턴팀은 노는것도 아니고 일단 윈스턴이 점프해서 메르시 지지면서메르시 반피 깎고 도망가게만 만들어도 거의 90%는 이득인 상황인데요.메르시입장에선 윈스턴 피해 도망가느라 전형 붕괴된 상황인데, 요즘 돌격메타라서윈스턴이 메르시 정신 빼놓은 사이 윈스턴이랑 같이 들어온 겐지,트레이서가 메르시바로 죽여버립니다. 그리고 솔저가 메르시 힐 받는 상황만 가정하시는데, 윈스턴팀힐러들은 노나요. 솔저가 딜 넣어도, 윈스턴팀 아나가 계속 저격힐 해주거나 젠야타가조화의 구슬 콩나물 윈스턴한테 달아주면 윈스턴 피 거의 깎이지도 않는데... 거기다 힐벤이라도 맞거나 솔저에 부조화라도달리면 솔저는 GG',\n",
       " '하 진짜 이분은 겐지蟲이네 진짜',\n",
       " '얘도 그냥 믿고 거른다',\n",
       " '솔직히말해서 로드호그 롤백시켜주면 돌진조합이든 뭐든 거의 대부분이 해결됨',\n",
       " '사실 메르시가 팀원들 동선파악해 놓고 있으면 윈스턴 날아오는거 보고 그전에 날아가서 반피깎일 일도 없겠지만요.(물론 메르시가 자기한테 윈스턴이 날아오는데 빨리 도망못치면 오히려 윈스턴 부스터 착지뎀:30~50 + 착지 직전 메르시에게 근접공격30(착지직전 근접공격맞추고 착지하면 착지모션때문에 근접공격모션이 캔슬되서 근접공격하자마자 테슬라캐논으로 지질 수 있음. 딜로스도 줄어들고 실질적으로 상대에게 80데미지 주고 시작하는거나 다름없음. 결국 피지컬 싸움)제가 이 이전글에 도망가는 상황가정해놓고 이런얘기하면 이상할지도 모르겠지만 애시당초 메르시가 솔저한테 도망갈 정도면 주변 탱커나 딜러가 제대로 메르시를 못지켜주는 상황이라 힐러가 보호받지 못하는 시점에서 윈스턴이 진형붕괴안시켜도 질 거 같은데요.그리고 윈스턴 역할이 진형붕괴가 목적인 브루저인데 이거마저도 못하면 윈스턴은 그냥 심각할 정도로 똥캐가 아닐까 싶어요.그냥 이 질문에 대한 결론만 말씀드리자면 이 토론글 제목이 이라고 되어있길래 윈스턴은 사기가 아니라는것만 알리고 싶었을 뿐이였는데 제가 경솔하게 말했다면 죄송합니다.오해하게 만들었다면 죄송합니다. 다시 정정해서 답변드릴께요.솔저뿐만 아니라 상대 윈스턴도 당연히 지원가의 케어를 받고 싸우는 걸로.일단 계산해보니 솔저DPS근중거리 76(처음 초탄네발은 착탄없음)~190(전탄명중시DPS가 190)이고 윈스턴은 기본DPS 57이고 젠야타부조화까지 지원받으면DPS 74가 되네요. 윈스턴의 공격력이 메르시의 HPS를 상회하게 됩니다.다만 한가지 변수가 있는데 메르시쪽도 공버프를 제공하면 DPS 98~212나오는데다가, 그냥 힐을 제공할 시 HPS60, 거기다가 솔저가 생체장(생체장HPS: 40)을 깔면 HPS100입니다. 또 다시 힐량이 윈스턴의 공격력을 상회하네요.그것과는 별개로 궁금한게 있는데 돌진조합인데 아나가 나올 수 있나요? 돌진조합은 루시우 젠야타가 담당하는 걸로 아는데.아나가 없으니 폭힐이 불가능하고 힐밴도 기대할 수 없고 무엇보다 야타는 딜지원에 올인한대신 생존기가 전무하고 기동성이 없어 고지대에서 싸우고 있던 솔저가 윈스턴하고 거리벌리느라 아랫쪽 전망이 다 보이는 고지대에서 뒤로 물러서기만 해도 시야에서 사라져서 야타가 딜지원을 못해줘요.그리고 팀에 딜러가 솔저만 있는게 아닌이상 야타도 물릴수도 있어서 적후방에 가있는 윈스턴을 도와주기에는 완전한 지원이 힘들다고 생각해요.틀린부분이나 오타있다면 지적부탁드립니다.',\n",
       " '정치때문에 열심히 하려고하다가도 빡쳐서 못하겠네',\n",
       " '겐트는 진짜 맘먹고 카운터들 쳐버리면 꺼내면 트롤픽이고그냥 윈스턴이 성능이 더 좋아졌기에윈스턴이랑 같이들어갈수있는 딜러들이 덩달아 픽되는거에요근데 겐트를 너프하자는거는 좀 아니죠 ;;',\n",
       " '윈스턴이 더 좋아진게 아니라 호그관짝들어가고 리퍼가 찐퍼가 되면서 윈스턴 카운터가 잠시 사라졌던거임. 지금도 웃긴게 리퍼 상향시켜서 윈스턴 하드카운터 됐는데 리퍼가 겐트를 못당해내서 리퍼를 못꺼냄 ㅋㅋㅋㅋㅋㅋ 겐트하향되면 리퍼도 비교적 숨통트이고 자연스레 윈스턴도 간접하향이다.',\n",
       " '윈스턴도 방벽쿨줄었는데상향인건 맞죠',\n",
       " '내가 지금 좉중딩이랑 얘기하는건가 왤케 핵심을 못짚어? N뭐시기 투야?',\n",
       " '윈스턴 버프먹은거 펙트인데ㅋㅋㅋ 방벽쿨 설치하자마자 도는걸로 바뀐게 얼마나 큰데 ㅋㅋㅋ',\n",
       " '윈스 방벽쿨 버프먹고 헤드판정 감소하면서 돌진메타 온거 맞구만 ㅋㅋㅋ실제로 픽률 그래프 봐도 2,3월달에 윈스 버프 이후로 겐트윈디 픽률 쭉 올라감',\n",
       " '응 그때쯤 로드호그도 10너프 당했지 헤드판정은 솔직히 너무 넓었었고 방벽쿨은 생존용도의 스킬같지만 윈스턴이 공격을 가능하게 만들어주는 공격형 스킬에 가깝지 지금 예전이나 지금이나 윈스턴은 한번 뛰어들면 방벽을 한번만쓰지 두번씩 못쓰잖아? 단지 쿨이 빨리 돌기때문에 전보다 더 짧은 텀으로 적진에 뛰어들 수가 있지. 근데 그런 공격적인 면은 그렇다치고 헤드판정이 줄었다고해도 그렇지 윈스턴의 생존력이 이전보다 지나치게 높아졌어. 나도 윈스턴 잘하는 편이 아닌데 솔큐로 kd가 4.68이야 이건 윈스턴 버프의 문제가 아니라 그나마 살아있는 카운터였던 호그의 너프가 커 요즘에는 리퍼가 다시 상향되면서 그마에서의 윈스턴 픽률이 기존보다 18%가 떨어졌어. 전체적인 데이터나 상황으로 봤을때 윈스턴의 버프보다 카운터들의 관짝행이 윈스턴의 생존력을 더 높혀줬고 이 사단이 난거야.',\n",
       " ' 방벽쿨상향되서 방벽 두개쓰냐? 생각좀하자.그냥 윈스턴도 킬하면 방벽쿨초기화시키는건어때?',\n",
       " 'ㅇㅇ 맞는말임 더 자세히 설명못했는데 그 당시 아나의 너프와 로그호그의 너프, 동시에 윈디 버프 받으면서 돌진온거지',\n",
       " '산탄 공격에 대한 튕기기를 절반만 튕겨내고 절반은 피해를 입게 바꾸면 좀 더 나을 듯 한데...',\n",
       " '그러면 죽는데...',\n",
       " '좀 겜알못들 많네. 돌진메타는 겐트보다 윈디가 중요하고 거기에 겐트랑 루젠넣으면 포커싱위주 아나넣으면 수비때 유지력위주고 솔트나 둠트, 둠맥 등은 받아치는 메탄데 아무튼 중요한건 윈디는 절대 안빠진다는거임',\n",
       " '윈스턴은 요즘 많이 빠지는 편인데?',\n",
       " '그래 겐지를 너프시킬려면 윈스턴도 죽이란 소리구만 그럼 죽이지말고 다 살리자 솔져 공격력 다시 20가고 아나 80가고 로드호그 깡패시절로 되돌리고 맥크리 난사 공격력 돌리고 루시우 속도.힐 범위 늘리자 또 살릴만한거 있냐?',\n",
       " '겐지용검8초요그리고 윈스턴 너프하자는게아니고겐지만 해서는 못올라간다는거죠즉 여기서 더 너프먹을만큼 사기가 아니라는말글어디에 윈스턴 너프하자는게 써있는지그냥 윈스턴이 버프먹고 돌격메타가나오는거라는 글이에요',\n",
       " '아니 겨우 2460에서 2연승해서 겨우 2507찍었는데1번 졌다고 2478??? 이게 말이냐 방구냐진짜 점수좀 개선해라',\n",
       " '그 한 번에서 혹 메달이 동 미만이라면 많이 떨어집니다. 져도 금메달 많으면 점수가 진짜 적게 떨어지더군요',\n",
       " '힐금가지고있었는데요ㅠㄷㅠ',\n",
       " '그런거 없음 딜러잡고 3금1은일때도 저러드만 그건 뭐임팟지도 따고 칭찬카드도 뜨고 이길거 막판에 한명 탈주해서 못이긴건데',\n",
       " '새벽에 6판 했는데3판은 적이 트롤짓3판은 아군이 트롤짓뭐 어쩌라고요 진심 이따구로 관리를하면......롤이나 배그한테 쳐 털리는 이유가있습니다해도해도 너무하네 좀 재밌게좀 게임 해보고싶네요욕설을하고 트롤짓을 졸라게해도 대체 얼마나 신고를 쳐먹어야 정지인건지',\n",
       " '정지 되긴 한다던데요글보니까트롤신고 많이받아서 정지됐다고',\n",
       " '롤처럼 팀랭 따로만드는게 낫다고 봐요.이 경쟁전 시스템을 유지시키고솔로랭크를 새로 하나 만들면 좋을 것 같네요.이유는 다인큐는 경쟁전에서의  실력의 배분이 적절하지 않다고 생각하기 때문입니다.잘하는 사람 두명으로 듀오를 돌리기만 해도상대듀오와의 실력차이때문에승패가 갈립니다.그러니 솔로랭크를 만들어서 1시즌을 새로 시작해보는건 어떨까요?',\n",
       " '안보여주는거임답답해미칠거같은데힐러는 뭐 죄다 투시경이라도 있나?피달면 피달았다고 표시까지 해주고',\n",
       " '다른 영웅들도 팀원 위치 다보여요',\n",
       " '딴영웅안해보셧나?위치만보이는데',\n",
       " '이건 진짜 좋은 아이디어네요.자리야나 톨비등등 할 때 팀원들 체력상태하고 위치 항시로 알고 싶었는데.딜러나 탱커들도 설정메뉴에서 설정해놓으면 힐러처럼 팀원상태실루엣볼 수 있는 기능있었으면 좋겠네요.',\n",
       " '확실히 그렇네요 팀플레이 게임인데 같은 팀원의 실우엣은 보여야 서로 합이 맞기가 쉬우니까요',\n",
       " '실루엣은 아닌데 설정에서 아군 체력바 활성화 하면 벽뒤에 있는 아군 체력바 볼 수 있음',\n",
       " '체력은 모르겠고, 탭키 안눌러도 아군 궁극기 차면머리 위에 궁극기 차있는 표시 해줬으면 좋겠음.',\n",
       " '난독이신가? 위치는 다 보인다고 말 하는데 위치만 보인다고ㅡㅡ;....',\n",
       " 'ㅋㅋㅋLaser랑 토론하는 건벽이랑 토론하는 거랑 같음남이 한 말은 듣지도 않고 그냥 지 할말만 함내가 봤을 땐 님들 피시방 갔을 때 흔히 보이는 칼선픽겐지충 급식임아니면 그런 수준밖에 못 미치는 나이 거꾸로 먹은 아재거나',\n",
       " '설정가서 바꿀 수 있습니다솔저같은 경우는 체력을 주는 입장이다보니 그렇게 해논 기억이 있네요',\n",
       " '아니지원가말고 안보인다니까요...우리팀 체력이 보이는거는 팀원들이 시야안에 있을때구요',\n",
       " '뭐지?열심히 썼는데안올라가네',\n",
       " '오버워치에서는 고의 패작과 욕설은 게임 내 신고 시스템을 통해서 접수를 받아 최초 침묵제재 부터 일시 정지, 영구 정지까지 점진적으로 강력한 제재가 적용되도록 되어 있습니다.라고하엿지만 고의 패작의 구체적인 기준조차 유저는 알지를 못합니다기본적으로 협동을 요구하는 오버워치에서 처음부터 1명 이상이 협동을 하고자하는 의사조차 없는 플레이어는 6대6이 아닌 6대5를 하는것과 같습니다 설령 신고를 하여 제재가 들어간다 하더라도 오버워치 유저수의 비하면 아주 소수의 계정만이 영구정지 또는 일시정지를 받은 것 뿐이고 무작정 신고를 하여 블리자드 측에서만 알고있는 기준에 따라 신고유저를 판별 할 수록 유저는 제대로 된 제재를 받았는지 의심이 되며 블리자드측은 넘치는 신고판별에 많은 힘이 들거라 생각 됩니다.또한 경쟁전의 시스템에서 보통 대다수의 유저가 패작을 한다고 생각되는 구간인 브론즈 실버 골드 플래티넘 구간에서는 골드에서 플래티넘가는 과정에서 패작유저와 팀을 이룰시에 컨디션과 흐름 등이 끊기는 등의 영향을 받아 정상적인 플레이및 승률이 나오지 않은 유저도 상당수 된다 예상되며 이것등 다양한 문제로 하위티어가 실력이 향상돼더라도 제자리 걸음을 하는 듯한 느낌을 주어 좌절한 사람들이 게임을 던지는 이유라 생각 됩니다. 블리자드는 좀더 유저에게 의욕을 불어 넣어 줄수 있는 점수제도를 만들어야 한다고 봅니다.오버워치는 유명세를 타며 유저수가 폭발적으로 증가하여 승승장구하였지만 그 반동으로 LOL 과 같은 비매너에 해당되는 행동들이 매우 많다는 생각입니다그리고 한국에서만 그러는지는 모르겠습니다만 경쟁전에서의 매우 고질적인 경쟁전 종료공지 후에 고의적 패작들이 많습니다 예를들어 팀원들의 영웅선택이 전부 공격영웅들을 선택 하였을시에 악질적인 상성의 영웅선택 등으로 패배 하는경우가 흔합니다 이걸 블리자드 측에서는 패작이라 보아야 하나 매우 애매 하게 됩니다 영웅유형에 따라 조합을 선택하라는 법이 없으니 말입니다6공격영웅을 선택하였을 때 패배 한것과 실상 다르지 않습니다.아무리 팀워크게임으로 설계되었지만 6명중 1명이 나머지 5명에게 욕설이 아닌 욕을 하는 경우에도 합리적인 조합에 따르지않고 악질적인 조합이 나오는 경우가 빈번합니다.정리하면 블리자드는 제재를 하여 깨끗한 게임환경을 만드는것이 아닌 유저들이 자발적으로 깨끗한 게임환경을 만들수 있도록 시스템을 설정해야 할 것입니다.물론 핵유저는 얄짤없이 영구정지를 해야 합니다.',\n",
       " 'https://imgur.com/kHDbE6Thttps://imgur.com/fSunbG1https://imgur.com/HXS93g0사실상 이런 엠창마인드 부캐새끼들이 널렸다고 보면된다목처는 높음 근데 게임을 안함지가 게임하고싶으면 상대팀 학살이되고 안하면 그냥 연습모드임그사이에 낀 열심히 하려는 사람은 병신되는거임1.이런새끼들 특징이 시작부터 한조, 위도우 선픽하고 연습모드. 팀분위기는 !@만듬2.지 기분이 맘에들면 상대팀학살 아니면 트롤3. 사실상 밸런스파괴의 주범이새끼목처 https://imgur.com/iiW499s이런애가 1200대와서 쳐놓고있음. 와보면 이런애들 널렸다더 큰 문제는 스샷까지 찍어서 신고해도 아무 소용없음블리자드 개x끼',\n",
       " '파티큐를 해야 이길수잇는 혼자서를 절대로 상위티어로 갈수가 없지.. 개같은거.. 나보다도 못하는놈들도 다이아에 가있더군.. 물론.. 다인큐를 맫고나서 억지로 올라갔지.. 혼자서는 절대로 올라갈수가 없지.. 단한단게 상위티어도.. 운빨 !망겜',\n",
       " '올라갈 수 있습니다.',\n",
       " '님 왜 아나하세요? 지금 메르시(+젠야타) 세상이라 아나로 캐리하려면 마스터 이상급으로 잘 해야해요. 차라리 파라랑 위도우 하세요. 1~2티어만 잘해도 실버로는 절대 안떨어져요.',\n",
       " '팀게임 맞음. 팀운빨겜이라서 팀게임임',\n",
       " '고건 오버워치에 지문인식이 없기때문이구요',\n",
       " '신캐릭터 30개쯤 추가를 하든지롤처럼 미니언(인공지능) 생성하고 템을 사서 능력치 강화/변화하고화물뽀개는 fps+aos를 만들든지rpg로 탈바꿈해서 넥슨을 능가하는 도박겜을 만들든지pne vs. pne 를 새롭게 만들든지pve 여러개를 재밌게 만들어서 내놓든지 (10개정도? 재탕하지말고..)캐릭터마다 스토리로 콜옵이나 배필같은 싱글 플레이를 만들든지..(스토리 컨셉에 맞는 스킨도 증정하면 더할나위 없겠군) 거기에 블리자드가 잘하는 시네마틱 영상도 들어가면 구매해줄 의향은 있다.아무 쓸모없는 일러집이랑 공식공략북 이런거 팔아재끼지말고유저들이 떠나가기 전에 잡아라..트롤러, 다인큐대리, 패작도 좀 뿌리뽑고.남아있는 애정도 사라질 판..어제 클라 지웠다. 신캐릭 한 10개 추가 되기 전에는 플레이 안할 듯',\n",
       " '뭐지 꿀잼 누가누가 더 쎈가 대전이네',\n",
       " '아닠ㅋㅋㅋㅋㅋ 메르시 진짜로 장난안치고 궁극기 쓰지도 않은 메르시 쟁탈전장에서 한 6대를 맞춰도 발키리로 살아서 힐받고 또 살아서 힐받고 이게 뭐야... 예전엔 메르시 생존기가 부족했다는거 인정하지만 아무리 그래도 그렇지 요새 메르시 너무 날아다녀서 맞추기가 힘듬;;;;심지어 파라까지 있으면 그냥 팀원들이랑 \"하... 포커싱좀...\" 이러면서 포커싱 맞추려고 노력해도 동서남북위아래로 빠르게 날아다녀서 맞추기도 힘들다... 내 에임이 이펙트님 급이였다면 모를까... 아예 팀 자체에 메르시가 없으면 대치상황도 안되고... 힐, 딜 사이의 밸런스를 맞추지 못할거면 둘 중 하나의 직업군을 삭제를 하십시오...',\n",
       " '(바쁜 애들은 첫 부분만 봐라)난 겐지 유저가 아니라 겐지랑은 상관이 없고,티어도 골드라서 그마급으로 게임 이해도가 높은 것도 아냐.근데 왜 겐지 하향 반대하는 줄 아냐?니네가 원하는 겐지 하향안이1. 겐지 용검 딜 감소 2. 겐지 질풍참 초기화 삭제 3.겐지 질풍참 딜 삭제이건 미쳤어. 진짜 미쳤다고.ㅡㅡㅡㅡㅡㅡㅡㅡㅡㅡㅡㅡㅡㅡㅡㅡㅡㅡㅡㅡㅡㅡㅡㅡㅡㅡㅡㅡㅡㅡㅡㅡㅡㅡㅡㅡ솔져가 딜 17->20->19로 변함에 따라 메타가 바뀌는게 현실이야.수치 몇 바뀌는 것에 따라서 밸런스가 좌지우지 된다고.근데 니네는 밸런스를 저 따위로 맞추려 하니까 내가 반대할 수 밖에 없지.그래서 내가 겐지 하향하지 말라는 글을 올릴때마다 애들이 나한테애1미터진 겐지쉴더 정신병자 *#%@#*<-(실제로 들은 말임)이렇게 나한테 욕을 해.그래서 내가 물었지. 그럼 너는 무슨 좋은 하향안이 있냐고.그때마다 하는 말이 겐지 질풍 초기화 삭제 등...ㅋㅋㅋㅋㅋㅋㅋ내가 상위권만 보고 밸런스 패치를 해야한다고 생각한 것도 이것 때문이야.일반 유저들을 고려해서 밸런스 패치를 하려하면저 따위 썩어빠진 하향안을 내놓는단 말이야.그럴바엔 차라리 상위권만 보고 밸런스 패치를 하는 게 맞아.너네 상위권에선 수비영웅이 안 좋지만 왜 상향 안 되는지 알지?그건 하위권에선 수비영웅 들기만 하면 승률이 너무 높아지기 때문이야.하위권에선 사기니까 전체 유저층을 고려하자면 수비영웅 상향이 불가능한거야.겐지는 심해에서는 겐지 실력도 부족하고 수비영웅이 강세라서 사기가 아닌데중위권에선 겐지 대응은 잘 못하는데 겐지 유저들은 잘하니 엄청난 사기영웅이야.그리고 상위권에선 사기영웅이 아니야.내가 프로선수들 방송을 자주 보니까 보는 건 정확할거야.물론 겐지가 돌진메타에 힘입어 돌진탱커와 좋은 시너지를 내는 건 맞아.근데 겐지가 그렇게 사기면 대회에 솜브라,파라,솔저는 왜 나오지?겐지 외의 영웅도 대회에 나오는 이유는 특정 상황에선 겐지보다 좋기 때문이야.게다가 요즘은 메르시 메타라 발키리를 제압하기 좋은 솔저가겐지보다 더 각광받는 상황이고.상위권 애들은 겐지 대응도 잘하는 편이니까.상위권에선 이렇게 상황에 따라 메타에 따라솜브라,파라,솔저,겐지를 골고루 쓸 수 있는 상황이야.오버워치는 프로선수와 일반유저 모두를 고려한 밸런스 패치를 하는데전체를 고려하자면 겐지는 밸런스가 잘 맞다는 거야.근데 중위권 유저 너네가 겐지한테 그렇게 불만이면 현실적인 패치안을 내놓으라고.차라리 둠피스트도 사기적인 우클릭 판정이 하향되었으니겐지의 후한 튕겨내기 판정 좀 하향해달라고 하든가.아니면 디바 리메이크 한 것처럼 겐지도 리메이크 해달라고 하든가.하향할거면 차츰차츰 하향하거나, 아니면 하향한만큼 다른 것 상향해야하는 거 아냐?내가 볼 땐 너네는 그냥 겐지를 관짝에 박으려고 하는 것 같애.제프 카플란도 밸런스 패치할 때 빼앗아 간게 있으면 준 것도 있어.너네 로드호그 원콤 시절에 사기라고 징징댄 적 있었잖아?프로선수들은 그 당시에 이미 돌진메타였기 때문에로드호그가 아무리 원콤을 낼 수 있었다고 해도기동력과 포커싱 능력이 딸리기 때문에 호그 기용을 안 했어.상위권에선 안 좋은 영웅이었지.근데 일반 유저들 사이에서는 돌진메타가 주류픽이 아니니까호그가 사기처럼 느껴질 수 밖에 없지.그런데 제프 카플란은 너네들 의견을 수렴해서로드호그 원콤을 없애줬잖아?대신 E를 상향시켜줘서 예전만큼 위협적이진 않지만일반 유저들 사이에서는 어떻게든 쓰일 수라도 있게 만들어줬잖아?근데 너넨 밑도끝도 없이 하향만 하려고 해.내가 볼 땐 제프카플란이 너네보다 밸런스 패치는 잘 하는 것 같다.그리고 너네는 단순히 겐지한테 썰리니까 빡쳐서 글을 쓰는 것 같아.밸런스를 객관적으로 보려는 노력은 눈곱만큼도 없어.너희는 밸런스를 논할 자격이 없다.그리고 겐지 하향한다고 돌진메타 끝나는게 아니다.일반유저들은 돌진메타 잘 쓰지도 않으니프로기준으로 말하면상위권에선 메르시가 너무 사기라서 거의 필수픽이 되었다.공방에서도 메르시가 사기인건 마찬가지고.메르시를 잡기 위해 솔트 돌진메타를 쓴다.돌진메타를 끝내기 위해서는돌진메타 포커싱의 핵심축인 윈스턴-트레이서를 하향해야 하는거다.',\n",
       " '돌진의 창이 너프가 안된다면 바뀌질 않습니다 그 증거가 디바 메트릭스 패치고요 또한 겐지 너프 주장 중에는 궁극기 게이지 증가 중에,  표창 사거리 감소, 질풍참 선딜레이나 결정타 시에만 초기화, 튕겨내기 시 근접공격 허용과 범위 감소 등의 많은 의견을 제시했습니다단지 당신은 보지 않으려고 했을 뿐이죠',\n",
       " '1. 궁게이지 하향되면 젠야타,루시우랑 용검 쿨이 똑같이 돌게 되면겐지는 절대 용검쓰고 킬을 못함. 트레이서 완벽 하위호환 영웅이 됨.2. 표창 사거리 감소는 의미가 없음. 겐지는 원거리에서 표창 날리는게사기였던게 아니니까. 원거리에서는 오히려 솔저가 더 셈.겐지는 붙었을 때가 사기인 거니까 사거리 감소는 무의미.3. 질풍참 선딜레이,결정타 시에만 초기화이건 걍 말이 안 됨.트레도 점멸,역행에 선딜레이가 없는데 겐지는 선딜레이가 생긴다?이러면 트레이서 완벽 하위호환. 겐지가 사장됨.게다가 질풍참 결정타 시에만 초기화는 더 말이 안됨.원래 돌진메타 핵심 딜링은 윈스턴-트레이서임.근데 윈,트 가 막타를 먹게 되면 겐지는 질풍참을 아예 못 씀.생존력이 잉여가 되서 1대1만 가능하고 6대6에서는 하자가 있는 영웅이 됨.4. 튕겨내기 범위 감소,근접공격 허용이건 나름 일리있는듯? 범위는 엄청나게 넓긴 했음',\n",
       " '이 사람의 글을 다 읽어본 사람이라면 알거야 얘가 얼마나 앞뒤 꽉막힌 끔찍한 관종인지',\n",
       " '1.궁빠졌을때 쓰면되지.궁쓰는것도 예상않하고 쓰는 사람은 킬에 눈돌아간 놈이나 생각 않하는 놈들뿐일꺼임2.표창사거리 너프는 무의미가 아니지.대부분의 영웅은 거리에 따라 데미지가 낮아지는데 옴닉이라도 손으로 던지는 표창이 저격수와 같이 사거리 무제한에 데미지도 안줄어드는게 말이됨?3.질풍참 초기화 삭제 자체는 반대인데 그래도 튕겨내기 > 질풍참 사이의 딜레이는 있어야한다고 생각한다. 0.5초 정도의 딜에이와 쿨타임 초기화도 트레이서 점멸처럼 충전 및 쿨타임이 존재해야한다고 생각한다.4번은 할말 없다.다만 카운터 칠게 좀더 많았으면 한다.',\n",
       " '저도 겐지를 제일 좋아하는데 겐지는 약점이 많은영웅입니다그냥 무조건 나는 겐지 개고수니까 이길수있어 하고 꼴픽을 많이 했지만 솔직히 겐지가 상대하기 좋은 영웅들이 안나올경우 겐지픽은 트롤픽입니다.특히 수비겐지는 공격겐지랑 다른의미로 난이도가 높고공격겐지는 다른테크닉이 필요하고 상대 수비조합에따라 그냥 개트롤픽 멀리서 표창만던져야하는 경우도 생깁니다만약 그런상황이라면 다른딜러가 낫죠',\n",
       " '그럼 막말로 라인 돌진박아서 적 죽이면 돌진 초기화 시켜줘. 뭔되고 뭔 안되냐?',\n",
       " '둠피 우클로 죽이면 초기화시켜줘겐지는 맘만먹으면 동서남북으로 2단점프 벽타기로 도망갈수있자나.약점이라곤 팟지따보겠다고 도망갈수있는상황에도 적진에서 혼자 용가리춤추다 죽는게 약점이지.',\n",
       " ' 겐지상대하기 좋은영웅? 겐지 이동기 따라가는 애들이있나? 겐지는 도망갈수있는대도 팟지따보겠다고 덤비다 죽는게 약점이지. 겐지충들 입장에서는 적을 못따니까 겐지 않좋아요 이러는대. 얼마나 실력이 딸리면 계속 막는입장인 영웅도 못따는거냐. 시메난 톨비같은애들도 수비만할수있지 도망가는 겐지 못따니까 지금 메타가 이따윈거야.',\n",
       " '라인은 데미지 300인데 비교할걸 비교해야지.라인은 피니시 공격이 뎀지 300에다 적을 제압하는 CC기이고,잡지 못 한 적은 뎀지 50주고 밀치기 CC효과를 줌.질풍보다 맞추기가 힘들어서 그렇지맞추기만 하면 진형붕괴에다 적군 필킬인 기술을초기화시키는 게 말이 됨?',\n",
       " '튕겨내기 근접공격 반사 삭제나 튕겨냐기시 데미지 퍼센트 조정의견도 있는데 그 얇은 칼로 라인 망치까지 튕겨내는건 솔직히 말이 안됨. 독일의 기술력이....',\n",
       " '이틀 전 100점 올리고 최고점 찍었다가 그 다음날 100점 고스란히 반납했다. 솔큐로 연승하는 사람을 왜 3~4인큐 다인큐에 연속으로 꼽사리 끼게 만들어서 결국은 패배하게 만드는 거야! 3~4명 중 두명이 못하는 애면 이길 수가 없다고! 제 역할 못하는 애들이 또 말많고 타이핑은 오질라게 많이 쳐! 다인큐로 이래라 저래라 할 시간에 플레이를 하라고!! 솔큐들하고 하면 승률 70~80% 나오는데 다인큐에만 꼽사리 되면 승률이 반토막 난다! 진짜 블리자드 매칭 짜증난다.  고랩들이 지쳐서 패작하는 이유를 알 것 같아.',\n",
       " '블리자드식 매칭 때문에 지쳐서 당분간 플레이 시간 대폭 줄인다. 오버워치는 관리 엉망인거 고스란히 반영되고 스팀 게임아 흥해라!!',\n",
       " '원래 밤시간에 오버워치 하고 있었는데 오늘은 안하니까 허전하네. 다른거 하다보면 이것도 곧 적응되겠지. 블리자드 매칭 시스템 생각하면 접하고 싶은 생각이 뚝 떨어지는 마법.  연상하면 자동으로 스트레스 받아서 리그 같은거도 안볼거다.',\n",
       " '전 300점 까짐 ㅋ  골드가 브론즈 댈구 와서 하던데.. 전그래서 던질려구요 다음시즌에는 걍 접어야겠음 ㅋㅋ',\n",
       " '왜이렇게 팅기는거야 나만 그런거?',\n",
       " '이때까지 그래도 애정하는 게임이라고 꾸준히 해왔는데...대리, 부계정, 패작, 핵, 경쟁 티어 신뢰성이 다섯가지가 평소에 가장 큰 문제인데 이를 잡는 과정이 전혀 보이질 않는다내부적으로 하고있을지는 모르겠다. 하지만 일반 유저는 전혀 체감이 안돼그마 대리란 놈들이 다야 올려준다고 유저 모집하질 않나, 큐잡고 인성질 하면서 골드 터뜨리는거보고 빡쳐서 이제는 지우련다. 내가 괜히 샀지, 피방에 들인 돈이며 산돈이며 진짜 아깝다. 그래도 지금까지는 재미는 있다고 여겼는데 남일인줄 알았는데 내가 인성질에 멘탈 터지니까 바로 정떨어지네진짜... 이젠 스팀에나 돈써야겠다. 이젠 옵치때문에 블쟈한테 돈쓰기가 싫다. 스팀은 사면 게임이 쌓이기라도 하지 옵치는 내가 더 스트레스만 받아.',\n",
       " '얇고 길게 가자',\n",
       " 'ㅋㅋㅋㅋㅋㅋㅋㅋㅋㅋㅋ',\n",
       " '일단 얇아지는데는 성공했다.',\n",
       " '조만간 접고 베그나 롤하러 갈거임',\n",
       " '핵쟁이랑 대리하는것들도똑같아.. 자기는 대리 핵이아니라고말하지.. 범죄자랑 같은 심리야',\n",
       " '내가 한판이기면 다야가시는분하고 듀오해서갓는데 적다이아 플레만잇음 근데 골드인 나보다도못함가까스로 밟는게아니라 내가 무참히 씹는수준임 걍 대리충은 답이없어',\n",
       " '업대이트로 핵이 막힐때마다 애임핵유저의 실력이 기하급수적으로 떨어지죠.매번반복되던 일임',\n",
       " '한판 했는데 점수 안올라서 한판 더 해서 승 했는데 2판 다 점수가 안오릅니다.확인 부탁드립니다.',\n",
       " '안녕하세요. 오버워치를 재밌게하고있던 한 유저입니다. 일단 단도직입적으로 얘기 해드리자면 어제까지만 해도 재밌었던 오버워치가 오늘 트롤들을 만나고 밸런스 배치가 안돼서 100점을 떨궜고 힐러라고 욕먹고 그랬습니다.. 정말 오늘 오버워치 플레이를 통해서 너무 씁슬하고 재미가 없어졌네요. 트롤들은 다이아 구간에서도 넘쳐나고 뭐만하면 힐러탓 그러니 재밌던 오버워치가 재미도 없어졌습니다.. 뭐 이런 말 없이 접어도 돼지만 다른분들도 트롤이나 정치질로 인해 피해받는걸 모르실까봐 글남기고 접습니다.. ㅜㅜ',\n",
       " '저도 비슷한 상황입니다. 일요일부터 매칭이상해지기 시작하더니 어제까지 최종적으로 300점 떨궜습니다. 시간투자 많이했는데 제대로 된 게임을 거의해보지도 못하고 떨어지니 할 맛이 안나네요ㅡㅡ;;',\n",
       " '정말 트롤들이 판치고 몇판 조합 잘 맞춰져도 우리팀이 너무 못하거나 상대팀이 너무 잘하거나여서 .. 밸런스 패치 했다했는데 별로 한것 같지가 않네요',\n",
       " '세기 말 경쟁전이라 더 심각한것도 있긴 하지만 오버워치는 경쟁전 큐잡히는거 설정 다시 안하면 7시즌 부터 망무새도 사라질정도로 씹망할거임,유저들이 망겜망겜이라고 관심이라도 주면서 욕 해줄때, 그때롤이  잘해서 살아났죠',\n",
       " '레벨960 경쟁시즌2부터 플레 꾸준히 찍다가 이번시즌 실버에서 브론즈 점수때까지 하락했습니다.은장인데 티어가 그거밖에 안되냐 두게임당 한번꼴 던지는 놈들 나가는 놈들 이제 해탈했습니다. 트롤제재도 안되고 핵쟁이들이야 사그러 들었다지만 욕쟁이에 여성유저들 성희롱 고의적으로 점수 떨구는 놈들 이제 지겹네요 ㅎㅎ저도 슬슬 접을까 생각중이에요',\n",
       " '동감유.... 탱커 / 힐러 유저인데 이건 뭐 뭐 하면 힐러쓰레기 방벽을 왜 안드네....방벽이 다깨져 나갈 때까지 암것도 안하는 놈들이 욕이나 하고 앉아 있고힐주고 있는데 앞에 쳐나가서 우두둑 맞고 죽으면 힐이 안들어 오네...쩝 요즘 점점 할맛이 사라지고 있습니당',\n",
       " '나도그런데.. 트롤패작도문제지만 대리하는놈들이 너무나 많다.. !@#$들 그따위로인생살다가 아사해서 뒤져버렸으면 좋겟다..',\n",
       " '아무리 팀을 잘 만난다고 해도 이건 너무합니다. 경쟁전 점수는 실력으로 올리는 것 이라고 알고 있는데. 티어가 골드인 저보다도 너무 못하는  사람이 마스터라는 티어를 가지고 있다는 것이 말이 되지 않는다고 생각합니다. 분명 에임도 저보다 나쁘고 오버워치에 대해 아는 것도 없으면서 마스터라는 곳에 가있다니... 정말 실망 했습니다.',\n",
       " '몰랐음? 어느정도 실력있어도 운빨 졷망게임이란거',\n",
       " '운빨!망이라기보단 이게 다 다인큐때문못하는사람 억지로 끌고올라가는 사람들이 경쟁전을 망쳐놈',\n",
       " '실력아님 100퍼 운빨임',\n",
       " '하스스톤: 운빨을 실력으로 커버가능오버워치: 운빨을 실력으로 커버불가능',\n",
       " '저기요 경쟁전 할때 제발 공격진이면 공격진만 힐러진은 힐러진만 도움이나 탱커 역할군으로 나누어서매칭을 돌려주었으면합니다딜러가 매칭 돌리고 들어와서 한조 여도 위도우여도 솜브라여도 나무지 4명이나 5명은 딜러 못고르자나요 최대한 픽 맞추면 그래도 한조 했던새기 맥크리나 겐지든 뭐든 한조는 안하는 꼬라지가 나옵니다 이래야 아 저새끼 한저했어 나도 위도우 나도 솜브라 나도 겐지 나도 트레이서 개 망픽 안보자나요 한명은 끌고 갈수있는데 팀원들이 다 던지면 진짜 답없어요이게 안될시에 그냥 경쟁전이면 팀끼리 만나기전에 옆동네 롤처럼 벤픽을 할수있게끔해줘요진짜 끔찍하게 조합이 안맞는 게임이 너무 싫습니다.너나 할것없이 시작전에 프로필보고 응 목처 1.1 2.1 하면서 시작도 전에 터지고 부모안부가 나와요 급식새끼들 상대하기도 진짜 토나올지경입니다.5인큐 돌리든 4인큐를 돌리든 한놈이 던지고 게임 자체를 안해요심지어 나가버립니다 1분지나서4인이나 5인 신고를 해도 뭐 이게 신고가 되었는지 말았는지 뭐 알수가 있나요 오버워치라는 게임 피시방에서 안사고 즐기는 유저가 있는 반면에돈주고 산 사람도 집유저도 있어요 생각해줘요 개호구도 아니고 이게 뭡니까캐릭 밸런스고 나발이고 뭐가 중요합니까 캐릭을 하는 사람이 사람이 아닌 짐승인데',\n",
       " '오버워치는 팀게임이 아니다',\n",
       " '영웅별 음성 대화가 잘 나오질 않는데 어떡해야죠..?다른 사람들은 음성 대화에서 4가지 선택 중에 아무거나 연속으로 해도 대사가 술술 나오는데 저는 아무리 대화를 해도 음성 하나 나오지도 않고..가끔 가다 인사나 감사 표시를 해도 채팅창에 뜨지도 행동도 취하지 않네요..영웅별 음성대화가 먹혀버려서 고민입니다.. (캔슬 당함ㅠ)',\n",
       " '윈스턴 같은거..',\n",
       " '겐지 피 150트레이서 산탄율 리퍼급으로 조정(근거리에서만 안정적인 딜을 할 수 있게 변경하여 위험이 늘어남)이렇게 하면 됩니다. 애초에 겐트는 카운터가 크게 없어요. 도주기가 많아서',\n",
       " '토르 바스 메이 시메 픽률을 올리게 조정이 필요합니다',\n",
       " '그래서 둠피 나오고 정크 상향한거 아닌가요? 둠피 정크 있으니까 겐트만 나오는게 아니라 솔맥도 종종 나오던데. 윈디를 조정해야지;; 경쟁전에서는 둘 다 나오던 둘 중에 하나 나오던 무조건 나오니까',\n",
       " '겐트잡으라고 출시한 솜브라 와 둠피는 꺼내실 생각을 안하시네.... 님이 두 캐릭터 공부해서 쓰려고 해보세요. 두 캐릭 겐트상대로 꽤 강하니까',\n",
       " '둠피 출시하고 정크, 리퍼 상향하면서 각각 겐트 견제하던 윈디 간접하향당하니까 겐트가 더 설침',\n",
       " '애초에 돌진이 나온게 윈스턴 버프였는데 그 윈스턴을 버프하는건 아님',\n",
       " '윈스턴 전기 공격에 약간이지만 천천히 느려지는 효과나 좀 주세요. 그리고 기본 공격 살짝만 올려줘도 윈스턴 유저는 환영 할 겁니다. 전기줄기가 여러갈래로 나뉘면 받는 데미지가 줄어든다던지 하는 효과도 있었으면 합니다. 전기 경험해 보신분 있으실텐데, 윈스턴이 쓰는거는 직류인지 교류인지 잘 모르겠지만, 직류이면 튕겨나갈것이요 교류이면 붙잡아 둘것 같습니다. 현실 고증 약간 부탁드립니다. 이렇게만 된다면 겐지 카운터로는 충분할 것 같네요. 아마 직류 30% 교류 70%정도 섞였을 것 같은 무기입니다. 교류만 있다면 앞으로 안나갈테니깐요.',\n",
       " '와 진짜로 무섭다 ㅋㅋ 윈스턴 나오면 겐트 확실히 활동범위 줄어드는데다 윈스턴 이미 상향한번 받았는데 무섭다무서워',\n",
       " '겐트 버프로 돌진메타가 온게 아니라 윈스턴 버프먹고 윈스턴 디바의 최대 카운터였던 로드호그가 너프먹으면서 돌진메타가 시작된겁니다.',\n",
       " '윈스 상향하면 힐러 다죽어요',\n",
       " '겐지유저로서, 겐지는 내가보긴 섬광쳐맞고 끝나는데트레도 섬광헤드쳐맞고 끝나는데 생각해봐. 겐지 팅겨내기써봤자 맥크리 섬광범위 넓어서 걍 바닥이나 그런대 뿌리면 겐지 기절하는거 아냐? 솔직히 이건 저렙대도 유튭보고 다배워서 온다 트레는 뭐 섬광맞추고 차근히 헤드한방노리면되는데 에임 참 ㅈ같아서 샷건치는놈들이 항의를하지 여기서 범위를 더 넓혀보자 겐지나 트레는 근접해서 치는게 아픈거알지? 멀리서치면 말뚝딜이잖아 그럼 근접했을때 섬광뿌리고 한타노리면 끝나는거야 근데 그것을 실패했다? 뒤로 빠져서 노리면 끝인데 너넨 그걸 못하는사람들이 대부분이라 항의를하지 그럼 잘 생각해보자 게임 내에서도 팁이 에임없는히로를 꺼내서 트레잡거나 하면 좋다하지? 그래 그말이맞아 윈스꺼내서 트레겐지 다 조지면되는거야 겐지는 윈스에게 그냥 먹히는거고 나방 그녀석도 아무리 점멸쓰고 역행쓰라해 지지직하면 끝이야 근데 너네 대부분 그것마저 못하지 그건 너네잘못이지 너네 손에 탓을해 항의같은 필요없는거 하지말고. 이건 어디까지나 내 생각이다 솔직히 이글보고 많은사람이 이럴거야 \"낮은 티어에선 견제하기 어렵다구~\" 생각해봐 겐트도 낮은티어 낮은실력이야 다이아든 브론즈든 천상계든 똑같다고',\n",
       " '이거는 맞는말 ㅋㅋ겐지는 카운터가 엄청나게 많고 사실 상대편 에임이 안좋길 기대해야하는 영웅인데그정도로 겐지는 원거리에서는 잘 맞추기도 힘든 표창짤짤이만 해야되는데사실상 그거는 딜러역할이 안되죠',\n",
       " '호그도 그렇고, 둠피도 그렇고, 정크도 그렇고. 이쯤되면 학습능력이 없지않는이상 다른 누군가를 상향시킬 때가 아니라 너프시켜야한다는 의심이라도 생길법한데.. 게임이 쇠락하고 사람떠나면서 남는게 뭐가있을지따윈 생각안하고 자기 이익만 챙기려보는 이기적인 유저들 참 대단한 것 같아요.치킨게임과 제로섬게임이 모든 게임 밸런싱 논쟁마다 반복되고 대부분 그 논쟁이란게 개선되는 방향보다는 그냥 콜로세움이나 투기장화에 그치고마니까요. 이기고 올라서려는 욕망이 강하게 지배하는 사회가 얼마나 건강한 사회일지는 퍽이나 잘 알겠더군요.',\n",
       " '최소한 스투에서는 사도 너프는 모든 유저가 하라고 외치기는 했는데 이건 뭐 답도 없네요',\n",
       " '튕겨내기가 산탄 공격에 대해 절반만 튕겨낼 수 있게 바꿔주기만 해도 조금이나마 숨통이 트일 것 같네요.',\n",
       " ' 무서운 이과생',\n",
       " '1. 와우여기는 걍 5년이상유저들이 주류, 초보를 신기해하는 신비의 세계 아제로스2.옵치여기는 돌진메타가 주류, 은장이상을 신기해하는 신비의 세계 오버워치3.와우 한번 만렙찍으면 부캐들 만렙찍는거 대강 쉬움4. 옵치한번 브론즈찍으면 계속계속 브론즈찍는거 매우 쉬움5.와우저~중레벨 탱힐 품귀 6.옵치저~중티어 탱힐 무시7.와우 적어도 퀘스트 귀찮으면 레이드 인던같은게잇어8.옵치닥.치고 아케 경쟁 빠대 사지에서 골라 시키드라']"
      ]
     },
     "execution_count": 29,
     "metadata": {},
     "output_type": "execute_result"
    }
   ],
   "source": [
    "comments"
   ]
  },
  {
   "cell_type": "code",
   "execution_count": 463,
   "metadata": {
    "collapsed": true
   },
   "outputs": [],
   "source": [
    "from sklearn.feature_extraction.text import CountVectorizer\n",
    "import numpy\n",
    "import operator"
   ]
  },
  {
   "cell_type": "code",
   "execution_count": 464,
   "metadata": {
    "collapsed": true
   },
   "outputs": [],
   "source": [
    "cv = CountVectorizer(max_features=3000, stop_words='english')"
   ]
  },
  {
   "cell_type": "code",
   "execution_count": 465,
   "metadata": {
    "collapsed": true
   },
   "outputs": [],
   "source": [
    "tdm = cv.fit_transform(comments)"
   ]
  },
  {
   "cell_type": "code",
   "execution_count": 466,
   "metadata": {
    "collapsed": true
   },
   "outputs": [],
   "source": [
    "words = cv.get_feature_names()"
   ]
  },
  {
   "cell_type": "code",
   "execution_count": 467,
   "metadata": {
    "collapsed": true
   },
   "outputs": [],
   "source": [
    "count_mat = tdm.sum(axis=0)"
   ]
  },
  {
   "cell_type": "code",
   "execution_count": 468,
   "metadata": {
    "collapsed": true
   },
   "outputs": [],
   "source": [
    "count = numpy.squeeze(numpy.asarray(count_mat))"
   ]
  },
  {
   "cell_type": "code",
   "execution_count": 469,
   "metadata": {
    "collapsed": true
   },
   "outputs": [],
   "source": [
    "word_count = list(zip(words, count))"
   ]
  },
  {
   "cell_type": "code",
   "execution_count": 470,
   "metadata": {
    "collapsed": true
   },
   "outputs": [],
   "source": [
    "word_count = sorted(word_count,key=operator.itemgetter(1),reverse=True)   "
   ]
  },
  {
   "cell_type": "code",
   "execution_count": 471,
   "metadata": {
    "collapsed": true
   },
   "outputs": [],
   "source": [
    "%matplotlib inline"
   ]
  },
  {
   "cell_type": "code",
   "execution_count": 472,
   "metadata": {
    "collapsed": true
   },
   "outputs": [],
   "source": [
    "from matplotlib import pyplot\n",
    "from wordcloud import WordCloud"
   ]
  },
  {
   "cell_type": "code",
   "execution_count": 473,
   "metadata": {
    "collapsed": true
   },
   "outputs": [],
   "source": [
    "wc = WordCloud(background_color='white', width=400, height=300)\n",
    "cloud = wc.fit_words(dict(word_count))"
   ]
  },
  {
   "cell_type": "code",
   "execution_count": 474,
   "metadata": {},
   "outputs": [
    {
     "data": {
      "image/png": "[encoded data removed]",
      "text/plain": [
       "<matplotlib.figure.Figure at 0x229b2a14e10>"
      ]
     },
     "metadata": {},
     "output_type": "display_data"
    }
   ],
   "source": [
    "pyplot.figure(figsize=(12, 9))\n",
    "pyplot.imshow(cloud)\n",
    "pyplot.axis(\"off\")\n",
    "pyplot.show()"
   ]
  },
  {
   "cell_type": "code",
   "execution_count": null,
   "metadata": {
    "collapsed": true
   },
   "outputs": [],
   "source": []
  }
 ],
 "metadata": {
  "kernelspec": {
   "display_name": "Python 3",
   "language": "python",
   "name": "python3"
  },
  "language_info": {
   "codemirror_mode": {
    "name": "ipython",
    "version": 3
   },
   "file_extension": ".py",
   "mimetype": "text/x-python",
   "name": "python",
   "nbconvert_exporter": "python",
   "pygments_lexer": "ipython3",
   "version": "3.6.4"
  }
 },
 "nbformat": 4,
 "nbformat_minor": 2
}
